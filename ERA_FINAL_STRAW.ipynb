{
 "cells": [
  {
   "cell_type": "code",
   "execution_count": 5,
   "metadata": {
    "id": "efwJAdHkIhal"
   },
   "outputs": [],
   "source": [
    "import pandas as pd\n",
    "import numpy as np"
   ]
  },
  {
   "cell_type": "markdown",
   "metadata": {
    "id": "ipnUNerBb1Uk"
   },
   "source": [
    "#**PEAK HOURS**"
   ]
  },
  {
   "cell_type": "markdown",
   "metadata": {
    "id": "ISPYbhstKM5-"
   },
   "source": [
    "#CODE FOR PEAK HOURS FOR GOING FROM RAJIV GANDHI TO NIRANJANPUR SQUARE"
   ]
  },
  {
   "cell_type": "code",
   "execution_count": 6,
   "metadata": {
    "id": "sqVCJwH1J-H1"
   },
   "outputs": [],
   "source": [
    "import random\n",
    "random.seed(999)\n",
    "\n",
    "import numpy as np\n",
    "import pandas as pd"
   ]
  },
  {
   "cell_type": "code",
   "execution_count": 8,
   "metadata": {
    "colab": {
     "base_uri": "https://localhost:8080/"
    },
    "id": "mw8s1TJ0KweY",
    "outputId": "c9e019d4-bcf4-437f-b74e-e7ea66318aea"
   },
   "outputs": [
    {
     "name": "stdout",
     "output_type": "stream",
     "text": [
      "[26, 23, 24, 25, 21, 25, 25, 24, 28, 18, 24, 24, 30, 32, 23, 25, 19, 18, 21, 25, 26, 23, 26, 22, 32, 20, 29, 32, 29, 21, 29, 31, 19, 33, 33, 28, 19, 23, 26, 24, 24, 23, 21, 26, 15, 29, 37, 21, 22, 17, 26, 29, 23, 23, 33, 19, 28, 25, 31, 29, 32, 19, 20, 28, 32, 27, 29, 33, 12, 44, 26, 25, 29, 21, 37, 35, 21, 20, 28, 33, 25, 19, 28, 25, 27, 18, 16, 18, 26, 29, 21, 25, 31, 27, 35, 33, 19, 22, 23, 22, 23, 31, 13, 18, 26, 15, 26, 29, 25, 18, 16, 34, 37, 41, 13, 23, 28, 22, 23, 19, 17, 29, 24, 19, 16, 20, 28, 31, 24, 19, 27, 22, 22, 24, 20, 19, 29, 32, 18, 44, 18, 26, 24, 26, 10, 20, 21, 31, 31, 27, 28, 12, 25, 31, 29, 31, 36, 35, 28, 23, 14, 21, 23, 29, 23, 26, 18, 19, 22, 17, 34, 25, 22, 33, 17, 26, 36, 19, 41, 17, 19, 28, 26, 27, 27, 25, 20, 18, 32, 31, 23, 25, 17, 17, 31, 33, 29, 25, 17, 32, 26, 27, 21, 22, 31, 16, 28, 29, 30, 24, 28, 22, 25, 16, 16, 21, 21, 26, 22, 33, 31, 23, 26, 33, 27, 19, 32, 30, 29, 25, 19, 32, 40, 28, 29, 13, 28, 30, 27, 26, 42, 25, 28, 30, 23, 18, 25, 24, 11, 22, 35, 32, 26, 19, 17, 27, 21, 20, 27, 26, 43, 30, 23, 32, 37, 33, 19, 25, 21, 19, 16, 20, 24, 27, 24, 21, 28, 16, 23, 33, 19, 15, 26, 24, 18, 20, 29, 29, 19, 32, 22, 29, 30, 22, 26, 20, 26, 21, 25, 22, 26, 18, 16, 26, 31, 23, 30, 27, 18, 24, 22, 20, 22, 21, 25, 22, 28, 21, 24, 20, 31, 22, 26, 30, 15, 30, 23, 19, 34, 32, 16, 29, 22, 22, 25, 32, 21, 18, 32, 32, 25, 19, 23, 24, 28, 18, 22, 20, 22, 19, 24, 22, 38, 22, 22, 30, 25, 28, 22, 29, 25, 26, 36, 25, 33, 25, 24, 24, 35, 14, 24, 30, 33, 12, 18, 30, 27, 41, 26, 26, 19, 23, 16, 16, 27, 26, 32, 22, 24, 23, 21, 22, 24, 33, 35, 16, 32, 20, 21, 19, 30, 21, 20, 19, 32, 28, 28, 26, 25, 21, 42, 17, 19, 34, 21, 13, 30, 23, 19, 27, 23, 17, 41, 28, 22, 25, 28, 39, 31, 24, 38, 24, 43, 29, 19, 24, 22, 29, 32, 30, 27, 17, 30, 23, 23, 22, 22, 25, 27, 14, 29, 25, 32, 25, 23, 28, 25, 18, 30, 24, 27, 27, 25, 38, 17, 22, 25, 11, 21, 31, 23, 32, 24, 17, 22, 22, 25, 13, 23, 33, 33, 24, 33, 21, 22, 19, 30, 20, 32, 25, 25, 20, 29, 31, 25, 26, 29, 19, 32, 20, 23, 15, 25, 25, 24, 21, 33, 22, 25, 25, 23, 25, 24, 31, 19, 14, 24, 28, 33, 19, 27, 27, 32, 20, 29, 18, 28, 20, 40, 25, 33, 16, 17, 27, 20, 19, 27, 29, 28, 26, 22, 24, 17, 31, 11, 22, 18, 27, 23, 27, 27, 24, 9, 30, 17, 23, 33, 29, 18, 18, 29, 23, 45, 26, 25, 24, 17, 18, 33, 22, 19, 15, 26, 22, 20, 32, 19, 25, 30, 27, 30, 25, 27, 24, 15, 26, 21, 17, 19, 30, 23, 29, 23, 26, 25, 26, 19, 25, 21, 34, 14, 20, 22, 17, 26, 34, 30, 24, 28, 42, 24, 21, 27, 30, 22, 30, 29, 17, 20, 18, 21, 22, 34, 27, 23, 19, 25, 28, 8, 22, 28, 26, 20, 23, 31, 21, 26, 36, 22, 24, 25, 21, 36, 22, 16, 16, 30, 25, 26, 34, 22, 31, 30, 31, 17, 32, 26, 33, 27, 34, 27, 22, 40, 19, 22, 17, 29, 37, 24, 26, 30, 19, 32, 25, 30, 14, 21, 28, 18, 27, 12, 25, 22, 32, 25, 27, 26, 17, 26, 33, 25, 30, 22, 27, 25, 27, 25, 24, 22, 27, 30, 36, 22, 27, 25, 28, 23, 27, 24, 30, 23, 19, 23, 26, 31, 32, 20, 48, 23, 20, 21, 19, 38, 22, 24, 26, 28, 24, 16, 27, 23, 27, 25, 41, 33, 27, 24, 17, 35, 18, 28, 27, 15, 19, 28, 32, 12, 24, 29, 17, 33, 24, 33, 14, 17, 32, 31, 21, 25, 24, 27, 28, 19, 18, 41, 26, 14, 34, 20, 19, 24, 22, 21, 24, 19, 19, 22, 24, 32, 30, 23, 24, 43, 25, 38, 17, 28, 26, 29, 16, 28, 18, 25, 33, 26, 16, 28, 23, 31, 25, 26, 18, 36, 17, 21, 32, 24, 16, 15, 24, 24, 18, 23, 24, 27, 36, 19, 22, 21, 14, 29, 20, 31, 40, 29, 20, 15, 19, 23, 27, 25, 32, 13, 14, 15, 23, 29, 17, 28, 15, 27, 31, 16, 14, 33, 30, 24, 18, 18, 18, 14, 33, 25, 24, 30, 29, 26, 28, 26, 29, 20, 25, 24, 19, 19, 20, 30, 20, 15, 22, 22, 25, 18, 26, 24, 26, 32, 22, 32, 33, 19, 41, 20, 16, 23, 23, 13, 18, 19, 28, 20, 20, 31, 28, 27, 30, 17, 22, 17, 21, 32, 42, 23, 28, 25, 30, 22, 27, 20, 23, 19, 34, 19, 25, 11, 30, 27, 25, 21, 21, 27, 25, 25, 21, 27, 20, 19, 18, 34, 39, 31, 18, 24, 29, 21, 31, 20, 22, 28, 26, 24, 16, 23, 32, 22, 37, 20, 28, 33, 25, 28, 24, 20, 45, 27, 35, 17, 25, 26, 20, 15, 39, 32, 25, 24, 36, 23, 24, 24, 14, 18, 28, 29, 26, 31, 24, 29, 27, 17, 30, 26, 27, 23, 32, 31, 24, 21, 22, 23, 21, 25, 27, 32, 23, 27, 25, 31, 19, 25, 27]\n"
     ]
    }
   ],
   "source": [
    "def calculate_number_buses(people, headway=3, time=240, speed=15, trip_distance=11.57, buses = 120):\n",
    "\n",
    "  trips = pd.DataFrame(columns=[\"Bus number\", \"Number of trips\"])\n",
    "  trip_time = trip_distance / (speed / 60)\n",
    "\n",
    "\n",
    "  for i in range(0, buses):\n",
    "    x = int(time/trip_time)\n",
    "    time = time - headway\n",
    "\n",
    "    dict1 = {'Bus number': [i+1], 'Number of trips': [x]}\n",
    "    df2 = pd.DataFrame(dict1)\n",
    "    trips = pd.concat([trips, df2], ignore_index = True)\n",
    "\n",
    "    trips.reset_index(drop = True)\n",
    "\n",
    "  sum1 = 0\n",
    "  for i, row in trips.iterrows():\n",
    "    sum1 = sum1 + (row[\"Number of trips\"] *51)\n",
    "    if sum1 > people:\n",
    "      return(row[\"Bus number\"])\n",
    "  return(row[\"Bus number\"])\n",
    "\n",
    "num_iterations = 1000\n",
    "results = []\n",
    "mean = 4835\n",
    "mean_hourly= mean/4\n",
    "std_dev = mean_hourly*0.20\n",
    "\n",
    "for i in range(num_iterations):\n",
    "    # generate a random number of total_people based on the mean and standard deviation\n",
    "    total_people = int(np.random.normal(mean_hourly, std_dev))\n",
    "    total_people = total_people*4\n",
    "\n",
    "    # calculate the optimal number of trips based on the random total_people value\n",
    "    num_buses = calculate_number_buses(total_people, headway=3, time=240, speed=15, trip_distance=11.57)\n",
    "\n",
    "    # append the result to the results list\n",
    "    results.append(int(num_buses))\n",
    "    # results.append(total_people)\n",
    "print(results)"
   ]
  },
  {
   "cell_type": "code",
   "execution_count": 9,
   "metadata": {
    "colab": {
     "base_uri": "https://localhost:8080/"
    },
    "id": "40_VICP4RP_h",
    "outputId": "44d69fcc-b06e-4564-ccff-b54d1eacc476"
   },
   "outputs": [
    {
     "data": {
      "text/plain": [
       "25"
      ]
     },
     "execution_count": 9,
     "metadata": {},
     "output_type": "execute_result"
    }
   ],
   "source": [
    "round(np.mean(results))"
   ]
  },
  {
   "cell_type": "code",
   "execution_count": 7,
   "metadata": {
    "colab": {
     "base_uri": "https://localhost:8080/",
     "height": 542
    },
    "id": "boYGk4lWRTLJ",
    "outputId": "4a3c4de1-a3e8-4fb9-d60d-7b6989f71ff1"
   },
   "outputs": [
    {
     "data": {
      "text/html": [
       "<html>\n",
       "<head><meta charset=\"utf-8\" /></head>\n",
       "<body>\n",
       "    <div>            <script src=\"https://cdnjs.cloudflare.com/ajax/libs/mathjax/2.7.5/MathJax.js?config=TeX-AMS-MML_SVG\"></script><script type=\"text/javascript\">if (window.MathJax && window.MathJax.Hub && window.MathJax.Hub.Config) {window.MathJax.Hub.Config({SVG: {font: \"STIX-Web\"}});}</script>                <script type=\"text/javascript\">window.PlotlyConfig = {MathJaxConfig: 'local'};</script>\n",
       "        <script src=\"https://cdn.plot.ly/plotly-2.18.2.min.js\"></script>                <div id=\"1c7c2eb6-30b3-417e-aa70-ab07ac4c02f6\" class=\"plotly-graph-div\" style=\"height:525px; width:100%;\"></div>            <script type=\"text/javascript\">                                    window.PLOTLYENV=window.PLOTLYENV || {};                                    if (document.getElementById(\"1c7c2eb6-30b3-417e-aa70-ab07ac4c02f6\")) {                    Plotly.newPlot(                        \"1c7c2eb6-30b3-417e-aa70-ab07ac4c02f6\",                        [{\"nbinsx\":50,\"x\":[24,33,33,24,21,18,21,31,21,29,22,26,34,24,16,17,25,23,24,33,12,23,18,24,20,31,24,33,31,29,23,21,24,24,30,27,13,23,15,23,13,15,14,32,27,35,18,16,23,17,24,15,34,24,24,15,32,21,22,32,19,28,41,27,17,40,20,27,27,17,31,23,26,23,24,23,25,30,24,23,25,32,18,22,26,23,18,22,29,17,20,21,22,38,20,24,23,27,30,24,26,36,27,22,25,34,32,15,22,33,32,31,31,23,25,28,29,26,18,20,38,19,20,21,25,20,28,18,26,16,26,28,25,21,28,28,22,18,17,16,23,20,26,28,38,25,20,25,20,19,24,43,23,18,27,18,25,19,18,25,28,11,35,28,16,21,16,26,29,24,19,32,29,26,30,33,29,18,26,28,24,11,36,29,15,22,21,43,19,27,26,26,32,27,33,26,26,26,30,14,27,24,40,27,40,23,25,15,19,38,30,17,21,23,15,29,18,22,22,17,26,30,27,17,34,22,33,25,28,28,22,30,29,20,17,38,44,22,22,22,22,33,20,33,25,28,35,24,23,19,25,25,34,24,23,29,28,23,17,23,15,26,39,29,31,23,17,13,18,38,30,29,32,46,23,21,32,19,30,27,31,20,26,26,26,20,26,17,23,28,25,33,28,31,25,20,24,26,42,22,16,33,27,33,16,15,24,23,28,22,33,25,19,24,27,23,28,29,26,30,30,28,28,28,30,19,26,31,16,20,17,36,22,24,36,17,18,13,16,27,23,22,15,32,26,21,23,29,22,22,26,27,16,27,18,14,41,16,29,22,29,23,29,23,27,23,33,40,28,26,18,24,26,23,16,33,18,29,17,20,22,19,20,25,34,22,22,28,24,28,32,25,22,24,29,31,40,29,28,15,30,24,25,28,26,23,28,28,26,12,21,27,28,30,32,30,28,31,20,18,33,22,19,28,27,19,30,32,21,30,34,22,24,20,34,32,21,25,23,19,37,25,33,28,20,25,25,31,25,48,27,18,19,21,23,13,28,16,30,25,28,22,26,29,23,19,22,27,40,23,31,15,25,21,31,22,31,22,25,34,23,28,24,30,24,22,30,33,22,21,25,23,22,33,21,28,19,32,22,21,39,33,21,16,22,33,27,26,27,28,25,38,19,30,28,29,33,32,34,19,24,22,33,31,21,29,25,28,27,32,23,29,28,31,31,18,26,13,25,21,20,30,24,28,31,28,32,17,25,35,18,25,34,38,30,14,40,32,10,20,29,30,29,33,24,28,32,27,16,24,28,19,31,32,18,26,19,36,18,30,24,36,20,46,30,27,29,32,28,16,27,27,27,19,21,26,24,29,29,31,33,26,27,21,21,34,30,33,18,19,28,17,28,28,23,31,34,33,27,13,22,23,19,22,36,19,36,28,29,25,27,21,26,26,24,22,26,23,26,30,26,31,29,32,27,27,20,30,18,20,20,24,35,23,27,32,13,33,29,31,30,33,23,13,42,15,41,22,18,18,25,15,21,19,32,29,29,27,13,27,22,26,31,21,31,13,29,34,34,11,16,19,32,18,41,30,23,30,12,26,35,22,29,20,24,25,23,29,29,20,22,21,22,22,20,23,24,22,27,21,27,33,21,29,25,40,17,34,26,28,35,25,30,13,29,24,26,31,19,17,27,30,30,25,22,24,40,32,22,25,23,19,26,30,17,21,33,24,33,20,22,19,29,27,30,26,29,21,45,20,27,20,17,27,23,28,22,19,36,31,29,28,18,25,31,36,28,29,14,18,18,36,26,17,35,21,21,22,21,15,24,20,33,24,22,11,20,33,20,19,49,24,27,20,24,11,39,32,27,18,14,18,18,23,22,26,34,22,19,32,22,37,27,31,21,35,24,25,26,24,15,31,19,21,26,29,15,34,31,22,30,26,23,22,32,25,25,22,20,19,20,15,23,22,19,23,34,28,31,27,20,29,37,14,24,29,27,24,21,10,37,29,28,33,25,35,20,25,17,25,29,26,29,32,16,29,19,16,22,23,19,20,36,24,22,22,28,29,20,36,29,24,23,21,26,26,20,18,21,27,19,39,25,23,40,25,19,20,23,17,23,26,20,18,32,18,26,22,29,28,19,23,23,35,26,34,32,20,27,36,32,26,19,31,28,17,26,21,24,18,30,27,25,16,16,16,23,17,23,30,20,29,23,30,26,14,32,18,27,22,21,24,20,24,29,17,17,23,19,20,32,15,14,25,35,19,18,24,30,20],\"type\":\"histogram\"}],                        {\"title\":{\"text\":\"My Histogram\"},\"template\":{\"data\":{\"histogram2dcontour\":[{\"type\":\"histogram2dcontour\",\"colorbar\":{\"outlinewidth\":0,\"ticks\":\"\"},\"colorscale\":[[0.0,\"#0d0887\"],[0.1111111111111111,\"#46039f\"],[0.2222222222222222,\"#7201a8\"],[0.3333333333333333,\"#9c179e\"],[0.4444444444444444,\"#bd3786\"],[0.5555555555555556,\"#d8576b\"],[0.6666666666666666,\"#ed7953\"],[0.7777777777777778,\"#fb9f3a\"],[0.8888888888888888,\"#fdca26\"],[1.0,\"#f0f921\"]]}],\"choropleth\":[{\"type\":\"choropleth\",\"colorbar\":{\"outlinewidth\":0,\"ticks\":\"\"}}],\"histogram2d\":[{\"type\":\"histogram2d\",\"colorbar\":{\"outlinewidth\":0,\"ticks\":\"\"},\"colorscale\":[[0.0,\"#0d0887\"],[0.1111111111111111,\"#46039f\"],[0.2222222222222222,\"#7201a8\"],[0.3333333333333333,\"#9c179e\"],[0.4444444444444444,\"#bd3786\"],[0.5555555555555556,\"#d8576b\"],[0.6666666666666666,\"#ed7953\"],[0.7777777777777778,\"#fb9f3a\"],[0.8888888888888888,\"#fdca26\"],[1.0,\"#f0f921\"]]}],\"heatmap\":[{\"type\":\"heatmap\",\"colorbar\":{\"outlinewidth\":0,\"ticks\":\"\"},\"colorscale\":[[0.0,\"#0d0887\"],[0.1111111111111111,\"#46039f\"],[0.2222222222222222,\"#7201a8\"],[0.3333333333333333,\"#9c179e\"],[0.4444444444444444,\"#bd3786\"],[0.5555555555555556,\"#d8576b\"],[0.6666666666666666,\"#ed7953\"],[0.7777777777777778,\"#fb9f3a\"],[0.8888888888888888,\"#fdca26\"],[1.0,\"#f0f921\"]]}],\"heatmapgl\":[{\"type\":\"heatmapgl\",\"colorbar\":{\"outlinewidth\":0,\"ticks\":\"\"},\"colorscale\":[[0.0,\"#0d0887\"],[0.1111111111111111,\"#46039f\"],[0.2222222222222222,\"#7201a8\"],[0.3333333333333333,\"#9c179e\"],[0.4444444444444444,\"#bd3786\"],[0.5555555555555556,\"#d8576b\"],[0.6666666666666666,\"#ed7953\"],[0.7777777777777778,\"#fb9f3a\"],[0.8888888888888888,\"#fdca26\"],[1.0,\"#f0f921\"]]}],\"contourcarpet\":[{\"type\":\"contourcarpet\",\"colorbar\":{\"outlinewidth\":0,\"ticks\":\"\"}}],\"contour\":[{\"type\":\"contour\",\"colorbar\":{\"outlinewidth\":0,\"ticks\":\"\"},\"colorscale\":[[0.0,\"#0d0887\"],[0.1111111111111111,\"#46039f\"],[0.2222222222222222,\"#7201a8\"],[0.3333333333333333,\"#9c179e\"],[0.4444444444444444,\"#bd3786\"],[0.5555555555555556,\"#d8576b\"],[0.6666666666666666,\"#ed7953\"],[0.7777777777777778,\"#fb9f3a\"],[0.8888888888888888,\"#fdca26\"],[1.0,\"#f0f921\"]]}],\"surface\":[{\"type\":\"surface\",\"colorbar\":{\"outlinewidth\":0,\"ticks\":\"\"},\"colorscale\":[[0.0,\"#0d0887\"],[0.1111111111111111,\"#46039f\"],[0.2222222222222222,\"#7201a8\"],[0.3333333333333333,\"#9c179e\"],[0.4444444444444444,\"#bd3786\"],[0.5555555555555556,\"#d8576b\"],[0.6666666666666666,\"#ed7953\"],[0.7777777777777778,\"#fb9f3a\"],[0.8888888888888888,\"#fdca26\"],[1.0,\"#f0f921\"]]}],\"mesh3d\":[{\"type\":\"mesh3d\",\"colorbar\":{\"outlinewidth\":0,\"ticks\":\"\"}}],\"scatter\":[{\"fillpattern\":{\"fillmode\":\"overlay\",\"size\":10,\"solidity\":0.2},\"type\":\"scatter\"}],\"parcoords\":[{\"type\":\"parcoords\",\"line\":{\"colorbar\":{\"outlinewidth\":0,\"ticks\":\"\"}}}],\"scatterpolargl\":[{\"type\":\"scatterpolargl\",\"marker\":{\"colorbar\":{\"outlinewidth\":0,\"ticks\":\"\"}}}],\"bar\":[{\"error_x\":{\"color\":\"#2a3f5f\"},\"error_y\":{\"color\":\"#2a3f5f\"},\"marker\":{\"line\":{\"color\":\"#E5ECF6\",\"width\":0.5},\"pattern\":{\"fillmode\":\"overlay\",\"size\":10,\"solidity\":0.2}},\"type\":\"bar\"}],\"scattergeo\":[{\"type\":\"scattergeo\",\"marker\":{\"colorbar\":{\"outlinewidth\":0,\"ticks\":\"\"}}}],\"scatterpolar\":[{\"type\":\"scatterpolar\",\"marker\":{\"colorbar\":{\"outlinewidth\":0,\"ticks\":\"\"}}}],\"histogram\":[{\"marker\":{\"pattern\":{\"fillmode\":\"overlay\",\"size\":10,\"solidity\":0.2}},\"type\":\"histogram\"}],\"scattergl\":[{\"type\":\"scattergl\",\"marker\":{\"colorbar\":{\"outlinewidth\":0,\"ticks\":\"\"}}}],\"scatter3d\":[{\"type\":\"scatter3d\",\"line\":{\"colorbar\":{\"outlinewidth\":0,\"ticks\":\"\"}},\"marker\":{\"colorbar\":{\"outlinewidth\":0,\"ticks\":\"\"}}}],\"scattermapbox\":[{\"type\":\"scattermapbox\",\"marker\":{\"colorbar\":{\"outlinewidth\":0,\"ticks\":\"\"}}}],\"scatterternary\":[{\"type\":\"scatterternary\",\"marker\":{\"colorbar\":{\"outlinewidth\":0,\"ticks\":\"\"}}}],\"scattercarpet\":[{\"type\":\"scattercarpet\",\"marker\":{\"colorbar\":{\"outlinewidth\":0,\"ticks\":\"\"}}}],\"carpet\":[{\"aaxis\":{\"endlinecolor\":\"#2a3f5f\",\"gridcolor\":\"white\",\"linecolor\":\"white\",\"minorgridcolor\":\"white\",\"startlinecolor\":\"#2a3f5f\"},\"baxis\":{\"endlinecolor\":\"#2a3f5f\",\"gridcolor\":\"white\",\"linecolor\":\"white\",\"minorgridcolor\":\"white\",\"startlinecolor\":\"#2a3f5f\"},\"type\":\"carpet\"}],\"table\":[{\"cells\":{\"fill\":{\"color\":\"#EBF0F8\"},\"line\":{\"color\":\"white\"}},\"header\":{\"fill\":{\"color\":\"#C8D4E3\"},\"line\":{\"color\":\"white\"}},\"type\":\"table\"}],\"barpolar\":[{\"marker\":{\"line\":{\"color\":\"#E5ECF6\",\"width\":0.5},\"pattern\":{\"fillmode\":\"overlay\",\"size\":10,\"solidity\":0.2}},\"type\":\"barpolar\"}],\"pie\":[{\"automargin\":true,\"type\":\"pie\"}]},\"layout\":{\"autotypenumbers\":\"strict\",\"colorway\":[\"#636efa\",\"#EF553B\",\"#00cc96\",\"#ab63fa\",\"#FFA15A\",\"#19d3f3\",\"#FF6692\",\"#B6E880\",\"#FF97FF\",\"#FECB52\"],\"font\":{\"color\":\"#2a3f5f\"},\"hovermode\":\"closest\",\"hoverlabel\":{\"align\":\"left\"},\"paper_bgcolor\":\"white\",\"plot_bgcolor\":\"#E5ECF6\",\"polar\":{\"bgcolor\":\"#E5ECF6\",\"angularaxis\":{\"gridcolor\":\"white\",\"linecolor\":\"white\",\"ticks\":\"\"},\"radialaxis\":{\"gridcolor\":\"white\",\"linecolor\":\"white\",\"ticks\":\"\"}},\"ternary\":{\"bgcolor\":\"#E5ECF6\",\"aaxis\":{\"gridcolor\":\"white\",\"linecolor\":\"white\",\"ticks\":\"\"},\"baxis\":{\"gridcolor\":\"white\",\"linecolor\":\"white\",\"ticks\":\"\"},\"caxis\":{\"gridcolor\":\"white\",\"linecolor\":\"white\",\"ticks\":\"\"}},\"coloraxis\":{\"colorbar\":{\"outlinewidth\":0,\"ticks\":\"\"}},\"colorscale\":{\"sequential\":[[0.0,\"#0d0887\"],[0.1111111111111111,\"#46039f\"],[0.2222222222222222,\"#7201a8\"],[0.3333333333333333,\"#9c179e\"],[0.4444444444444444,\"#bd3786\"],[0.5555555555555556,\"#d8576b\"],[0.6666666666666666,\"#ed7953\"],[0.7777777777777778,\"#fb9f3a\"],[0.8888888888888888,\"#fdca26\"],[1.0,\"#f0f921\"]],\"sequentialminus\":[[0.0,\"#0d0887\"],[0.1111111111111111,\"#46039f\"],[0.2222222222222222,\"#7201a8\"],[0.3333333333333333,\"#9c179e\"],[0.4444444444444444,\"#bd3786\"],[0.5555555555555556,\"#d8576b\"],[0.6666666666666666,\"#ed7953\"],[0.7777777777777778,\"#fb9f3a\"],[0.8888888888888888,\"#fdca26\"],[1.0,\"#f0f921\"]],\"diverging\":[[0,\"#8e0152\"],[0.1,\"#c51b7d\"],[0.2,\"#de77ae\"],[0.3,\"#f1b6da\"],[0.4,\"#fde0ef\"],[0.5,\"#f7f7f7\"],[0.6,\"#e6f5d0\"],[0.7,\"#b8e186\"],[0.8,\"#7fbc41\"],[0.9,\"#4d9221\"],[1,\"#276419\"]]},\"xaxis\":{\"gridcolor\":\"white\",\"linecolor\":\"white\",\"ticks\":\"\",\"title\":{\"standoff\":15},\"zerolinecolor\":\"white\",\"automargin\":true,\"zerolinewidth\":2},\"yaxis\":{\"gridcolor\":\"white\",\"linecolor\":\"white\",\"ticks\":\"\",\"title\":{\"standoff\":15},\"zerolinecolor\":\"white\",\"automargin\":true,\"zerolinewidth\":2},\"scene\":{\"xaxis\":{\"backgroundcolor\":\"#E5ECF6\",\"gridcolor\":\"white\",\"linecolor\":\"white\",\"showbackground\":true,\"ticks\":\"\",\"zerolinecolor\":\"white\",\"gridwidth\":2},\"yaxis\":{\"backgroundcolor\":\"#E5ECF6\",\"gridcolor\":\"white\",\"linecolor\":\"white\",\"showbackground\":true,\"ticks\":\"\",\"zerolinecolor\":\"white\",\"gridwidth\":2},\"zaxis\":{\"backgroundcolor\":\"#E5ECF6\",\"gridcolor\":\"white\",\"linecolor\":\"white\",\"showbackground\":true,\"ticks\":\"\",\"zerolinecolor\":\"white\",\"gridwidth\":2}},\"shapedefaults\":{\"line\":{\"color\":\"#2a3f5f\"}},\"annotationdefaults\":{\"arrowcolor\":\"#2a3f5f\",\"arrowhead\":0,\"arrowwidth\":1},\"geo\":{\"bgcolor\":\"white\",\"landcolor\":\"#E5ECF6\",\"subunitcolor\":\"white\",\"showland\":true,\"showlakes\":true,\"lakecolor\":\"white\"},\"title\":{\"x\":0.05},\"mapbox\":{\"style\":\"light\"}}},\"shapes\":[{\"line\":{\"color\":\"red\",\"dash\":\"dot\",\"width\":3},\"type\":\"line\",\"x0\":23,\"x1\":23,\"y0\":0,\"y1\":124}]},                        {\"responsive\": true}                    ).then(function(){\n",
       "                            \n",
       "var gd = document.getElementById('1c7c2eb6-30b3-417e-aa70-ab07ac4c02f6');\n",
       "var x = new MutationObserver(function (mutations, observer) {{\n",
       "        var display = window.getComputedStyle(gd).display;\n",
       "        if (!display || display === 'none') {{\n",
       "            console.log([gd, 'removed!']);\n",
       "            Plotly.purge(gd);\n",
       "            observer.disconnect();\n",
       "        }}\n",
       "}});\n",
       "\n",
       "// Listen for the removal of the full notebook cells\n",
       "var notebookContainer = gd.closest('#notebook-container');\n",
       "if (notebookContainer) {{\n",
       "    x.observe(notebookContainer, {childList: true});\n",
       "}}\n",
       "\n",
       "// Listen for the clearing of the current output cell\n",
       "var outputEl = gd.closest('.output');\n",
       "if (outputEl) {{\n",
       "    x.observe(outputEl, {childList: true});\n",
       "}}\n",
       "\n",
       "                        })                };                            </script>        </div>\n",
       "</body>\n",
       "</html>"
      ]
     },
     "metadata": {},
     "output_type": "display_data"
    }
   ],
   "source": [
    "import plotly.express as px\n",
    "import plotly.graph_objs as go\n",
    "\n",
    "trace = go.Histogram(x=results, nbinsx=50)\n",
    "\n",
    "# Define the layout\n",
    "layout = go.Layout(title='My Histogram')\n",
    "\n",
    "# Create the figure\n",
    "fig = go.Figure(data=[trace], layout=layout)\n",
    "\n",
    "fig.add_shape(\n",
    "    type=\"line\",\n",
    "    x0=23,\n",
    "    y0=0,\n",
    "    x1=23,\n",
    "    y1=max(np.histogram(results, bins=30)[0]),\n",
    "    line=dict(\n",
    "        color=\"red\",\n",
    "        width=3,\n",
    "        dash=\"dot\",\n",
    "    )\n",
    ")\n",
    "\n",
    "# Show the figure\n",
    "fig.show()"
   ]
  },
  {
   "cell_type": "markdown",
   "metadata": {
    "id": "Fbb6UDZIRptb"
   },
   "source": [
    " \n",
    " OUT OF 1000 SIMULATIONS OF RANDOMLY GENERATED DEMAND, 425 TIMES THE SYSTEM WAS ABLE TO ACHIEVE THE DEMAND WITH THE NUMBER OF BUSES PRESENT IN THE SYSTEM\n",
    " "
   ]
  },
  {
   "cell_type": "markdown",
   "metadata": {
    "id": "QkMZj7j3SraW"
   },
   "source": [
    "#TOTAL TRIPS MADE BY ALL BUSES IN ONE DIRECTION"
   ]
  },
  {
   "cell_type": "code",
   "execution_count": 24,
   "metadata": {
    "colab": {
     "base_uri": "https://localhost:8080/"
    },
    "id": "wkIy4faiSopR",
    "outputId": "c6ba8c20-dec3-43e0-ef50-47c6de018960"
   },
   "outputs": [
    {
     "name": "stdout",
     "output_type": "stream",
     "text": [
      "Bus number         1\n",
      "Number of trips    5\n",
      "Name: 0, dtype: object\n",
      "255\n",
      "Bus number         2\n",
      "Number of trips    5\n",
      "Name: 1, dtype: object\n",
      "510\n",
      "Bus number         3\n",
      "Number of trips    5\n",
      "Name: 2, dtype: object\n",
      "765\n",
      "Bus number         4\n",
      "Number of trips    4\n",
      "Name: 3, dtype: object\n",
      "969\n",
      "Bus number         5\n",
      "Number of trips    4\n",
      "Name: 4, dtype: object\n",
      "1173\n",
      "Bus number         6\n",
      "Number of trips    4\n",
      "Name: 5, dtype: object\n",
      "1377\n",
      "Bus number         7\n",
      "Number of trips    4\n",
      "Name: 6, dtype: object\n",
      "1581\n",
      "Bus number         8\n",
      "Number of trips    4\n",
      "Name: 7, dtype: object\n",
      "1785\n",
      "Bus number         9\n",
      "Number of trips    4\n",
      "Name: 8, dtype: object\n",
      "1989\n",
      "Bus number         10\n",
      "Number of trips     4\n",
      "Name: 9, dtype: object\n",
      "2193\n",
      "Bus number         11\n",
      "Number of trips     4\n",
      "Name: 10, dtype: object\n",
      "2397\n",
      "Bus number         12\n",
      "Number of trips     4\n",
      "Name: 11, dtype: object\n",
      "2601\n",
      "Bus number         13\n",
      "Number of trips     4\n",
      "Name: 12, dtype: object\n",
      "2805\n",
      "Bus number         14\n",
      "Number of trips     4\n",
      "Name: 13, dtype: object\n",
      "3009\n",
      "Bus number         15\n",
      "Number of trips     4\n",
      "Name: 14, dtype: object\n",
      "3213\n",
      "Bus number         16\n",
      "Number of trips     4\n",
      "Name: 15, dtype: object\n",
      "3417\n",
      "Bus number         17\n",
      "Number of trips     4\n",
      "Name: 16, dtype: object\n",
      "3621\n",
      "Bus number         18\n",
      "Number of trips     4\n",
      "Name: 17, dtype: object\n",
      "3825\n",
      "Bus number         19\n",
      "Number of trips     4\n",
      "Name: 18, dtype: object\n",
      "4029\n",
      "Bus number         20\n",
      "Number of trips     3\n",
      "Name: 19, dtype: object\n",
      "4182\n",
      "Bus number         21\n",
      "Number of trips     3\n",
      "Name: 20, dtype: object\n",
      "4335\n",
      "Bus number         22\n",
      "Number of trips     3\n",
      "Name: 21, dtype: object\n",
      "4488\n",
      "Bus number         23\n",
      "Number of trips     3\n",
      "Name: 22, dtype: object\n",
      "4641\n",
      "Bus number         24\n",
      "Number of trips     3\n",
      "Name: 23, dtype: object\n",
      "4794\n",
      "Bus number         25\n",
      "Number of trips     3\n",
      "Name: 24, dtype: object\n",
      "4947\n",
      "25\n",
      "97\n"
     ]
    }
   ],
   "source": [
    "headway = 3\n",
    "time = 240\n",
    "speed = 15\n",
    "trip_distance = 11.57\n",
    "trip_time = trip_distance/(speed/60)\n",
    "\n",
    "number_of_trips = []\n",
    "\n",
    "buses = 25\n",
    "total_people = 4835\n",
    "trips = pd.DataFrame(columns=[\"Bus number\", \"Number of trips\"])\n",
    "\n",
    "for i in range(0, buses):\n",
    "  x = int(time/trip_time)\n",
    "  time = time - headway\n",
    "\n",
    "  dict1 = {'Bus number': [i+1], 'Number of trips': [x]}\n",
    "  df2 = pd.DataFrame(dict1)\n",
    "  trips = pd.concat([trips, df2], ignore_index = True)\n",
    "\n",
    "  trips.reset_index(drop = True)\n",
    "\n",
    "sum1 = 0\n",
    "for i, row in trips.iterrows():\n",
    "  print(row)\n",
    "  sum1 = sum1 + (row[\"Number of trips\"]*51)\n",
    "  print(sum1)\n",
    "  number_of_trips.append(int(row[\"Number of trips\"]))\n",
    "  if sum1 > total_people:\n",
    "    print(row[\"Bus number\"])\n",
    "    break\n",
    "\n",
    "# print(trips.head(20))\n",
    "print(sum(number_of_trips))"
   ]
  },
  {
   "cell_type": "code",
   "execution_count": 25,
   "metadata": {
    "id": "a73hIu-RU9YU"
   },
   "outputs": [],
   "source": [
    "people_getting_on = [702, 1053, 1312,2401,2554,4115,4582,4835,4808,4756,4336,3608,3378,2436,2365,1715,1053,908,707,395,0]\n",
    "percent_full = []\n",
    "\n",
    "for i in people_getting_on:\n",
    "  x = round(i/(sum(number_of_trips)*51), 2)\n",
    "  if x <= 100.0:\n",
    "    percent_full.append(x)\n",
    "  else:\n",
    "    percent_full.append(100.0)"
   ]
  },
  {
   "cell_type": "code",
   "execution_count": 26,
   "metadata": {
    "colab": {
     "base_uri": "https://localhost:8080/",
     "height": 560
    },
    "id": "sh-Jdm8qU9hT",
    "outputId": "03c5351b-d252-48e9-892e-4ca242d8d312"
   },
   "outputs": [
    {
     "name": "stdout",
     "output_type": "stream",
     "text": [
      "[7, 10, 13, 24, 26, 42, 47, 49, 49, 48, 44, 37, 34, 24, 24, 17, 10, 9, 7, 4, 0]\n"
     ]
    },
    {
     "data": {
      "text/html": [
       "<html>\n",
       "<head><meta charset=\"utf-8\" /></head>\n",
       "<body>\n",
       "    <div>            <script src=\"https://cdnjs.cloudflare.com/ajax/libs/mathjax/2.7.5/MathJax.js?config=TeX-AMS-MML_SVG\"></script><script type=\"text/javascript\">if (window.MathJax && window.MathJax.Hub && window.MathJax.Hub.Config) {window.MathJax.Hub.Config({SVG: {font: \"STIX-Web\"}});}</script>                <script type=\"text/javascript\">window.PlotlyConfig = {MathJaxConfig: 'local'};</script>\n",
       "        <script src=\"https://cdn.plot.ly/plotly-2.18.2.min.js\"></script>                <div id=\"aa7c3a69-d17f-4394-b31b-68393993b36c\" class=\"plotly-graph-div\" style=\"height:525px; width:100%;\"></div>            <script type=\"text/javascript\">                                    window.PLOTLYENV=window.PLOTLYENV || {};                                    if (document.getElementById(\"aa7c3a69-d17f-4394-b31b-68393993b36c\")) {                    Plotly.newPlot(                        \"aa7c3a69-d17f-4394-b31b-68393993b36c\",                        [{\"x\":[\"Rajiv Gandhi\",\"Mata Gujri\",\"Vishnupuri\",\"Bhanwarkuan Square\",\"Holkar Subway\",\"Navlakha Square\",\"Indra Pratima\",\"GPO\",\"Shivaji Vatika\",\"AICTSL\",\"Geeta Bhawan\",\"Palasiya\",\"Industry House\",\"LIG\",\"Press Complex\",\"MR-9\",\"Vijay Nagar\",\"Satya Sai\",\"Shalimar Township\",\"Scheme No. 78\",\"Niranjanpur Square\"],\"y\":[7,10,13,24,26,42,47,49,49,48,44,37,34,24,24,17,10,9,7,4,0],\"type\":\"bar\"}],                        {\"title\":{\"text\":\"Passenger Distribution per bus per stop\"},\"template\":{\"data\":{\"histogram2dcontour\":[{\"type\":\"histogram2dcontour\",\"colorbar\":{\"outlinewidth\":0,\"ticks\":\"\"},\"colorscale\":[[0.0,\"#0d0887\"],[0.1111111111111111,\"#46039f\"],[0.2222222222222222,\"#7201a8\"],[0.3333333333333333,\"#9c179e\"],[0.4444444444444444,\"#bd3786\"],[0.5555555555555556,\"#d8576b\"],[0.6666666666666666,\"#ed7953\"],[0.7777777777777778,\"#fb9f3a\"],[0.8888888888888888,\"#fdca26\"],[1.0,\"#f0f921\"]]}],\"choropleth\":[{\"type\":\"choropleth\",\"colorbar\":{\"outlinewidth\":0,\"ticks\":\"\"}}],\"histogram2d\":[{\"type\":\"histogram2d\",\"colorbar\":{\"outlinewidth\":0,\"ticks\":\"\"},\"colorscale\":[[0.0,\"#0d0887\"],[0.1111111111111111,\"#46039f\"],[0.2222222222222222,\"#7201a8\"],[0.3333333333333333,\"#9c179e\"],[0.4444444444444444,\"#bd3786\"],[0.5555555555555556,\"#d8576b\"],[0.6666666666666666,\"#ed7953\"],[0.7777777777777778,\"#fb9f3a\"],[0.8888888888888888,\"#fdca26\"],[1.0,\"#f0f921\"]]}],\"heatmap\":[{\"type\":\"heatmap\",\"colorbar\":{\"outlinewidth\":0,\"ticks\":\"\"},\"colorscale\":[[0.0,\"#0d0887\"],[0.1111111111111111,\"#46039f\"],[0.2222222222222222,\"#7201a8\"],[0.3333333333333333,\"#9c179e\"],[0.4444444444444444,\"#bd3786\"],[0.5555555555555556,\"#d8576b\"],[0.6666666666666666,\"#ed7953\"],[0.7777777777777778,\"#fb9f3a\"],[0.8888888888888888,\"#fdca26\"],[1.0,\"#f0f921\"]]}],\"heatmapgl\":[{\"type\":\"heatmapgl\",\"colorbar\":{\"outlinewidth\":0,\"ticks\":\"\"},\"colorscale\":[[0.0,\"#0d0887\"],[0.1111111111111111,\"#46039f\"],[0.2222222222222222,\"#7201a8\"],[0.3333333333333333,\"#9c179e\"],[0.4444444444444444,\"#bd3786\"],[0.5555555555555556,\"#d8576b\"],[0.6666666666666666,\"#ed7953\"],[0.7777777777777778,\"#fb9f3a\"],[0.8888888888888888,\"#fdca26\"],[1.0,\"#f0f921\"]]}],\"contourcarpet\":[{\"type\":\"contourcarpet\",\"colorbar\":{\"outlinewidth\":0,\"ticks\":\"\"}}],\"contour\":[{\"type\":\"contour\",\"colorbar\":{\"outlinewidth\":0,\"ticks\":\"\"},\"colorscale\":[[0.0,\"#0d0887\"],[0.1111111111111111,\"#46039f\"],[0.2222222222222222,\"#7201a8\"],[0.3333333333333333,\"#9c179e\"],[0.4444444444444444,\"#bd3786\"],[0.5555555555555556,\"#d8576b\"],[0.6666666666666666,\"#ed7953\"],[0.7777777777777778,\"#fb9f3a\"],[0.8888888888888888,\"#fdca26\"],[1.0,\"#f0f921\"]]}],\"surface\":[{\"type\":\"surface\",\"colorbar\":{\"outlinewidth\":0,\"ticks\":\"\"},\"colorscale\":[[0.0,\"#0d0887\"],[0.1111111111111111,\"#46039f\"],[0.2222222222222222,\"#7201a8\"],[0.3333333333333333,\"#9c179e\"],[0.4444444444444444,\"#bd3786\"],[0.5555555555555556,\"#d8576b\"],[0.6666666666666666,\"#ed7953\"],[0.7777777777777778,\"#fb9f3a\"],[0.8888888888888888,\"#fdca26\"],[1.0,\"#f0f921\"]]}],\"mesh3d\":[{\"type\":\"mesh3d\",\"colorbar\":{\"outlinewidth\":0,\"ticks\":\"\"}}],\"scatter\":[{\"fillpattern\":{\"fillmode\":\"overlay\",\"size\":10,\"solidity\":0.2},\"type\":\"scatter\"}],\"parcoords\":[{\"type\":\"parcoords\",\"line\":{\"colorbar\":{\"outlinewidth\":0,\"ticks\":\"\"}}}],\"scatterpolargl\":[{\"type\":\"scatterpolargl\",\"marker\":{\"colorbar\":{\"outlinewidth\":0,\"ticks\":\"\"}}}],\"bar\":[{\"error_x\":{\"color\":\"#2a3f5f\"},\"error_y\":{\"color\":\"#2a3f5f\"},\"marker\":{\"line\":{\"color\":\"#E5ECF6\",\"width\":0.5},\"pattern\":{\"fillmode\":\"overlay\",\"size\":10,\"solidity\":0.2}},\"type\":\"bar\"}],\"scattergeo\":[{\"type\":\"scattergeo\",\"marker\":{\"colorbar\":{\"outlinewidth\":0,\"ticks\":\"\"}}}],\"scatterpolar\":[{\"type\":\"scatterpolar\",\"marker\":{\"colorbar\":{\"outlinewidth\":0,\"ticks\":\"\"}}}],\"histogram\":[{\"marker\":{\"pattern\":{\"fillmode\":\"overlay\",\"size\":10,\"solidity\":0.2}},\"type\":\"histogram\"}],\"scattergl\":[{\"type\":\"scattergl\",\"marker\":{\"colorbar\":{\"outlinewidth\":0,\"ticks\":\"\"}}}],\"scatter3d\":[{\"type\":\"scatter3d\",\"line\":{\"colorbar\":{\"outlinewidth\":0,\"ticks\":\"\"}},\"marker\":{\"colorbar\":{\"outlinewidth\":0,\"ticks\":\"\"}}}],\"scattermapbox\":[{\"type\":\"scattermapbox\",\"marker\":{\"colorbar\":{\"outlinewidth\":0,\"ticks\":\"\"}}}],\"scatterternary\":[{\"type\":\"scatterternary\",\"marker\":{\"colorbar\":{\"outlinewidth\":0,\"ticks\":\"\"}}}],\"scattercarpet\":[{\"type\":\"scattercarpet\",\"marker\":{\"colorbar\":{\"outlinewidth\":0,\"ticks\":\"\"}}}],\"carpet\":[{\"aaxis\":{\"endlinecolor\":\"#2a3f5f\",\"gridcolor\":\"white\",\"linecolor\":\"white\",\"minorgridcolor\":\"white\",\"startlinecolor\":\"#2a3f5f\"},\"baxis\":{\"endlinecolor\":\"#2a3f5f\",\"gridcolor\":\"white\",\"linecolor\":\"white\",\"minorgridcolor\":\"white\",\"startlinecolor\":\"#2a3f5f\"},\"type\":\"carpet\"}],\"table\":[{\"cells\":{\"fill\":{\"color\":\"#EBF0F8\"},\"line\":{\"color\":\"white\"}},\"header\":{\"fill\":{\"color\":\"#C8D4E3\"},\"line\":{\"color\":\"white\"}},\"type\":\"table\"}],\"barpolar\":[{\"marker\":{\"line\":{\"color\":\"#E5ECF6\",\"width\":0.5},\"pattern\":{\"fillmode\":\"overlay\",\"size\":10,\"solidity\":0.2}},\"type\":\"barpolar\"}],\"pie\":[{\"automargin\":true,\"type\":\"pie\"}]},\"layout\":{\"autotypenumbers\":\"strict\",\"colorway\":[\"#636efa\",\"#EF553B\",\"#00cc96\",\"#ab63fa\",\"#FFA15A\",\"#19d3f3\",\"#FF6692\",\"#B6E880\",\"#FF97FF\",\"#FECB52\"],\"font\":{\"color\":\"#2a3f5f\"},\"hovermode\":\"closest\",\"hoverlabel\":{\"align\":\"left\"},\"paper_bgcolor\":\"white\",\"plot_bgcolor\":\"#E5ECF6\",\"polar\":{\"bgcolor\":\"#E5ECF6\",\"angularaxis\":{\"gridcolor\":\"white\",\"linecolor\":\"white\",\"ticks\":\"\"},\"radialaxis\":{\"gridcolor\":\"white\",\"linecolor\":\"white\",\"ticks\":\"\"}},\"ternary\":{\"bgcolor\":\"#E5ECF6\",\"aaxis\":{\"gridcolor\":\"white\",\"linecolor\":\"white\",\"ticks\":\"\"},\"baxis\":{\"gridcolor\":\"white\",\"linecolor\":\"white\",\"ticks\":\"\"},\"caxis\":{\"gridcolor\":\"white\",\"linecolor\":\"white\",\"ticks\":\"\"}},\"coloraxis\":{\"colorbar\":{\"outlinewidth\":0,\"ticks\":\"\"}},\"colorscale\":{\"sequential\":[[0.0,\"#0d0887\"],[0.1111111111111111,\"#46039f\"],[0.2222222222222222,\"#7201a8\"],[0.3333333333333333,\"#9c179e\"],[0.4444444444444444,\"#bd3786\"],[0.5555555555555556,\"#d8576b\"],[0.6666666666666666,\"#ed7953\"],[0.7777777777777778,\"#fb9f3a\"],[0.8888888888888888,\"#fdca26\"],[1.0,\"#f0f921\"]],\"sequentialminus\":[[0.0,\"#0d0887\"],[0.1111111111111111,\"#46039f\"],[0.2222222222222222,\"#7201a8\"],[0.3333333333333333,\"#9c179e\"],[0.4444444444444444,\"#bd3786\"],[0.5555555555555556,\"#d8576b\"],[0.6666666666666666,\"#ed7953\"],[0.7777777777777778,\"#fb9f3a\"],[0.8888888888888888,\"#fdca26\"],[1.0,\"#f0f921\"]],\"diverging\":[[0,\"#8e0152\"],[0.1,\"#c51b7d\"],[0.2,\"#de77ae\"],[0.3,\"#f1b6da\"],[0.4,\"#fde0ef\"],[0.5,\"#f7f7f7\"],[0.6,\"#e6f5d0\"],[0.7,\"#b8e186\"],[0.8,\"#7fbc41\"],[0.9,\"#4d9221\"],[1,\"#276419\"]]},\"xaxis\":{\"gridcolor\":\"white\",\"linecolor\":\"white\",\"ticks\":\"\",\"title\":{\"standoff\":15},\"zerolinecolor\":\"white\",\"automargin\":true,\"zerolinewidth\":2},\"yaxis\":{\"gridcolor\":\"white\",\"linecolor\":\"white\",\"ticks\":\"\",\"title\":{\"standoff\":15},\"zerolinecolor\":\"white\",\"automargin\":true,\"zerolinewidth\":2},\"scene\":{\"xaxis\":{\"backgroundcolor\":\"#E5ECF6\",\"gridcolor\":\"white\",\"linecolor\":\"white\",\"showbackground\":true,\"ticks\":\"\",\"zerolinecolor\":\"white\",\"gridwidth\":2},\"yaxis\":{\"backgroundcolor\":\"#E5ECF6\",\"gridcolor\":\"white\",\"linecolor\":\"white\",\"showbackground\":true,\"ticks\":\"\",\"zerolinecolor\":\"white\",\"gridwidth\":2},\"zaxis\":{\"backgroundcolor\":\"#E5ECF6\",\"gridcolor\":\"white\",\"linecolor\":\"white\",\"showbackground\":true,\"ticks\":\"\",\"zerolinecolor\":\"white\",\"gridwidth\":2}},\"shapedefaults\":{\"line\":{\"color\":\"#2a3f5f\"}},\"annotationdefaults\":{\"arrowcolor\":\"#2a3f5f\",\"arrowhead\":0,\"arrowwidth\":1},\"geo\":{\"bgcolor\":\"white\",\"landcolor\":\"#E5ECF6\",\"subunitcolor\":\"white\",\"showland\":true,\"showlakes\":true,\"lakecolor\":\"white\"},\"title\":{\"x\":0.05},\"mapbox\":{\"style\":\"light\"}}}},                        {\"responsive\": true}                    ).then(function(){\n",
       "                            \n",
       "var gd = document.getElementById('aa7c3a69-d17f-4394-b31b-68393993b36c');\n",
       "var x = new MutationObserver(function (mutations, observer) {{\n",
       "        var display = window.getComputedStyle(gd).display;\n",
       "        if (!display || display === 'none') {{\n",
       "            console.log([gd, 'removed!']);\n",
       "            Plotly.purge(gd);\n",
       "            observer.disconnect();\n",
       "        }}\n",
       "}});\n",
       "\n",
       "// Listen for the removal of the full notebook cells\n",
       "var notebookContainer = gd.closest('#notebook-container');\n",
       "if (notebookContainer) {{\n",
       "    x.observe(notebookContainer, {childList: true});\n",
       "}}\n",
       "\n",
       "// Listen for the clearing of the current output cell\n",
       "var outputEl = gd.closest('.output');\n",
       "if (outputEl) {{\n",
       "    x.observe(outputEl, {childList: true});\n",
       "}}\n",
       "\n",
       "                        })                };                            </script>        </div>\n",
       "</body>\n",
       "</html>"
      ]
     },
     "metadata": {},
     "output_type": "display_data"
    }
   ],
   "source": [
    "dist = []\n",
    "for i in percent_full:\n",
    "  dist.append(int(i * 51))\n",
    "print(dist)\n",
    "\n",
    "stop_names = ['Rajiv Gandhi',\n",
    " 'Mata Gujri',\n",
    " 'Vishnupuri',\n",
    " 'Bhanwarkuan Square',\n",
    " 'Holkar Subway',\n",
    " 'Navlakha Square',\n",
    " 'Indra Pratima',\n",
    " 'GPO',\n",
    " 'Shivaji Vatika',\n",
    " 'AICTSL',\n",
    " 'Geeta Bhawan',\n",
    " 'Palasiya',\n",
    " 'Industry House',\n",
    " 'LIG',\n",
    " 'Press Complex',\n",
    " 'MR-9',\n",
    " 'Vijay Nagar',\n",
    " 'Satya Sai',\n",
    " 'Shalimar Township',\n",
    " 'Scheme No. 78',\n",
    " 'Niranjanpur Square']\n",
    "\n",
    "trace = go.Bar(x=stop_names, y=dist)\n",
    "layout = go.Layout(title='Passenger Distribution per bus per stop')\n",
    "fig = go.Figure(data=[trace], layout=layout)\n",
    "fig.show()"
   ]
  },
  {
   "cell_type": "markdown",
   "metadata": {
    "id": "TRlfmSqmSOHB"
   },
   "source": [
    "#CODE FOR PEAK HOURS FOR GOING FROM RAJIV GANDHI TO NIRANJANPUR SQUARE (COMING BACK)"
   ]
  },
  {
   "cell_type": "code",
   "execution_count": 76,
   "metadata": {
    "colab": {
     "base_uri": "https://localhost:8080/"
    },
    "id": "AFCOemvAXief",
    "outputId": "f650d08b-b918-4144-ec18-f6cbaa4e7128"
   },
   "outputs": [
    {
     "name": "stdout",
     "output_type": "stream",
     "text": [
      "[36, 45, 15, 24, 21, 65, 24, 22, 18, 38, 46, 31, 24, 32, 25, 32, 22, 26, 39, 34, 20, 21, 47, 20, 27, 23, 31, 34, 28, 33, 30, 19, 39, 28, 40, 31, 27, 27, 30, 32, 31, 25, 28, 36, 31, 31, 28, 27, 25, 41, 30, 35, 25, 46, 12, 50, 35, 36, 24, 27, 26, 34, 32, 25, 24, 27, 20, 27, 19, 26, 23, 36, 29, 32, 29, 34, 24, 22, 22, 19, 41, 26, 25, 34, 30, 34, 22, 39, 28, 38, 23, 54, 16, 33, 33, 30, 26, 31, 15, 23, 26, 19, 32, 29, 21, 23, 30, 17, 28, 23, 38, 25, 26, 26, 25, 19, 29, 25, 46, 26, 25, 23, 25, 35, 29, 28, 27, 29, 27, 32, 34, 31, 26, 20, 25, 35, 38, 20, 18, 32, 31, 21, 38, 27, 30, 15, 32, 29, 42, 31, 25, 27, 38, 26, 28, 18, 25, 23, 34, 32, 22, 21, 40, 41, 22, 20, 12, 16, 33, 27, 32, 24, 22, 23, 46, 19, 22, 26, 27, 17, 41, 41, 33, 31, 46, 29, 29, 27, 30, 23, 20, 24, 40, 36, 34, 24, 38, 28, 27, 29, 21, 37, 36, 29, 46, 27, 47, 40, 23, 20, 21, 25, 34, 40, 29, 20, 28, 18, 11, 19, 37, 29, 23, 28, 25, 24, 38, 34, 33, 13, 30, 30, 27, 33, 23, 25, 25, 30, 29, 22, 34, 26, 31, 28, 36, 31, 26, 16, 32, 30, 39, 19, 18, 23, 31, 38, 24, 29, 4, 19, 26, 27, 31, 21, 18, 26, 28, 32, 35, 18, 23, 40, 33, 37, 28, 47, 33, 20, 22, 16, 23, 22, 26, 34, 26, 34, 25, 39, 28, 31, 30, 35, 25, 28, 35, 16, 25, 20, 36, 12, 26, 31, 30, 22, 33, 26, 27, 37, 18, 32, 17, 31, 42, 20, 27, 37, 30, 26, 33, 23, 33, 31, 26, 31, 31, 32, 26, 21, 29, 21, 20, 29, 33, 29, 30, 39, 28, 21, 31, 30, 28, 35, 24, 26, 17, 32, 34, 16, 25, 26, 30, 22, 30, 32, 30, 38, 34, 31, 19, 33, 44, 19, 23, 18, 32, 32, 27, 34, 19, 36, 27, 17, 28, 41, 32, 30, 25, 28, 29, 43, 38, 30, 29, 26, 34, 36, 43, 29, 27, 41, 23, 30, 29, 27, 28, 35, 14, 29, 18, 21, 23, 38, 20, 47, 22, 36, 34, 30, 27, 31, 33, 21, 28, 37, 24, 19, 27, 26, 11, 22, 39, 29, 24, 31, 30, 28, 20, 31, 41, 35, 20, 29, 27, 37, 45, 34, 24, 28, 22, 28, 42, 50, 37, 31, 33, 27, 25, 36, 34, 38, 32, 23, 41, 32, 27, 19, 31, 28, 20, 23, 31, 27, 33, 21, 34, 20, 28, 25, 19, 30, 27, 23, 46, 30, 30, 33, 25, 13, 29, 30, 25, 22, 31, 32, 48, 30, 24, 27, 28, 26, 29, 26, 31, 39, 22, 21, 30, 31, 34, 29, 15, 31, 16, 31, 21, 19, 18, 42, 26, 29, 36, 29, 28, 18, 21, 36, 47, 28, 25, 21, 32, 21, 16, 30, 23, 38, 31, 33, 25, 18, 27, 24, 31, 25, 17, 24, 31, 20, 15, 20, 42, 16, 25, 32, 35, 19, 19, 20, 30, 28, 26, 31, 21, 22, 43, 20, 18, 34, 21, 21, 25, 22, 46, 38, 23, 28, 17, 30, 34, 39, 24, 21, 28, 12, 27, 25, 20, 24, 44, 19, 29, 25, 19, 20, 39, 37, 39, 18, 33, 28, 35, 22, 27, 25, 26, 27, 28, 37, 23, 47, 41, 28, 40, 49, 19, 32, 25, 29, 19, 18, 38, 19, 29, 18, 30, 26, 31, 31, 20, 28, 27, 29, 26, 28, 27, 38, 31, 21, 31, 35, 23, 32, 26, 26, 37, 29, 48, 32, 27, 12, 27, 22, 28, 26, 28, 29, 22, 34, 32, 41, 25, 45, 22, 15, 26, 33, 35, 22, 34, 31, 26, 31, 43, 31, 34, 20, 34, 22, 41, 21, 28, 26, 25, 27, 35, 34, 24, 38, 26, 36, 26, 31, 27, 21, 27, 27, 21, 24, 33, 26, 33, 39, 32, 25, 30, 12, 31, 31, 16, 22, 35, 48, 26, 28, 20, 27, 33, 30, 26, 29, 30, 26, 30, 29, 40, 26, 34, 20, 23, 18, 23, 21, 19, 35, 15, 33, 32, 17, 28, 23, 28, 35, 23, 42, 34, 30, 59, 27, 21, 33, 45, 27, 26, 23, 33, 24, 38, 24, 42, 28, 18, 20, 27, 27, 34, 41, 31, 24, 23, 35, 28, 25, 28, 42, 40, 24, 18, 22, 28, 22, 27, 25, 21, 30, 22, 29, 33, 34, 26, 28, 30, 15, 27, 47, 19, 28, 41, 26, 21, 33, 27, 20, 26, 32, 14, 31, 22, 31, 38, 40, 23, 33, 20, 33, 35, 30, 33, 38, 27, 31, 56, 28, 22, 27, 36, 35, 32, 27, 35, 32, 19, 41, 17, 32, 29, 33, 24, 41, 25, 26, 31, 28, 20, 30, 18, 31, 23, 16, 26, 13, 25, 35, 26, 22, 27, 37, 21, 38, 31, 35, 25, 28, 36, 18, 26, 16, 23, 19, 36, 30, 22, 27, 29, 36, 27, 31, 31, 28, 22, 24, 21, 16, 34, 18, 45, 28, 28, 36, 43, 33, 26, 34, 28, 38, 34, 31, 26, 12, 34, 23, 28, 31, 13, 33, 33, 34, 45, 34, 34, 28, 30, 46, 15, 33, 36, 37, 29, 33, 36, 22, 27, 28, 18, 36, 22, 33, 41, 29, 25, 25, 33, 31, 22, 25, 29, 27, 28, 17, 34, 25, 35, 35, 34, 22, 21, 32, 23, 36, 25, 37, 25, 37, 27, 24, 41, 47, 27, 24, 17, 34, 15, 22, 23, 36, 22, 41, 33, 26, 40, 23, 30, 32, 19, 18, 22, 29, 38, 39, 28, 35, 27, 17, 30, 26, 34, 23, 36, 30, 18, 27, 22, 20, 33, 31, 27, 27, 24, 25, 25, 29, 21, 39, 38, 23, 22, 29, 31, 33, 32, 16]\n"
     ]
    }
   ],
   "source": [
    "random.seed(999)\n",
    "\n",
    "def calculate_number_buses(people, headway=3, time=240, speed=15, trip_distance=11.57, buses = 120):\n",
    "\n",
    "  trips = pd.DataFrame(columns=[\"Bus number\", \"Number of trips\"])\n",
    "  trip_time = trip_distance / (speed / 60)\n",
    "\n",
    "\n",
    "  for i in range(0, buses):\n",
    "    x = int(time/trip_time)\n",
    "    time = time - headway\n",
    "\n",
    "    dict1 = {'Bus number': [i+1], 'Number of trips': [x]}\n",
    "    df2 = pd.DataFrame(dict1)\n",
    "    trips = pd.concat([trips, df2], ignore_index = True)\n",
    "\n",
    "    trips.reset_index(drop = True)\n",
    "\n",
    "  sum1 = 0\n",
    "  for i, row in trips.iterrows():\n",
    "    sum1 = sum1 + (row[\"Number of trips\"] *51)\n",
    "    if sum1 > people:\n",
    "      return(row[\"Bus number\"])\n",
    "  return(row[\"Bus number\"])\n",
    "\n",
    "num_iterations = 1000\n",
    "results = []\n",
    "mean = 5343\n",
    "mean_hourly= mean/4\n",
    "std_dev = mean_hourly*0.20\n",
    "\n",
    "for i in range(num_iterations):\n",
    "    # generate a random number of total_people based on the mean and standard deviation\n",
    "    total_people = int(np.random.normal(mean_hourly, std_dev))\n",
    "    total_people = total_people*4\n",
    "\n",
    "    # calculate the optimal number of trips based on the random total_people value\n",
    "    num_buses = calculate_number_buses(total_people, headway=3, time=240, speed=15, trip_distance=11.57)\n",
    "\n",
    "    # append the result to the results list\n",
    "    results.append(int(num_buses))\n",
    "    # results.append(total_people)\n",
    "print(results)"
   ]
  },
  {
   "cell_type": "code",
   "execution_count": 77,
   "metadata": {
    "colab": {
     "base_uri": "https://localhost:8080/"
    },
    "id": "MDL3v1YXYGER",
    "outputId": "b9c14069-4ff2-4147-a827-b0a0f99114c3"
   },
   "outputs": [
    {
     "data": {
      "text/plain": [
       "28"
      ]
     },
     "execution_count": 77,
     "metadata": {},
     "output_type": "execute_result"
    }
   ],
   "source": [
    "int(np.mean(results))"
   ]
  },
  {
   "cell_type": "markdown",
   "metadata": {
    "id": "C3UQ1VI2YSLN"
   },
   "source": [
    "MEAN NUMBER OF BUSES IS 28 ON ONE SIDE WHICH IS 56 BUSES. THE NUMBER OF BUSES CURRENTLY IN THE SYSTEM IS 46 SO WE WOULD NEED MORE BUSES ON AN AVERAGE.\n"
   ]
  },
  {
   "cell_type": "code",
   "execution_count": 78,
   "metadata": {
    "colab": {
     "base_uri": "https://localhost:8080/",
     "height": 542
    },
    "id": "jzF4iGV8Ycsu",
    "outputId": "cfc2ebec-c869-48b5-ce1b-110a0d5400c8"
   },
   "outputs": [
    {
     "data": {
      "text/html": [
       "<html>\n",
       "<head><meta charset=\"utf-8\" /></head>\n",
       "<body>\n",
       "    <div>            <script src=\"https://cdnjs.cloudflare.com/ajax/libs/mathjax/2.7.5/MathJax.js?config=TeX-AMS-MML_SVG\"></script><script type=\"text/javascript\">if (window.MathJax && window.MathJax.Hub && window.MathJax.Hub.Config) {window.MathJax.Hub.Config({SVG: {font: \"STIX-Web\"}});}</script>                <script type=\"text/javascript\">window.PlotlyConfig = {MathJaxConfig: 'local'};</script>\n",
       "        <script src=\"https://cdn.plot.ly/plotly-2.18.2.min.js\"></script>                <div id=\"b46de569-a18f-4944-8b2d-5e287bb42d67\" class=\"plotly-graph-div\" style=\"height:525px; width:100%;\"></div>            <script type=\"text/javascript\">                                    window.PLOTLYENV=window.PLOTLYENV || {};                                    if (document.getElementById(\"b46de569-a18f-4944-8b2d-5e287bb42d67\")) {                    Plotly.newPlot(                        \"b46de569-a18f-4944-8b2d-5e287bb42d67\",                        [{\"nbinsx\":100,\"x\":[36,45,15,24,21,65,24,22,18,38,46,31,24,32,25,32,22,26,39,34,20,21,47,20,27,23,31,34,28,33,30,19,39,28,40,31,27,27,30,32,31,25,28,36,31,31,28,27,25,41,30,35,25,46,12,50,35,36,24,27,26,34,32,25,24,27,20,27,19,26,23,36,29,32,29,34,24,22,22,19,41,26,25,34,30,34,22,39,28,38,23,54,16,33,33,30,26,31,15,23,26,19,32,29,21,23,30,17,28,23,38,25,26,26,25,19,29,25,46,26,25,23,25,35,29,28,27,29,27,32,34,31,26,20,25,35,38,20,18,32,31,21,38,27,30,15,32,29,42,31,25,27,38,26,28,18,25,23,34,32,22,21,40,41,22,20,12,16,33,27,32,24,22,23,46,19,22,26,27,17,41,41,33,31,46,29,29,27,30,23,20,24,40,36,34,24,38,28,27,29,21,37,36,29,46,27,47,40,23,20,21,25,34,40,29,20,28,18,11,19,37,29,23,28,25,24,38,34,33,13,30,30,27,33,23,25,25,30,29,22,34,26,31,28,36,31,26,16,32,30,39,19,18,23,31,38,24,29,4,19,26,27,31,21,18,26,28,32,35,18,23,40,33,37,28,47,33,20,22,16,23,22,26,34,26,34,25,39,28,31,30,35,25,28,35,16,25,20,36,12,26,31,30,22,33,26,27,37,18,32,17,31,42,20,27,37,30,26,33,23,33,31,26,31,31,32,26,21,29,21,20,29,33,29,30,39,28,21,31,30,28,35,24,26,17,32,34,16,25,26,30,22,30,32,30,38,34,31,19,33,44,19,23,18,32,32,27,34,19,36,27,17,28,41,32,30,25,28,29,43,38,30,29,26,34,36,43,29,27,41,23,30,29,27,28,35,14,29,18,21,23,38,20,47,22,36,34,30,27,31,33,21,28,37,24,19,27,26,11,22,39,29,24,31,30,28,20,31,41,35,20,29,27,37,45,34,24,28,22,28,42,50,37,31,33,27,25,36,34,38,32,23,41,32,27,19,31,28,20,23,31,27,33,21,34,20,28,25,19,30,27,23,46,30,30,33,25,13,29,30,25,22,31,32,48,30,24,27,28,26,29,26,31,39,22,21,30,31,34,29,15,31,16,31,21,19,18,42,26,29,36,29,28,18,21,36,47,28,25,21,32,21,16,30,23,38,31,33,25,18,27,24,31,25,17,24,31,20,15,20,42,16,25,32,35,19,19,20,30,28,26,31,21,22,43,20,18,34,21,21,25,22,46,38,23,28,17,30,34,39,24,21,28,12,27,25,20,24,44,19,29,25,19,20,39,37,39,18,33,28,35,22,27,25,26,27,28,37,23,47,41,28,40,49,19,32,25,29,19,18,38,19,29,18,30,26,31,31,20,28,27,29,26,28,27,38,31,21,31,35,23,32,26,26,37,29,48,32,27,12,27,22,28,26,28,29,22,34,32,41,25,45,22,15,26,33,35,22,34,31,26,31,43,31,34,20,34,22,41,21,28,26,25,27,35,34,24,38,26,36,26,31,27,21,27,27,21,24,33,26,33,39,32,25,30,12,31,31,16,22,35,48,26,28,20,27,33,30,26,29,30,26,30,29,40,26,34,20,23,18,23,21,19,35,15,33,32,17,28,23,28,35,23,42,34,30,59,27,21,33,45,27,26,23,33,24,38,24,42,28,18,20,27,27,34,41,31,24,23,35,28,25,28,42,40,24,18,22,28,22,27,25,21,30,22,29,33,34,26,28,30,15,27,47,19,28,41,26,21,33,27,20,26,32,14,31,22,31,38,40,23,33,20,33,35,30,33,38,27,31,56,28,22,27,36,35,32,27,35,32,19,41,17,32,29,33,24,41,25,26,31,28,20,30,18,31,23,16,26,13,25,35,26,22,27,37,21,38,31,35,25,28,36,18,26,16,23,19,36,30,22,27,29,36,27,31,31,28,22,24,21,16,34,18,45,28,28,36,43,33,26,34,28,38,34,31,26,12,34,23,28,31,13,33,33,34,45,34,34,28,30,46,15,33,36,37,29,33,36,22,27,28,18,36,22,33,41,29,25,25,33,31,22,25,29,27,28,17,34,25,35,35,34,22,21,32,23,36,25,37,25,37,27,24,41,47,27,24,17,34,15,22,23,36,22,41,33,26,40,23,30,32,19,18,22,29,38,39,28,35,27,17,30,26,34,23,36,30,18,27,22,20,33,31,27,27,24,25,25,29,21,39,38,23,22,29,31,33,32,16],\"type\":\"histogram\"}],                        {\"title\":{\"text\":\"My Histogram\"},\"template\":{\"data\":{\"histogram2dcontour\":[{\"type\":\"histogram2dcontour\",\"colorbar\":{\"outlinewidth\":0,\"ticks\":\"\"},\"colorscale\":[[0.0,\"#0d0887\"],[0.1111111111111111,\"#46039f\"],[0.2222222222222222,\"#7201a8\"],[0.3333333333333333,\"#9c179e\"],[0.4444444444444444,\"#bd3786\"],[0.5555555555555556,\"#d8576b\"],[0.6666666666666666,\"#ed7953\"],[0.7777777777777778,\"#fb9f3a\"],[0.8888888888888888,\"#fdca26\"],[1.0,\"#f0f921\"]]}],\"choropleth\":[{\"type\":\"choropleth\",\"colorbar\":{\"outlinewidth\":0,\"ticks\":\"\"}}],\"histogram2d\":[{\"type\":\"histogram2d\",\"colorbar\":{\"outlinewidth\":0,\"ticks\":\"\"},\"colorscale\":[[0.0,\"#0d0887\"],[0.1111111111111111,\"#46039f\"],[0.2222222222222222,\"#7201a8\"],[0.3333333333333333,\"#9c179e\"],[0.4444444444444444,\"#bd3786\"],[0.5555555555555556,\"#d8576b\"],[0.6666666666666666,\"#ed7953\"],[0.7777777777777778,\"#fb9f3a\"],[0.8888888888888888,\"#fdca26\"],[1.0,\"#f0f921\"]]}],\"heatmap\":[{\"type\":\"heatmap\",\"colorbar\":{\"outlinewidth\":0,\"ticks\":\"\"},\"colorscale\":[[0.0,\"#0d0887\"],[0.1111111111111111,\"#46039f\"],[0.2222222222222222,\"#7201a8\"],[0.3333333333333333,\"#9c179e\"],[0.4444444444444444,\"#bd3786\"],[0.5555555555555556,\"#d8576b\"],[0.6666666666666666,\"#ed7953\"],[0.7777777777777778,\"#fb9f3a\"],[0.8888888888888888,\"#fdca26\"],[1.0,\"#f0f921\"]]}],\"heatmapgl\":[{\"type\":\"heatmapgl\",\"colorbar\":{\"outlinewidth\":0,\"ticks\":\"\"},\"colorscale\":[[0.0,\"#0d0887\"],[0.1111111111111111,\"#46039f\"],[0.2222222222222222,\"#7201a8\"],[0.3333333333333333,\"#9c179e\"],[0.4444444444444444,\"#bd3786\"],[0.5555555555555556,\"#d8576b\"],[0.6666666666666666,\"#ed7953\"],[0.7777777777777778,\"#fb9f3a\"],[0.8888888888888888,\"#fdca26\"],[1.0,\"#f0f921\"]]}],\"contourcarpet\":[{\"type\":\"contourcarpet\",\"colorbar\":{\"outlinewidth\":0,\"ticks\":\"\"}}],\"contour\":[{\"type\":\"contour\",\"colorbar\":{\"outlinewidth\":0,\"ticks\":\"\"},\"colorscale\":[[0.0,\"#0d0887\"],[0.1111111111111111,\"#46039f\"],[0.2222222222222222,\"#7201a8\"],[0.3333333333333333,\"#9c179e\"],[0.4444444444444444,\"#bd3786\"],[0.5555555555555556,\"#d8576b\"],[0.6666666666666666,\"#ed7953\"],[0.7777777777777778,\"#fb9f3a\"],[0.8888888888888888,\"#fdca26\"],[1.0,\"#f0f921\"]]}],\"surface\":[{\"type\":\"surface\",\"colorbar\":{\"outlinewidth\":0,\"ticks\":\"\"},\"colorscale\":[[0.0,\"#0d0887\"],[0.1111111111111111,\"#46039f\"],[0.2222222222222222,\"#7201a8\"],[0.3333333333333333,\"#9c179e\"],[0.4444444444444444,\"#bd3786\"],[0.5555555555555556,\"#d8576b\"],[0.6666666666666666,\"#ed7953\"],[0.7777777777777778,\"#fb9f3a\"],[0.8888888888888888,\"#fdca26\"],[1.0,\"#f0f921\"]]}],\"mesh3d\":[{\"type\":\"mesh3d\",\"colorbar\":{\"outlinewidth\":0,\"ticks\":\"\"}}],\"scatter\":[{\"fillpattern\":{\"fillmode\":\"overlay\",\"size\":10,\"solidity\":0.2},\"type\":\"scatter\"}],\"parcoords\":[{\"type\":\"parcoords\",\"line\":{\"colorbar\":{\"outlinewidth\":0,\"ticks\":\"\"}}}],\"scatterpolargl\":[{\"type\":\"scatterpolargl\",\"marker\":{\"colorbar\":{\"outlinewidth\":0,\"ticks\":\"\"}}}],\"bar\":[{\"error_x\":{\"color\":\"#2a3f5f\"},\"error_y\":{\"color\":\"#2a3f5f\"},\"marker\":{\"line\":{\"color\":\"#E5ECF6\",\"width\":0.5},\"pattern\":{\"fillmode\":\"overlay\",\"size\":10,\"solidity\":0.2}},\"type\":\"bar\"}],\"scattergeo\":[{\"type\":\"scattergeo\",\"marker\":{\"colorbar\":{\"outlinewidth\":0,\"ticks\":\"\"}}}],\"scatterpolar\":[{\"type\":\"scatterpolar\",\"marker\":{\"colorbar\":{\"outlinewidth\":0,\"ticks\":\"\"}}}],\"histogram\":[{\"marker\":{\"pattern\":{\"fillmode\":\"overlay\",\"size\":10,\"solidity\":0.2}},\"type\":\"histogram\"}],\"scattergl\":[{\"type\":\"scattergl\",\"marker\":{\"colorbar\":{\"outlinewidth\":0,\"ticks\":\"\"}}}],\"scatter3d\":[{\"type\":\"scatter3d\",\"line\":{\"colorbar\":{\"outlinewidth\":0,\"ticks\":\"\"}},\"marker\":{\"colorbar\":{\"outlinewidth\":0,\"ticks\":\"\"}}}],\"scattermapbox\":[{\"type\":\"scattermapbox\",\"marker\":{\"colorbar\":{\"outlinewidth\":0,\"ticks\":\"\"}}}],\"scatterternary\":[{\"type\":\"scatterternary\",\"marker\":{\"colorbar\":{\"outlinewidth\":0,\"ticks\":\"\"}}}],\"scattercarpet\":[{\"type\":\"scattercarpet\",\"marker\":{\"colorbar\":{\"outlinewidth\":0,\"ticks\":\"\"}}}],\"carpet\":[{\"aaxis\":{\"endlinecolor\":\"#2a3f5f\",\"gridcolor\":\"white\",\"linecolor\":\"white\",\"minorgridcolor\":\"white\",\"startlinecolor\":\"#2a3f5f\"},\"baxis\":{\"endlinecolor\":\"#2a3f5f\",\"gridcolor\":\"white\",\"linecolor\":\"white\",\"minorgridcolor\":\"white\",\"startlinecolor\":\"#2a3f5f\"},\"type\":\"carpet\"}],\"table\":[{\"cells\":{\"fill\":{\"color\":\"#EBF0F8\"},\"line\":{\"color\":\"white\"}},\"header\":{\"fill\":{\"color\":\"#C8D4E3\"},\"line\":{\"color\":\"white\"}},\"type\":\"table\"}],\"barpolar\":[{\"marker\":{\"line\":{\"color\":\"#E5ECF6\",\"width\":0.5},\"pattern\":{\"fillmode\":\"overlay\",\"size\":10,\"solidity\":0.2}},\"type\":\"barpolar\"}],\"pie\":[{\"automargin\":true,\"type\":\"pie\"}]},\"layout\":{\"autotypenumbers\":\"strict\",\"colorway\":[\"#636efa\",\"#EF553B\",\"#00cc96\",\"#ab63fa\",\"#FFA15A\",\"#19d3f3\",\"#FF6692\",\"#B6E880\",\"#FF97FF\",\"#FECB52\"],\"font\":{\"color\":\"#2a3f5f\"},\"hovermode\":\"closest\",\"hoverlabel\":{\"align\":\"left\"},\"paper_bgcolor\":\"white\",\"plot_bgcolor\":\"#E5ECF6\",\"polar\":{\"bgcolor\":\"#E5ECF6\",\"angularaxis\":{\"gridcolor\":\"white\",\"linecolor\":\"white\",\"ticks\":\"\"},\"radialaxis\":{\"gridcolor\":\"white\",\"linecolor\":\"white\",\"ticks\":\"\"}},\"ternary\":{\"bgcolor\":\"#E5ECF6\",\"aaxis\":{\"gridcolor\":\"white\",\"linecolor\":\"white\",\"ticks\":\"\"},\"baxis\":{\"gridcolor\":\"white\",\"linecolor\":\"white\",\"ticks\":\"\"},\"caxis\":{\"gridcolor\":\"white\",\"linecolor\":\"white\",\"ticks\":\"\"}},\"coloraxis\":{\"colorbar\":{\"outlinewidth\":0,\"ticks\":\"\"}},\"colorscale\":{\"sequential\":[[0.0,\"#0d0887\"],[0.1111111111111111,\"#46039f\"],[0.2222222222222222,\"#7201a8\"],[0.3333333333333333,\"#9c179e\"],[0.4444444444444444,\"#bd3786\"],[0.5555555555555556,\"#d8576b\"],[0.6666666666666666,\"#ed7953\"],[0.7777777777777778,\"#fb9f3a\"],[0.8888888888888888,\"#fdca26\"],[1.0,\"#f0f921\"]],\"sequentialminus\":[[0.0,\"#0d0887\"],[0.1111111111111111,\"#46039f\"],[0.2222222222222222,\"#7201a8\"],[0.3333333333333333,\"#9c179e\"],[0.4444444444444444,\"#bd3786\"],[0.5555555555555556,\"#d8576b\"],[0.6666666666666666,\"#ed7953\"],[0.7777777777777778,\"#fb9f3a\"],[0.8888888888888888,\"#fdca26\"],[1.0,\"#f0f921\"]],\"diverging\":[[0,\"#8e0152\"],[0.1,\"#c51b7d\"],[0.2,\"#de77ae\"],[0.3,\"#f1b6da\"],[0.4,\"#fde0ef\"],[0.5,\"#f7f7f7\"],[0.6,\"#e6f5d0\"],[0.7,\"#b8e186\"],[0.8,\"#7fbc41\"],[0.9,\"#4d9221\"],[1,\"#276419\"]]},\"xaxis\":{\"gridcolor\":\"white\",\"linecolor\":\"white\",\"ticks\":\"\",\"title\":{\"standoff\":15},\"zerolinecolor\":\"white\",\"automargin\":true,\"zerolinewidth\":2},\"yaxis\":{\"gridcolor\":\"white\",\"linecolor\":\"white\",\"ticks\":\"\",\"title\":{\"standoff\":15},\"zerolinecolor\":\"white\",\"automargin\":true,\"zerolinewidth\":2},\"scene\":{\"xaxis\":{\"backgroundcolor\":\"#E5ECF6\",\"gridcolor\":\"white\",\"linecolor\":\"white\",\"showbackground\":true,\"ticks\":\"\",\"zerolinecolor\":\"white\",\"gridwidth\":2},\"yaxis\":{\"backgroundcolor\":\"#E5ECF6\",\"gridcolor\":\"white\",\"linecolor\":\"white\",\"showbackground\":true,\"ticks\":\"\",\"zerolinecolor\":\"white\",\"gridwidth\":2},\"zaxis\":{\"backgroundcolor\":\"#E5ECF6\",\"gridcolor\":\"white\",\"linecolor\":\"white\",\"showbackground\":true,\"ticks\":\"\",\"zerolinecolor\":\"white\",\"gridwidth\":2}},\"shapedefaults\":{\"line\":{\"color\":\"#2a3f5f\"}},\"annotationdefaults\":{\"arrowcolor\":\"#2a3f5f\",\"arrowhead\":0,\"arrowwidth\":1},\"geo\":{\"bgcolor\":\"white\",\"landcolor\":\"#E5ECF6\",\"subunitcolor\":\"white\",\"showland\":true,\"showlakes\":true,\"lakecolor\":\"white\"},\"title\":{\"x\":0.05},\"mapbox\":{\"style\":\"light\"}}},\"shapes\":[{\"line\":{\"color\":\"red\",\"dash\":\"dot\",\"width\":3},\"type\":\"line\",\"x0\":23,\"x1\":23,\"y0\":0,\"y1\":128}]},                        {\"responsive\": true}                    ).then(function(){\n",
       "                            \n",
       "var gd = document.getElementById('b46de569-a18f-4944-8b2d-5e287bb42d67');\n",
       "var x = new MutationObserver(function (mutations, observer) {{\n",
       "        var display = window.getComputedStyle(gd).display;\n",
       "        if (!display || display === 'none') {{\n",
       "            console.log([gd, 'removed!']);\n",
       "            Plotly.purge(gd);\n",
       "            observer.disconnect();\n",
       "        }}\n",
       "}});\n",
       "\n",
       "// Listen for the removal of the full notebook cells\n",
       "var notebookContainer = gd.closest('#notebook-container');\n",
       "if (notebookContainer) {{\n",
       "    x.observe(notebookContainer, {childList: true});\n",
       "}}\n",
       "\n",
       "// Listen for the clearing of the current output cell\n",
       "var outputEl = gd.closest('.output');\n",
       "if (outputEl) {{\n",
       "    x.observe(outputEl, {childList: true});\n",
       "}}\n",
       "\n",
       "                        })                };                            </script>        </div>\n",
       "</body>\n",
       "</html>"
      ]
     },
     "metadata": {},
     "output_type": "display_data"
    }
   ],
   "source": [
    "trace = go.Histogram(x=results, nbinsx=100)\n",
    "\n",
    "# Define the layout\n",
    "layout = go.Layout(title='My Histogram')\n",
    "\n",
    "# Create the figure\n",
    "fig = go.Figure(data=[trace], layout=layout)\n",
    "\n",
    "fig.add_shape(\n",
    "    type=\"line\",\n",
    "    x0=23,\n",
    "    y0=0,\n",
    "    x1=23,\n",
    "    y1=max(np.histogram(results, bins=30)[0]),\n",
    "    line=dict(\n",
    "        color=\"red\",\n",
    "        width=3,\n",
    "        dash=\"dot\",\n",
    "    )\n",
    ")\n",
    "\n",
    "# Show the figure\n",
    "fig.show()"
   ]
  },
  {
   "cell_type": "markdown",
   "metadata": {
    "id": "QGWtO5aRZeAS"
   },
   "source": [
    "OUT OF 1000 SIMULATIONS OF RANDOMLY GENERATED DEMAND, 244 TIMES THE SYSTEM WAS ABLE TO ACHIEVE THE DEMAND WITH THE NUMBER OF BUSES PRESENT IN THE SYSTEM"
   ]
  },
  {
   "cell_type": "markdown",
   "metadata": {
    "id": "AbF2LKfeZrX_"
   },
   "source": [
    "#TOTAL TRIPS MADE BY ALL BUSES IN OTHER DIRECTION"
   ]
  },
  {
   "cell_type": "code",
   "execution_count": 27,
   "metadata": {
    "colab": {
     "base_uri": "https://localhost:8080/"
    },
    "id": "8k7TSUVxZgZt",
    "outputId": "edd721a4-dd64-4301-ebb1-48ce6fe1b52a"
   },
   "outputs": [
    {
     "name": "stdout",
     "output_type": "stream",
     "text": [
      "Bus number         1\n",
      "Number of trips    5\n",
      "Name: 0, dtype: object\n",
      "255\n",
      "Bus number         2\n",
      "Number of trips    5\n",
      "Name: 1, dtype: object\n",
      "510\n",
      "Bus number         3\n",
      "Number of trips    5\n",
      "Name: 2, dtype: object\n",
      "765\n",
      "Bus number         4\n",
      "Number of trips    4\n",
      "Name: 3, dtype: object\n",
      "969\n",
      "Bus number         5\n",
      "Number of trips    4\n",
      "Name: 4, dtype: object\n",
      "1173\n",
      "Bus number         6\n",
      "Number of trips    4\n",
      "Name: 5, dtype: object\n",
      "1377\n",
      "Bus number         7\n",
      "Number of trips    4\n",
      "Name: 6, dtype: object\n",
      "1581\n",
      "Bus number         8\n",
      "Number of trips    4\n",
      "Name: 7, dtype: object\n",
      "1785\n",
      "Bus number         9\n",
      "Number of trips    4\n",
      "Name: 8, dtype: object\n",
      "1989\n",
      "Bus number         10\n",
      "Number of trips     4\n",
      "Name: 9, dtype: object\n",
      "2193\n",
      "Bus number         11\n",
      "Number of trips     4\n",
      "Name: 10, dtype: object\n",
      "2397\n",
      "Bus number         12\n",
      "Number of trips     4\n",
      "Name: 11, dtype: object\n",
      "2601\n",
      "Bus number         13\n",
      "Number of trips     4\n",
      "Name: 12, dtype: object\n",
      "2805\n",
      "Bus number         14\n",
      "Number of trips     4\n",
      "Name: 13, dtype: object\n",
      "3009\n",
      "Bus number         15\n",
      "Number of trips     4\n",
      "Name: 14, dtype: object\n",
      "3213\n",
      "Bus number         16\n",
      "Number of trips     4\n",
      "Name: 15, dtype: object\n",
      "3417\n",
      "Bus number         17\n",
      "Number of trips     4\n",
      "Name: 16, dtype: object\n",
      "3621\n",
      "Bus number         18\n",
      "Number of trips     4\n",
      "Name: 17, dtype: object\n",
      "3825\n",
      "Bus number         19\n",
      "Number of trips     4\n",
      "Name: 18, dtype: object\n",
      "4029\n",
      "Bus number         20\n",
      "Number of trips     3\n",
      "Name: 19, dtype: object\n",
      "4182\n",
      "Bus number         21\n",
      "Number of trips     3\n",
      "Name: 20, dtype: object\n",
      "4335\n",
      "Bus number         22\n",
      "Number of trips     3\n",
      "Name: 21, dtype: object\n",
      "4488\n",
      "Bus number         23\n",
      "Number of trips     3\n",
      "Name: 22, dtype: object\n",
      "4641\n",
      "Bus number         24\n",
      "Number of trips     3\n",
      "Name: 23, dtype: object\n",
      "4794\n",
      "Bus number         25\n",
      "Number of trips     3\n",
      "Name: 24, dtype: object\n",
      "4947\n",
      "Bus number         26\n",
      "Number of trips     3\n",
      "Name: 25, dtype: object\n",
      "5100\n",
      "Bus number         27\n",
      "Number of trips     3\n",
      "Name: 26, dtype: object\n",
      "5253\n",
      "Bus number         28\n",
      "Number of trips     3\n",
      "Name: 27, dtype: object\n",
      "5406\n",
      "28\n",
      "106\n"
     ]
    }
   ],
   "source": [
    "headway = 3\n",
    "time = 240\n",
    "speed = 15\n",
    "trip_distance = 11.57\n",
    "trip_time = trip_distance/(speed/60)\n",
    "#Add 20 minutes per trip then buses increase from 7 to 12\n",
    "\n",
    "number_of_trips = []\n",
    "\n",
    "buses = 28\n",
    "total_people = 5343\n",
    "trips = pd.DataFrame(columns=[\"Bus number\", \"Number of trips\"])\n",
    "\n",
    "for i in range(0, buses):\n",
    "  x = int(time/trip_time)\n",
    "  time = time - headway\n",
    "\n",
    "  dict1 = {'Bus number': [i+1], 'Number of trips': [x]}\n",
    "  df2 = pd.DataFrame(dict1)\n",
    "  trips = pd.concat([trips, df2], ignore_index = True)\n",
    "\n",
    "  trips.reset_index(drop = True)\n",
    "\n",
    "sum1 = 0\n",
    "for i, row in trips.iterrows():\n",
    "  print(row)\n",
    "  sum1 = sum1 + (row[\"Number of trips\"]*51)\n",
    "  print(sum1)\n",
    "  number_of_trips.append(int(row[\"Number of trips\"]))\n",
    "  if sum1 > total_people:\n",
    "    print(row[\"Bus number\"])\n",
    "    break\n",
    "# print(trips.head(20))\n",
    "print(sum(number_of_trips))"
   ]
  },
  {
   "cell_type": "code",
   "execution_count": 28,
   "metadata": {
    "id": "ZmzTX0kAaNHj"
   },
   "outputs": [],
   "source": [
    "people_getting_on = [0, 359, 538,674,2423,2788,3432,3585,4288,4457,4657,5301,5343,5343,5192,4904,3514,1918,1623,1231,628]\n",
    "percent_full = []\n",
    "\n",
    "for i in people_getting_on:\n",
    "  x = round(i/(sum(number_of_trips)*51), 2)\n",
    "  if x <= 100.0:\n",
    "    percent_full.append(x)\n",
    "  else:\n",
    "    percent_full.append(100.0)"
   ]
  },
  {
   "cell_type": "code",
   "execution_count": 29,
   "metadata": {
    "colab": {
     "base_uri": "https://localhost:8080/",
     "height": 560
    },
    "id": "sm6A3PEAbOND",
    "outputId": "29f3f003-0ef9-48aa-dcfd-bccf4401bbca"
   },
   "outputs": [
    {
     "name": "stdout",
     "output_type": "stream",
     "text": [
      "[0, 3, 5, 6, 22, 26, 32, 33, 40, 41, 43, 49, 50, 50, 48, 46, 33, 17, 15, 11, 6]\n"
     ]
    },
    {
     "data": {
      "text/html": [
       "<html>\n",
       "<head><meta charset=\"utf-8\" /></head>\n",
       "<body>\n",
       "    <div>            <script src=\"https://cdnjs.cloudflare.com/ajax/libs/mathjax/2.7.5/MathJax.js?config=TeX-AMS-MML_SVG\"></script><script type=\"text/javascript\">if (window.MathJax && window.MathJax.Hub && window.MathJax.Hub.Config) {window.MathJax.Hub.Config({SVG: {font: \"STIX-Web\"}});}</script>                <script type=\"text/javascript\">window.PlotlyConfig = {MathJaxConfig: 'local'};</script>\n",
       "        <script src=\"https://cdn.plot.ly/plotly-2.18.2.min.js\"></script>                <div id=\"f20e26e5-67bb-46ca-b66f-715ccaeb913a\" class=\"plotly-graph-div\" style=\"height:525px; width:100%;\"></div>            <script type=\"text/javascript\">                                    window.PLOTLYENV=window.PLOTLYENV || {};                                    if (document.getElementById(\"f20e26e5-67bb-46ca-b66f-715ccaeb913a\")) {                    Plotly.newPlot(                        \"f20e26e5-67bb-46ca-b66f-715ccaeb913a\",                        [{\"x\":[\"Rajiv Gandhi\",\"Mata Gujri\",\"Vishnupuri\",\"Bhanwarkuan Square\",\"Holkar Subway\",\"Navlakha Square\",\"Indra Pratima\",\"GPO\",\"Shivaji Vatika\",\"AICTSL\",\"Geeta Bhawan\",\"Palasiya\",\"Industry House\",\"LIG\",\"Press Complex\",\"MR-9\",\"Vijay Nagar\",\"Satya Sai\",\"Shalimar Township\",\"Scheme No. 78\",\"Niranjanpur Square\"],\"y\":[0,3,5,6,22,26,32,33,40,41,43,49,50,50,48,46,33,17,15,11,6],\"type\":\"bar\"}],                        {\"title\":{\"text\":\"Passenger Distribution per bus per stop\"},\"template\":{\"data\":{\"histogram2dcontour\":[{\"type\":\"histogram2dcontour\",\"colorbar\":{\"outlinewidth\":0,\"ticks\":\"\"},\"colorscale\":[[0.0,\"#0d0887\"],[0.1111111111111111,\"#46039f\"],[0.2222222222222222,\"#7201a8\"],[0.3333333333333333,\"#9c179e\"],[0.4444444444444444,\"#bd3786\"],[0.5555555555555556,\"#d8576b\"],[0.6666666666666666,\"#ed7953\"],[0.7777777777777778,\"#fb9f3a\"],[0.8888888888888888,\"#fdca26\"],[1.0,\"#f0f921\"]]}],\"choropleth\":[{\"type\":\"choropleth\",\"colorbar\":{\"outlinewidth\":0,\"ticks\":\"\"}}],\"histogram2d\":[{\"type\":\"histogram2d\",\"colorbar\":{\"outlinewidth\":0,\"ticks\":\"\"},\"colorscale\":[[0.0,\"#0d0887\"],[0.1111111111111111,\"#46039f\"],[0.2222222222222222,\"#7201a8\"],[0.3333333333333333,\"#9c179e\"],[0.4444444444444444,\"#bd3786\"],[0.5555555555555556,\"#d8576b\"],[0.6666666666666666,\"#ed7953\"],[0.7777777777777778,\"#fb9f3a\"],[0.8888888888888888,\"#fdca26\"],[1.0,\"#f0f921\"]]}],\"heatmap\":[{\"type\":\"heatmap\",\"colorbar\":{\"outlinewidth\":0,\"ticks\":\"\"},\"colorscale\":[[0.0,\"#0d0887\"],[0.1111111111111111,\"#46039f\"],[0.2222222222222222,\"#7201a8\"],[0.3333333333333333,\"#9c179e\"],[0.4444444444444444,\"#bd3786\"],[0.5555555555555556,\"#d8576b\"],[0.6666666666666666,\"#ed7953\"],[0.7777777777777778,\"#fb9f3a\"],[0.8888888888888888,\"#fdca26\"],[1.0,\"#f0f921\"]]}],\"heatmapgl\":[{\"type\":\"heatmapgl\",\"colorbar\":{\"outlinewidth\":0,\"ticks\":\"\"},\"colorscale\":[[0.0,\"#0d0887\"],[0.1111111111111111,\"#46039f\"],[0.2222222222222222,\"#7201a8\"],[0.3333333333333333,\"#9c179e\"],[0.4444444444444444,\"#bd3786\"],[0.5555555555555556,\"#d8576b\"],[0.6666666666666666,\"#ed7953\"],[0.7777777777777778,\"#fb9f3a\"],[0.8888888888888888,\"#fdca26\"],[1.0,\"#f0f921\"]]}],\"contourcarpet\":[{\"type\":\"contourcarpet\",\"colorbar\":{\"outlinewidth\":0,\"ticks\":\"\"}}],\"contour\":[{\"type\":\"contour\",\"colorbar\":{\"outlinewidth\":0,\"ticks\":\"\"},\"colorscale\":[[0.0,\"#0d0887\"],[0.1111111111111111,\"#46039f\"],[0.2222222222222222,\"#7201a8\"],[0.3333333333333333,\"#9c179e\"],[0.4444444444444444,\"#bd3786\"],[0.5555555555555556,\"#d8576b\"],[0.6666666666666666,\"#ed7953\"],[0.7777777777777778,\"#fb9f3a\"],[0.8888888888888888,\"#fdca26\"],[1.0,\"#f0f921\"]]}],\"surface\":[{\"type\":\"surface\",\"colorbar\":{\"outlinewidth\":0,\"ticks\":\"\"},\"colorscale\":[[0.0,\"#0d0887\"],[0.1111111111111111,\"#46039f\"],[0.2222222222222222,\"#7201a8\"],[0.3333333333333333,\"#9c179e\"],[0.4444444444444444,\"#bd3786\"],[0.5555555555555556,\"#d8576b\"],[0.6666666666666666,\"#ed7953\"],[0.7777777777777778,\"#fb9f3a\"],[0.8888888888888888,\"#fdca26\"],[1.0,\"#f0f921\"]]}],\"mesh3d\":[{\"type\":\"mesh3d\",\"colorbar\":{\"outlinewidth\":0,\"ticks\":\"\"}}],\"scatter\":[{\"fillpattern\":{\"fillmode\":\"overlay\",\"size\":10,\"solidity\":0.2},\"type\":\"scatter\"}],\"parcoords\":[{\"type\":\"parcoords\",\"line\":{\"colorbar\":{\"outlinewidth\":0,\"ticks\":\"\"}}}],\"scatterpolargl\":[{\"type\":\"scatterpolargl\",\"marker\":{\"colorbar\":{\"outlinewidth\":0,\"ticks\":\"\"}}}],\"bar\":[{\"error_x\":{\"color\":\"#2a3f5f\"},\"error_y\":{\"color\":\"#2a3f5f\"},\"marker\":{\"line\":{\"color\":\"#E5ECF6\",\"width\":0.5},\"pattern\":{\"fillmode\":\"overlay\",\"size\":10,\"solidity\":0.2}},\"type\":\"bar\"}],\"scattergeo\":[{\"type\":\"scattergeo\",\"marker\":{\"colorbar\":{\"outlinewidth\":0,\"ticks\":\"\"}}}],\"scatterpolar\":[{\"type\":\"scatterpolar\",\"marker\":{\"colorbar\":{\"outlinewidth\":0,\"ticks\":\"\"}}}],\"histogram\":[{\"marker\":{\"pattern\":{\"fillmode\":\"overlay\",\"size\":10,\"solidity\":0.2}},\"type\":\"histogram\"}],\"scattergl\":[{\"type\":\"scattergl\",\"marker\":{\"colorbar\":{\"outlinewidth\":0,\"ticks\":\"\"}}}],\"scatter3d\":[{\"type\":\"scatter3d\",\"line\":{\"colorbar\":{\"outlinewidth\":0,\"ticks\":\"\"}},\"marker\":{\"colorbar\":{\"outlinewidth\":0,\"ticks\":\"\"}}}],\"scattermapbox\":[{\"type\":\"scattermapbox\",\"marker\":{\"colorbar\":{\"outlinewidth\":0,\"ticks\":\"\"}}}],\"scatterternary\":[{\"type\":\"scatterternary\",\"marker\":{\"colorbar\":{\"outlinewidth\":0,\"ticks\":\"\"}}}],\"scattercarpet\":[{\"type\":\"scattercarpet\",\"marker\":{\"colorbar\":{\"outlinewidth\":0,\"ticks\":\"\"}}}],\"carpet\":[{\"aaxis\":{\"endlinecolor\":\"#2a3f5f\",\"gridcolor\":\"white\",\"linecolor\":\"white\",\"minorgridcolor\":\"white\",\"startlinecolor\":\"#2a3f5f\"},\"baxis\":{\"endlinecolor\":\"#2a3f5f\",\"gridcolor\":\"white\",\"linecolor\":\"white\",\"minorgridcolor\":\"white\",\"startlinecolor\":\"#2a3f5f\"},\"type\":\"carpet\"}],\"table\":[{\"cells\":{\"fill\":{\"color\":\"#EBF0F8\"},\"line\":{\"color\":\"white\"}},\"header\":{\"fill\":{\"color\":\"#C8D4E3\"},\"line\":{\"color\":\"white\"}},\"type\":\"table\"}],\"barpolar\":[{\"marker\":{\"line\":{\"color\":\"#E5ECF6\",\"width\":0.5},\"pattern\":{\"fillmode\":\"overlay\",\"size\":10,\"solidity\":0.2}},\"type\":\"barpolar\"}],\"pie\":[{\"automargin\":true,\"type\":\"pie\"}]},\"layout\":{\"autotypenumbers\":\"strict\",\"colorway\":[\"#636efa\",\"#EF553B\",\"#00cc96\",\"#ab63fa\",\"#FFA15A\",\"#19d3f3\",\"#FF6692\",\"#B6E880\",\"#FF97FF\",\"#FECB52\"],\"font\":{\"color\":\"#2a3f5f\"},\"hovermode\":\"closest\",\"hoverlabel\":{\"align\":\"left\"},\"paper_bgcolor\":\"white\",\"plot_bgcolor\":\"#E5ECF6\",\"polar\":{\"bgcolor\":\"#E5ECF6\",\"angularaxis\":{\"gridcolor\":\"white\",\"linecolor\":\"white\",\"ticks\":\"\"},\"radialaxis\":{\"gridcolor\":\"white\",\"linecolor\":\"white\",\"ticks\":\"\"}},\"ternary\":{\"bgcolor\":\"#E5ECF6\",\"aaxis\":{\"gridcolor\":\"white\",\"linecolor\":\"white\",\"ticks\":\"\"},\"baxis\":{\"gridcolor\":\"white\",\"linecolor\":\"white\",\"ticks\":\"\"},\"caxis\":{\"gridcolor\":\"white\",\"linecolor\":\"white\",\"ticks\":\"\"}},\"coloraxis\":{\"colorbar\":{\"outlinewidth\":0,\"ticks\":\"\"}},\"colorscale\":{\"sequential\":[[0.0,\"#0d0887\"],[0.1111111111111111,\"#46039f\"],[0.2222222222222222,\"#7201a8\"],[0.3333333333333333,\"#9c179e\"],[0.4444444444444444,\"#bd3786\"],[0.5555555555555556,\"#d8576b\"],[0.6666666666666666,\"#ed7953\"],[0.7777777777777778,\"#fb9f3a\"],[0.8888888888888888,\"#fdca26\"],[1.0,\"#f0f921\"]],\"sequentialminus\":[[0.0,\"#0d0887\"],[0.1111111111111111,\"#46039f\"],[0.2222222222222222,\"#7201a8\"],[0.3333333333333333,\"#9c179e\"],[0.4444444444444444,\"#bd3786\"],[0.5555555555555556,\"#d8576b\"],[0.6666666666666666,\"#ed7953\"],[0.7777777777777778,\"#fb9f3a\"],[0.8888888888888888,\"#fdca26\"],[1.0,\"#f0f921\"]],\"diverging\":[[0,\"#8e0152\"],[0.1,\"#c51b7d\"],[0.2,\"#de77ae\"],[0.3,\"#f1b6da\"],[0.4,\"#fde0ef\"],[0.5,\"#f7f7f7\"],[0.6,\"#e6f5d0\"],[0.7,\"#b8e186\"],[0.8,\"#7fbc41\"],[0.9,\"#4d9221\"],[1,\"#276419\"]]},\"xaxis\":{\"gridcolor\":\"white\",\"linecolor\":\"white\",\"ticks\":\"\",\"title\":{\"standoff\":15},\"zerolinecolor\":\"white\",\"automargin\":true,\"zerolinewidth\":2},\"yaxis\":{\"gridcolor\":\"white\",\"linecolor\":\"white\",\"ticks\":\"\",\"title\":{\"standoff\":15},\"zerolinecolor\":\"white\",\"automargin\":true,\"zerolinewidth\":2},\"scene\":{\"xaxis\":{\"backgroundcolor\":\"#E5ECF6\",\"gridcolor\":\"white\",\"linecolor\":\"white\",\"showbackground\":true,\"ticks\":\"\",\"zerolinecolor\":\"white\",\"gridwidth\":2},\"yaxis\":{\"backgroundcolor\":\"#E5ECF6\",\"gridcolor\":\"white\",\"linecolor\":\"white\",\"showbackground\":true,\"ticks\":\"\",\"zerolinecolor\":\"white\",\"gridwidth\":2},\"zaxis\":{\"backgroundcolor\":\"#E5ECF6\",\"gridcolor\":\"white\",\"linecolor\":\"white\",\"showbackground\":true,\"ticks\":\"\",\"zerolinecolor\":\"white\",\"gridwidth\":2}},\"shapedefaults\":{\"line\":{\"color\":\"#2a3f5f\"}},\"annotationdefaults\":{\"arrowcolor\":\"#2a3f5f\",\"arrowhead\":0,\"arrowwidth\":1},\"geo\":{\"bgcolor\":\"white\",\"landcolor\":\"#E5ECF6\",\"subunitcolor\":\"white\",\"showland\":true,\"showlakes\":true,\"lakecolor\":\"white\"},\"title\":{\"x\":0.05},\"mapbox\":{\"style\":\"light\"}}}},                        {\"responsive\": true}                    ).then(function(){\n",
       "                            \n",
       "var gd = document.getElementById('f20e26e5-67bb-46ca-b66f-715ccaeb913a');\n",
       "var x = new MutationObserver(function (mutations, observer) {{\n",
       "        var display = window.getComputedStyle(gd).display;\n",
       "        if (!display || display === 'none') {{\n",
       "            console.log([gd, 'removed!']);\n",
       "            Plotly.purge(gd);\n",
       "            observer.disconnect();\n",
       "        }}\n",
       "}});\n",
       "\n",
       "// Listen for the removal of the full notebook cells\n",
       "var notebookContainer = gd.closest('#notebook-container');\n",
       "if (notebookContainer) {{\n",
       "    x.observe(notebookContainer, {childList: true});\n",
       "}}\n",
       "\n",
       "// Listen for the clearing of the current output cell\n",
       "var outputEl = gd.closest('.output');\n",
       "if (outputEl) {{\n",
       "    x.observe(outputEl, {childList: true});\n",
       "}}\n",
       "\n",
       "                        })                };                            </script>        </div>\n",
       "</body>\n",
       "</html>"
      ]
     },
     "metadata": {},
     "output_type": "display_data"
    }
   ],
   "source": [
    "dist = []\n",
    "for i in percent_full:\n",
    "  dist.append(int(i * 51))\n",
    "print(dist)\n",
    "\n",
    "stop_names = ['Rajiv Gandhi',\n",
    " 'Mata Gujri',\n",
    " 'Vishnupuri',\n",
    " 'Bhanwarkuan Square',\n",
    " 'Holkar Subway',\n",
    " 'Navlakha Square',\n",
    " 'Indra Pratima',\n",
    " 'GPO',\n",
    " 'Shivaji Vatika',\n",
    " 'AICTSL',\n",
    " 'Geeta Bhawan',\n",
    " 'Palasiya',\n",
    " 'Industry House',\n",
    " 'LIG',\n",
    " 'Press Complex',\n",
    " 'MR-9',\n",
    " 'Vijay Nagar',\n",
    " 'Satya Sai',\n",
    " 'Shalimar Township',\n",
    " 'Scheme No. 78',\n",
    " 'Niranjanpur Square']\n",
    "\n",
    "trace = go.Bar(x=stop_names, y=dist)\n",
    "layout = go.Layout(title='Passenger Distribution per bus per stop')\n",
    "fig = go.Figure(data=[trace], layout=layout)\n",
    "fig.show()"
   ]
  },
  {
   "cell_type": "markdown",
   "metadata": {
    "id": "Nib-I6stbsG9"
   },
   "source": [
    "#**NON-PEAK**\n",
    "\n"
   ]
  },
  {
   "cell_type": "markdown",
   "metadata": {
    "id": "rmO0UX1McBxr"
   },
   "source": [
    "# CODE FOR NON-PEAK HOURS FOR GOING FROM RAJIV GANDHI TO NIRANJANPUR SQUARE"
   ]
  },
  {
   "cell_type": "code",
   "execution_count": 82,
   "metadata": {
    "colab": {
     "base_uri": "https://localhost:8080/"
    },
    "id": "gZXAklHLcJ1H",
    "outputId": "3b286a12-13c4-4c27-9c09-069b1d3da182"
   },
   "outputs": [
    {
     "name": "stdout",
     "output_type": "stream",
     "text": [
      "[7, 5, 4, 6, 8, 4, 6, 6, 6, 5, 6, 6, 5, 6, 7, 7, 5, 4, 7, 8, 3, 7, 8, 8, 5, 8, 8, 12, 5, 7, 7, 6, 9, 5, 6, 4, 6, 5, 6, 4, 6, 7, 9, 6, 9, 7, 7, 6, 7, 5, 4, 6, 6, 8, 7, 6, 7, 6, 8, 7, 7, 8, 6, 6, 4, 7, 5, 7, 6, 9, 6, 6, 5, 4, 6, 5, 6, 4, 7, 8, 8, 7, 5, 6, 8, 7, 8, 6, 5, 5, 9, 6, 6, 9, 6, 4, 6, 7, 8, 6, 9, 7, 6, 6, 5, 8, 7, 5, 6, 7, 5, 6, 6, 7, 6, 8, 7, 6, 6, 7, 8, 5, 6, 9, 6, 7, 5, 5, 6, 7, 6, 3, 6, 7, 5, 8, 6, 8, 7, 7, 5, 6, 4, 7, 6, 6, 7, 6, 7, 7, 6, 6, 6, 4, 6, 8, 5, 6, 8, 6, 6, 6, 7, 6, 6, 6, 4, 6, 6, 6, 8, 8, 5, 8, 5, 6, 5, 6, 5, 6, 5, 6, 8, 5, 6, 7, 7, 5, 10, 8, 4, 6, 9, 5, 7, 3, 9, 5, 5, 6, 5, 3, 6, 4, 5, 9, 10, 5, 8, 6, 4, 7, 4, 5, 9, 5, 7, 6, 5, 8, 5, 6, 7, 8, 8, 7, 5, 6, 9, 5, 7, 6, 7, 8, 4, 5, 7, 8, 6, 5, 8, 8, 7, 6, 6, 7, 5, 6, 8, 7, 5, 8, 3, 8, 9, 6, 8, 6, 5, 9, 8, 7, 7, 4, 7, 7, 8, 5, 5, 8, 4, 6, 9, 4, 8, 7, 6, 7, 6, 7, 7, 6, 5, 7, 6, 6, 6, 4, 5, 8, 7, 6, 7, 9, 7, 6, 9, 7, 6, 6, 9, 10, 7, 9, 6, 6, 6, 5, 5, 7, 5, 8, 8, 6, 5, 8, 7, 5, 5, 6, 6, 6, 5, 5, 6, 6, 6, 8, 9, 5, 6, 9, 5, 6, 8, 7, 5, 6, 6, 7, 5, 7, 5, 5, 6, 7, 7, 6, 8, 6, 7, 6, 7, 5, 7, 4, 7, 4, 5, 6, 6, 8, 8, 6, 7, 6, 6, 6, 6, 5, 7, 6, 7, 6, 6, 9, 7, 9, 8, 5, 7, 5, 8, 8, 7, 7, 6, 7, 7, 9, 5, 5, 4, 7, 5, 7, 4, 8, 6, 9, 7, 7, 5, 3, 6, 9, 6, 6, 4, 6, 5, 5, 7, 6, 6, 8, 4, 5, 7, 8, 6, 5, 7, 5, 6, 5, 7, 6, 6, 6, 7, 5, 7, 6, 6, 8, 6, 8, 6, 9, 8, 6, 7, 9, 6, 9, 6, 5, 7, 5, 6, 6, 6, 7, 8, 6, 7, 4, 5, 7, 6, 7, 6, 7, 8, 5, 6, 5, 7, 4, 7, 6, 8, 8, 9, 7, 8, 5, 5, 7, 6, 8, 7, 5, 5, 7, 5, 4, 6, 8, 6, 6, 6, 9, 5, 6, 8, 5, 6, 5, 7, 7, 6, 4, 8, 6, 7, 3, 4, 6, 6, 5, 7, 7, 4, 6, 8, 4, 6, 7, 7, 6, 5, 4, 8, 7, 8, 6, 5, 5, 5, 4, 6, 7, 9, 8, 6, 5, 7, 7, 6, 7, 6, 7, 6, 8, 6, 6, 6, 8, 6, 9, 5, 6, 8, 6, 9, 4, 6, 5, 7, 7, 5, 5, 8, 7, 5, 6, 6, 7, 6, 8, 8, 6, 5, 6, 7, 7, 7, 3, 9, 7, 6, 6, 6, 7, 6, 8, 7, 5, 9, 6, 6, 7, 6, 7, 7, 7, 8, 6, 7, 5, 7, 6, 7, 9, 7, 6, 6, 5, 6, 5, 8, 8, 9, 6, 7, 8, 7, 6, 6, 7, 6, 9, 6, 7, 5, 7, 8, 10, 6, 9, 6, 4, 6, 9, 5, 5, 8, 6, 5, 6, 6, 7, 8, 5, 6, 8, 7, 4, 8, 8, 7, 7, 6, 5, 5, 7, 7, 6, 6, 4, 6, 7, 6, 6, 5, 9, 7, 7, 10, 7, 6, 6, 8, 6, 7, 6, 8, 5, 7, 6, 6, 8, 9, 6, 5, 5, 8, 9, 6, 7, 6, 7, 6, 5, 9, 7, 7, 4, 7, 7, 7, 6, 6, 4, 4, 6, 6, 5, 7, 6, 7, 8, 6, 5, 4, 8, 5, 5, 7, 6, 8, 7, 4, 8, 7, 8, 7, 8, 8, 6, 5, 6, 7, 7, 8, 6, 5, 7, 8, 4, 7, 6, 5, 5, 8, 8, 6, 6, 4, 6, 6, 6, 5, 6, 7, 6, 6, 8, 6, 9, 6, 8, 5, 5, 6, 9, 6, 7, 8, 6, 8, 6, 7, 6, 7, 5, 9, 5, 4, 5, 6, 5, 6, 6, 9, 9, 6, 7, 6, 9, 6, 5, 7, 6, 7, 6, 6, 6, 6, 6, 6, 6, 7, 7, 6, 7, 6, 4, 10, 5, 8, 5, 6, 9, 8, 5, 4, 7, 9, 5, 5, 9, 6, 6, 6, 9, 6, 7, 9, 3, 6, 7, 7, 6, 6, 7, 5, 6, 5, 6, 9, 6, 6, 6, 7, 6, 6, 7, 6, 5, 8, 8, 4, 6, 8, 5, 5, 4, 7, 8, 6, 6, 7, 8, 7, 7, 5, 6, 6, 7, 7, 5, 6, 6, 3, 5, 8, 5, 5, 4, 7, 8, 5, 5, 9, 7, 5, 6, 6, 4, 3, 8, 7, 6, 7, 5, 9, 8, 5, 5, 6, 5, 9, 5, 7, 6, 5, 5, 5, 6, 7, 8, 9, 5, 7, 4, 7, 6, 4, 5, 6, 8, 9, 4, 5, 6, 5, 6, 5, 8, 7, 6, 8, 8, 5, 5, 6, 4, 6, 5, 6, 6, 6, 6, 6, 3, 7, 8, 7, 5, 5, 7, 8, 5, 6, 10, 8, 6, 7, 6, 7, 5, 6, 6, 4, 7, 7, 6, 8, 7, 8, 7, 6, 8, 9, 5, 7, 5, 8, 7, 6, 7, 8, 6, 8, 6, 8, 5, 6, 5, 6, 5, 5, 6, 5, 5, 8, 6]\n"
     ]
    }
   ],
   "source": [
    "def calculate_number_buses(people, headway=7, time=180, speed=20, trip_distance=11.57, buses = 120):\n",
    "\n",
    "  trips = pd.DataFrame(columns=[\"Bus number\", \"Number of trips\"])\n",
    "  trip_time = trip_distance / (speed / 60)\n",
    "\n",
    "\n",
    "  for i in range(0, buses):\n",
    "    x = int(time/trip_time)\n",
    "    time = time - headway\n",
    "\n",
    "    dict1 = {'Bus number': [i+1], 'Number of trips': [x]}\n",
    "    df2 = pd.DataFrame(dict1)\n",
    "    trips = pd.concat([trips, df2], ignore_index = True)\n",
    "\n",
    "    trips.reset_index(drop = True)\n",
    "\n",
    "  sum1 = 0\n",
    "  for i, row in trips.iterrows():\n",
    "    sum1 = sum1 + (row[\"Number of trips\"] *51)\n",
    "    if sum1 > people:\n",
    "      return(row[\"Bus number\"])\n",
    "  return(row[\"Bus number\"])\n",
    "\n",
    "num_iterations = 1000\n",
    "results = []\n",
    "mean = 1239\n",
    "mean_hourly= mean/4\n",
    "std_dev = mean_hourly*0.20\n",
    "\n",
    "for i in range(num_iterations):\n",
    "    # generate a random number of total_people based on the mean and standard deviation\n",
    "    total_people = int(np.random.normal(mean_hourly, std_dev))\n",
    "    total_people = total_people*4\n",
    "\n",
    "    # calculate the optimal number of trips based on the random total_people value\n",
    "    num_buses = calculate_number_buses(total_people, headway=7, time=180, speed=20, trip_distance=11.57)\n",
    "\n",
    "    # append the result to the results list\n",
    "    results.append(int(num_buses))\n",
    "    # results.append(total_people)\n",
    "print(results)"
   ]
  },
  {
   "cell_type": "code",
   "execution_count": 83,
   "metadata": {
    "colab": {
     "base_uri": "https://localhost:8080/"
    },
    "id": "j_yHvn0MgGtL",
    "outputId": "3b5103a6-beef-4de9-f813-7156cdb2e10d"
   },
   "outputs": [
    {
     "data": {
      "text/plain": [
       "6373"
      ]
     },
     "execution_count": 83,
     "metadata": {},
     "output_type": "execute_result"
    }
   ],
   "source": [
    "sum(results)"
   ]
  },
  {
   "cell_type": "code",
   "execution_count": 84,
   "metadata": {
    "colab": {
     "base_uri": "https://localhost:8080/"
    },
    "id": "ddNH_yH6dlQ_",
    "outputId": "47a43d7d-4cbc-40bc-989b-1a7385d52af9"
   },
   "outputs": [
    {
     "data": {
      "text/plain": [
       "6"
      ]
     },
     "execution_count": 84,
     "metadata": {},
     "output_type": "execute_result"
    }
   ],
   "source": [
    "int(np.mean(results))"
   ]
  },
  {
   "cell_type": "markdown",
   "metadata": {
    "id": "G8IqjdAJeOnO"
   },
   "source": [
    "MEAN NUMBER OF BUSES IS 5 ON ONE SIDE WHICH IS 10 BUSES. THE NUMBER OF BUSES CURRENTLY IN THE SYSTEM IS 46 SO WE HAVE MORE THAN ENOUGH BUSES AND PROBABLY CAN REDUCE FREQUENCY"
   ]
  },
  {
   "cell_type": "code",
   "execution_count": 85,
   "metadata": {
    "colab": {
     "base_uri": "https://localhost:8080/",
     "height": 542
    },
    "id": "Pg3dO0wmeeWE",
    "outputId": "263f4de6-458a-4342-a4b3-4e6dfa6072a4"
   },
   "outputs": [
    {
     "data": {
      "text/html": [
       "<html>\n",
       "<head><meta charset=\"utf-8\" /></head>\n",
       "<body>\n",
       "    <div>            <script src=\"https://cdnjs.cloudflare.com/ajax/libs/mathjax/2.7.5/MathJax.js?config=TeX-AMS-MML_SVG\"></script><script type=\"text/javascript\">if (window.MathJax && window.MathJax.Hub && window.MathJax.Hub.Config) {window.MathJax.Hub.Config({SVG: {font: \"STIX-Web\"}});}</script>                <script type=\"text/javascript\">window.PlotlyConfig = {MathJaxConfig: 'local'};</script>\n",
       "        <script src=\"https://cdn.plot.ly/plotly-2.18.2.min.js\"></script>                <div id=\"4c814668-4b66-43e7-9906-dee005d1f18d\" class=\"plotly-graph-div\" style=\"height:525px; width:100%;\"></div>            <script type=\"text/javascript\">                                    window.PLOTLYENV=window.PLOTLYENV || {};                                    if (document.getElementById(\"4c814668-4b66-43e7-9906-dee005d1f18d\")) {                    Plotly.newPlot(                        \"4c814668-4b66-43e7-9906-dee005d1f18d\",                        [{\"nbinsx\":10,\"x\":[7,5,4,6,8,4,6,6,6,5,6,6,5,6,7,7,5,4,7,8,3,7,8,8,5,8,8,12,5,7,7,6,9,5,6,4,6,5,6,4,6,7,9,6,9,7,7,6,7,5,4,6,6,8,7,6,7,6,8,7,7,8,6,6,4,7,5,7,6,9,6,6,5,4,6,5,6,4,7,8,8,7,5,6,8,7,8,6,5,5,9,6,6,9,6,4,6,7,8,6,9,7,6,6,5,8,7,5,6,7,5,6,6,7,6,8,7,6,6,7,8,5,6,9,6,7,5,5,6,7,6,3,6,7,5,8,6,8,7,7,5,6,4,7,6,6,7,6,7,7,6,6,6,4,6,8,5,6,8,6,6,6,7,6,6,6,4,6,6,6,8,8,5,8,5,6,5,6,5,6,5,6,8,5,6,7,7,5,10,8,4,6,9,5,7,3,9,5,5,6,5,3,6,4,5,9,10,5,8,6,4,7,4,5,9,5,7,6,5,8,5,6,7,8,8,7,5,6,9,5,7,6,7,8,4,5,7,8,6,5,8,8,7,6,6,7,5,6,8,7,5,8,3,8,9,6,8,6,5,9,8,7,7,4,7,7,8,5,5,8,4,6,9,4,8,7,6,7,6,7,7,6,5,7,6,6,6,4,5,8,7,6,7,9,7,6,9,7,6,6,9,10,7,9,6,6,6,5,5,7,5,8,8,6,5,8,7,5,5,6,6,6,5,5,6,6,6,8,9,5,6,9,5,6,8,7,5,6,6,7,5,7,5,5,6,7,7,6,8,6,7,6,7,5,7,4,7,4,5,6,6,8,8,6,7,6,6,6,6,5,7,6,7,6,6,9,7,9,8,5,7,5,8,8,7,7,6,7,7,9,5,5,4,7,5,7,4,8,6,9,7,7,5,3,6,9,6,6,4,6,5,5,7,6,6,8,4,5,7,8,6,5,7,5,6,5,7,6,6,6,7,5,7,6,6,8,6,8,6,9,8,6,7,9,6,9,6,5,7,5,6,6,6,7,8,6,7,4,5,7,6,7,6,7,8,5,6,5,7,4,7,6,8,8,9,7,8,5,5,7,6,8,7,5,5,7,5,4,6,8,6,6,6,9,5,6,8,5,6,5,7,7,6,4,8,6,7,3,4,6,6,5,7,7,4,6,8,4,6,7,7,6,5,4,8,7,8,6,5,5,5,4,6,7,9,8,6,5,7,7,6,7,6,7,6,8,6,6,6,8,6,9,5,6,8,6,9,4,6,5,7,7,5,5,8,7,5,6,6,7,6,8,8,6,5,6,7,7,7,3,9,7,6,6,6,7,6,8,7,5,9,6,6,7,6,7,7,7,8,6,7,5,7,6,7,9,7,6,6,5,6,5,8,8,9,6,7,8,7,6,6,7,6,9,6,7,5,7,8,10,6,9,6,4,6,9,5,5,8,6,5,6,6,7,8,5,6,8,7,4,8,8,7,7,6,5,5,7,7,6,6,4,6,7,6,6,5,9,7,7,10,7,6,6,8,6,7,6,8,5,7,6,6,8,9,6,5,5,8,9,6,7,6,7,6,5,9,7,7,4,7,7,7,6,6,4,4,6,6,5,7,6,7,8,6,5,4,8,5,5,7,6,8,7,4,8,7,8,7,8,8,6,5,6,7,7,8,6,5,7,8,4,7,6,5,5,8,8,6,6,4,6,6,6,5,6,7,6,6,8,6,9,6,8,5,5,6,9,6,7,8,6,8,6,7,6,7,5,9,5,4,5,6,5,6,6,9,9,6,7,6,9,6,5,7,6,7,6,6,6,6,6,6,6,7,7,6,7,6,4,10,5,8,5,6,9,8,5,4,7,9,5,5,9,6,6,6,9,6,7,9,3,6,7,7,6,6,7,5,6,5,6,9,6,6,6,7,6,6,7,6,5,8,8,4,6,8,5,5,4,7,8,6,6,7,8,7,7,5,6,6,7,7,5,6,6,3,5,8,5,5,4,7,8,5,5,9,7,5,6,6,4,3,8,7,6,7,5,9,8,5,5,6,5,9,5,7,6,5,5,5,6,7,8,9,5,7,4,7,6,4,5,6,8,9,4,5,6,5,6,5,8,7,6,8,8,5,5,6,4,6,5,6,6,6,6,6,3,7,8,7,5,5,7,8,5,6,10,8,6,7,6,7,5,6,6,4,7,7,6,8,7,8,7,6,8,9,5,7,5,8,7,6,7,8,6,8,6,8,5,6,5,6,5,5,6,5,5,8,6],\"type\":\"histogram\"}],                        {\"title\":{\"text\":\"My Histogram\"},\"template\":{\"data\":{\"histogram2dcontour\":[{\"type\":\"histogram2dcontour\",\"colorbar\":{\"outlinewidth\":0,\"ticks\":\"\"},\"colorscale\":[[0.0,\"#0d0887\"],[0.1111111111111111,\"#46039f\"],[0.2222222222222222,\"#7201a8\"],[0.3333333333333333,\"#9c179e\"],[0.4444444444444444,\"#bd3786\"],[0.5555555555555556,\"#d8576b\"],[0.6666666666666666,\"#ed7953\"],[0.7777777777777778,\"#fb9f3a\"],[0.8888888888888888,\"#fdca26\"],[1.0,\"#f0f921\"]]}],\"choropleth\":[{\"type\":\"choropleth\",\"colorbar\":{\"outlinewidth\":0,\"ticks\":\"\"}}],\"histogram2d\":[{\"type\":\"histogram2d\",\"colorbar\":{\"outlinewidth\":0,\"ticks\":\"\"},\"colorscale\":[[0.0,\"#0d0887\"],[0.1111111111111111,\"#46039f\"],[0.2222222222222222,\"#7201a8\"],[0.3333333333333333,\"#9c179e\"],[0.4444444444444444,\"#bd3786\"],[0.5555555555555556,\"#d8576b\"],[0.6666666666666666,\"#ed7953\"],[0.7777777777777778,\"#fb9f3a\"],[0.8888888888888888,\"#fdca26\"],[1.0,\"#f0f921\"]]}],\"heatmap\":[{\"type\":\"heatmap\",\"colorbar\":{\"outlinewidth\":0,\"ticks\":\"\"},\"colorscale\":[[0.0,\"#0d0887\"],[0.1111111111111111,\"#46039f\"],[0.2222222222222222,\"#7201a8\"],[0.3333333333333333,\"#9c179e\"],[0.4444444444444444,\"#bd3786\"],[0.5555555555555556,\"#d8576b\"],[0.6666666666666666,\"#ed7953\"],[0.7777777777777778,\"#fb9f3a\"],[0.8888888888888888,\"#fdca26\"],[1.0,\"#f0f921\"]]}],\"heatmapgl\":[{\"type\":\"heatmapgl\",\"colorbar\":{\"outlinewidth\":0,\"ticks\":\"\"},\"colorscale\":[[0.0,\"#0d0887\"],[0.1111111111111111,\"#46039f\"],[0.2222222222222222,\"#7201a8\"],[0.3333333333333333,\"#9c179e\"],[0.4444444444444444,\"#bd3786\"],[0.5555555555555556,\"#d8576b\"],[0.6666666666666666,\"#ed7953\"],[0.7777777777777778,\"#fb9f3a\"],[0.8888888888888888,\"#fdca26\"],[1.0,\"#f0f921\"]]}],\"contourcarpet\":[{\"type\":\"contourcarpet\",\"colorbar\":{\"outlinewidth\":0,\"ticks\":\"\"}}],\"contour\":[{\"type\":\"contour\",\"colorbar\":{\"outlinewidth\":0,\"ticks\":\"\"},\"colorscale\":[[0.0,\"#0d0887\"],[0.1111111111111111,\"#46039f\"],[0.2222222222222222,\"#7201a8\"],[0.3333333333333333,\"#9c179e\"],[0.4444444444444444,\"#bd3786\"],[0.5555555555555556,\"#d8576b\"],[0.6666666666666666,\"#ed7953\"],[0.7777777777777778,\"#fb9f3a\"],[0.8888888888888888,\"#fdca26\"],[1.0,\"#f0f921\"]]}],\"surface\":[{\"type\":\"surface\",\"colorbar\":{\"outlinewidth\":0,\"ticks\":\"\"},\"colorscale\":[[0.0,\"#0d0887\"],[0.1111111111111111,\"#46039f\"],[0.2222222222222222,\"#7201a8\"],[0.3333333333333333,\"#9c179e\"],[0.4444444444444444,\"#bd3786\"],[0.5555555555555556,\"#d8576b\"],[0.6666666666666666,\"#ed7953\"],[0.7777777777777778,\"#fb9f3a\"],[0.8888888888888888,\"#fdca26\"],[1.0,\"#f0f921\"]]}],\"mesh3d\":[{\"type\":\"mesh3d\",\"colorbar\":{\"outlinewidth\":0,\"ticks\":\"\"}}],\"scatter\":[{\"fillpattern\":{\"fillmode\":\"overlay\",\"size\":10,\"solidity\":0.2},\"type\":\"scatter\"}],\"parcoords\":[{\"type\":\"parcoords\",\"line\":{\"colorbar\":{\"outlinewidth\":0,\"ticks\":\"\"}}}],\"scatterpolargl\":[{\"type\":\"scatterpolargl\",\"marker\":{\"colorbar\":{\"outlinewidth\":0,\"ticks\":\"\"}}}],\"bar\":[{\"error_x\":{\"color\":\"#2a3f5f\"},\"error_y\":{\"color\":\"#2a3f5f\"},\"marker\":{\"line\":{\"color\":\"#E5ECF6\",\"width\":0.5},\"pattern\":{\"fillmode\":\"overlay\",\"size\":10,\"solidity\":0.2}},\"type\":\"bar\"}],\"scattergeo\":[{\"type\":\"scattergeo\",\"marker\":{\"colorbar\":{\"outlinewidth\":0,\"ticks\":\"\"}}}],\"scatterpolar\":[{\"type\":\"scatterpolar\",\"marker\":{\"colorbar\":{\"outlinewidth\":0,\"ticks\":\"\"}}}],\"histogram\":[{\"marker\":{\"pattern\":{\"fillmode\":\"overlay\",\"size\":10,\"solidity\":0.2}},\"type\":\"histogram\"}],\"scattergl\":[{\"type\":\"scattergl\",\"marker\":{\"colorbar\":{\"outlinewidth\":0,\"ticks\":\"\"}}}],\"scatter3d\":[{\"type\":\"scatter3d\",\"line\":{\"colorbar\":{\"outlinewidth\":0,\"ticks\":\"\"}},\"marker\":{\"colorbar\":{\"outlinewidth\":0,\"ticks\":\"\"}}}],\"scattermapbox\":[{\"type\":\"scattermapbox\",\"marker\":{\"colorbar\":{\"outlinewidth\":0,\"ticks\":\"\"}}}],\"scatterternary\":[{\"type\":\"scatterternary\",\"marker\":{\"colorbar\":{\"outlinewidth\":0,\"ticks\":\"\"}}}],\"scattercarpet\":[{\"type\":\"scattercarpet\",\"marker\":{\"colorbar\":{\"outlinewidth\":0,\"ticks\":\"\"}}}],\"carpet\":[{\"aaxis\":{\"endlinecolor\":\"#2a3f5f\",\"gridcolor\":\"white\",\"linecolor\":\"white\",\"minorgridcolor\":\"white\",\"startlinecolor\":\"#2a3f5f\"},\"baxis\":{\"endlinecolor\":\"#2a3f5f\",\"gridcolor\":\"white\",\"linecolor\":\"white\",\"minorgridcolor\":\"white\",\"startlinecolor\":\"#2a3f5f\"},\"type\":\"carpet\"}],\"table\":[{\"cells\":{\"fill\":{\"color\":\"#EBF0F8\"},\"line\":{\"color\":\"white\"}},\"header\":{\"fill\":{\"color\":\"#C8D4E3\"},\"line\":{\"color\":\"white\"}},\"type\":\"table\"}],\"barpolar\":[{\"marker\":{\"line\":{\"color\":\"#E5ECF6\",\"width\":0.5},\"pattern\":{\"fillmode\":\"overlay\",\"size\":10,\"solidity\":0.2}},\"type\":\"barpolar\"}],\"pie\":[{\"automargin\":true,\"type\":\"pie\"}]},\"layout\":{\"autotypenumbers\":\"strict\",\"colorway\":[\"#636efa\",\"#EF553B\",\"#00cc96\",\"#ab63fa\",\"#FFA15A\",\"#19d3f3\",\"#FF6692\",\"#B6E880\",\"#FF97FF\",\"#FECB52\"],\"font\":{\"color\":\"#2a3f5f\"},\"hovermode\":\"closest\",\"hoverlabel\":{\"align\":\"left\"},\"paper_bgcolor\":\"white\",\"plot_bgcolor\":\"#E5ECF6\",\"polar\":{\"bgcolor\":\"#E5ECF6\",\"angularaxis\":{\"gridcolor\":\"white\",\"linecolor\":\"white\",\"ticks\":\"\"},\"radialaxis\":{\"gridcolor\":\"white\",\"linecolor\":\"white\",\"ticks\":\"\"}},\"ternary\":{\"bgcolor\":\"#E5ECF6\",\"aaxis\":{\"gridcolor\":\"white\",\"linecolor\":\"white\",\"ticks\":\"\"},\"baxis\":{\"gridcolor\":\"white\",\"linecolor\":\"white\",\"ticks\":\"\"},\"caxis\":{\"gridcolor\":\"white\",\"linecolor\":\"white\",\"ticks\":\"\"}},\"coloraxis\":{\"colorbar\":{\"outlinewidth\":0,\"ticks\":\"\"}},\"colorscale\":{\"sequential\":[[0.0,\"#0d0887\"],[0.1111111111111111,\"#46039f\"],[0.2222222222222222,\"#7201a8\"],[0.3333333333333333,\"#9c179e\"],[0.4444444444444444,\"#bd3786\"],[0.5555555555555556,\"#d8576b\"],[0.6666666666666666,\"#ed7953\"],[0.7777777777777778,\"#fb9f3a\"],[0.8888888888888888,\"#fdca26\"],[1.0,\"#f0f921\"]],\"sequentialminus\":[[0.0,\"#0d0887\"],[0.1111111111111111,\"#46039f\"],[0.2222222222222222,\"#7201a8\"],[0.3333333333333333,\"#9c179e\"],[0.4444444444444444,\"#bd3786\"],[0.5555555555555556,\"#d8576b\"],[0.6666666666666666,\"#ed7953\"],[0.7777777777777778,\"#fb9f3a\"],[0.8888888888888888,\"#fdca26\"],[1.0,\"#f0f921\"]],\"diverging\":[[0,\"#8e0152\"],[0.1,\"#c51b7d\"],[0.2,\"#de77ae\"],[0.3,\"#f1b6da\"],[0.4,\"#fde0ef\"],[0.5,\"#f7f7f7\"],[0.6,\"#e6f5d0\"],[0.7,\"#b8e186\"],[0.8,\"#7fbc41\"],[0.9,\"#4d9221\"],[1,\"#276419\"]]},\"xaxis\":{\"gridcolor\":\"white\",\"linecolor\":\"white\",\"ticks\":\"\",\"title\":{\"standoff\":15},\"zerolinecolor\":\"white\",\"automargin\":true,\"zerolinewidth\":2},\"yaxis\":{\"gridcolor\":\"white\",\"linecolor\":\"white\",\"ticks\":\"\",\"title\":{\"standoff\":15},\"zerolinecolor\":\"white\",\"automargin\":true,\"zerolinewidth\":2},\"scene\":{\"xaxis\":{\"backgroundcolor\":\"#E5ECF6\",\"gridcolor\":\"white\",\"linecolor\":\"white\",\"showbackground\":true,\"ticks\":\"\",\"zerolinecolor\":\"white\",\"gridwidth\":2},\"yaxis\":{\"backgroundcolor\":\"#E5ECF6\",\"gridcolor\":\"white\",\"linecolor\":\"white\",\"showbackground\":true,\"ticks\":\"\",\"zerolinecolor\":\"white\",\"gridwidth\":2},\"zaxis\":{\"backgroundcolor\":\"#E5ECF6\",\"gridcolor\":\"white\",\"linecolor\":\"white\",\"showbackground\":true,\"ticks\":\"\",\"zerolinecolor\":\"white\",\"gridwidth\":2}},\"shapedefaults\":{\"line\":{\"color\":\"#2a3f5f\"}},\"annotationdefaults\":{\"arrowcolor\":\"#2a3f5f\",\"arrowhead\":0,\"arrowwidth\":1},\"geo\":{\"bgcolor\":\"white\",\"landcolor\":\"#E5ECF6\",\"subunitcolor\":\"white\",\"showland\":true,\"showlakes\":true,\"lakecolor\":\"white\"},\"title\":{\"x\":0.05},\"mapbox\":{\"style\":\"light\"}}},\"shapes\":[{\"line\":{\"color\":\"red\",\"dash\":\"dot\",\"width\":3},\"type\":\"line\",\"x0\":23,\"x1\":23,\"y0\":0,\"y1\":319}]},                        {\"responsive\": true}                    ).then(function(){\n",
       "                            \n",
       "var gd = document.getElementById('4c814668-4b66-43e7-9906-dee005d1f18d');\n",
       "var x = new MutationObserver(function (mutations, observer) {{\n",
       "        var display = window.getComputedStyle(gd).display;\n",
       "        if (!display || display === 'none') {{\n",
       "            console.log([gd, 'removed!']);\n",
       "            Plotly.purge(gd);\n",
       "            observer.disconnect();\n",
       "        }}\n",
       "}});\n",
       "\n",
       "// Listen for the removal of the full notebook cells\n",
       "var notebookContainer = gd.closest('#notebook-container');\n",
       "if (notebookContainer) {{\n",
       "    x.observe(notebookContainer, {childList: true});\n",
       "}}\n",
       "\n",
       "// Listen for the clearing of the current output cell\n",
       "var outputEl = gd.closest('.output');\n",
       "if (outputEl) {{\n",
       "    x.observe(outputEl, {childList: true});\n",
       "}}\n",
       "\n",
       "                        })                };                            </script>        </div>\n",
       "</body>\n",
       "</html>"
      ]
     },
     "metadata": {},
     "output_type": "display_data"
    }
   ],
   "source": [
    "trace = go.Histogram(x=results, nbinsx=10)\n",
    "\n",
    "# Define the layout\n",
    "layout = go.Layout(title='My Histogram')\n",
    "\n",
    "# Create the figure\n",
    "fig = go.Figure(data=[trace], layout=layout)\n",
    "\n",
    "fig.add_shape(\n",
    "    type=\"line\",\n",
    "    x0=23,\n",
    "    y0=0,\n",
    "    x1=23,\n",
    "    y1=max(np.histogram(results, bins=30)[0]),\n",
    "    line=dict(\n",
    "        color=\"red\",\n",
    "        width=3,\n",
    "        dash=\"dot\",\n",
    "    )\n",
    ")\n",
    "\n",
    "# Show the figure\n",
    "fig.show()"
   ]
  },
  {
   "cell_type": "code",
   "execution_count": 30,
   "metadata": {
    "colab": {
     "base_uri": "https://localhost:8080/"
    },
    "id": "KzJlTWfjfXgR",
    "outputId": "2cb57b26-bf3d-4fad-bc17-e1446242e80a"
   },
   "outputs": [
    {
     "name": "stdout",
     "output_type": "stream",
     "text": [
      "Bus number         1\n",
      "Number of trips    5\n",
      "Name: 0, dtype: object\n",
      "255\n",
      "Bus number         2\n",
      "Number of trips    4\n",
      "Name: 1, dtype: object\n",
      "459\n",
      "Bus number         3\n",
      "Number of trips    4\n",
      "Name: 2, dtype: object\n",
      "663\n",
      "Bus number         4\n",
      "Number of trips    4\n",
      "Name: 3, dtype: object\n",
      "867\n",
      "Bus number         5\n",
      "Number of trips    4\n",
      "Name: 4, dtype: object\n",
      "1071\n",
      "Bus number         6\n",
      "Number of trips    4\n",
      "Name: 5, dtype: object\n",
      "1275\n",
      "6\n",
      "25\n"
     ]
    }
   ],
   "source": [
    "headway = 7\n",
    "time = 180\n",
    "speed = 20\n",
    "trip_distance = 11.57\n",
    "trip_time = trip_distance/(speed/60)\n",
    "\n",
    "\n",
    "number_of_trips = []\n",
    "\n",
    "buses = 6\n",
    "total_people = 1239\n",
    "trips = pd.DataFrame(columns=[\"Bus number\", \"Number of trips\"])\n",
    "\n",
    "for i in range(0, buses):\n",
    "  x = int(time/trip_time)\n",
    "  time = time - headway\n",
    "\n",
    "  dict1 = {'Bus number': [i+1], 'Number of trips': [x]}\n",
    "  df2 = pd.DataFrame(dict1)\n",
    "  trips = pd.concat([trips, df2], ignore_index = True)\n",
    "\n",
    "  trips.reset_index(drop = True)\n",
    "\n",
    "sum1 = 0\n",
    "for i, row in trips.iterrows():\n",
    "  print(row)\n",
    "  sum1 = sum1 + (row[\"Number of trips\"]*51)\n",
    "  print(sum1)\n",
    "  number_of_trips.append(int(row[\"Number of trips\"]))\n",
    "  if sum1 > total_people:\n",
    "    print(row[\"Bus number\"])\n",
    "    break\n",
    "# print(trips.head(20))\n",
    "print(sum(number_of_trips))"
   ]
  },
  {
   "cell_type": "code",
   "execution_count": 31,
   "metadata": {
    "id": "mwAt8DVJgZWY"
   },
   "outputs": [],
   "source": [
    "people_getting_on1 = [119, 185, 235,615,669,935,1001,1099,1126,1141,1239,1113,1084,932,888,603,381,323,238,122,0]\n",
    "percent_full = []\n",
    "\n",
    "for i in people_getting_on1:\n",
    "  x = round(i/(sum(number_of_trips)*51), 2)\n",
    "  if x <= 100.0:\n",
    "    percent_full.append(x)\n",
    "  else:\n",
    "    percent_full.append(100.0)"
   ]
  },
  {
   "cell_type": "code",
   "execution_count": 32,
   "metadata": {
    "colab": {
     "base_uri": "https://localhost:8080/",
     "height": 560
    },
    "id": "0GD2Ea5vhmJk",
    "outputId": "214fc742-002f-4694-b566-a255812c8b97"
   },
   "outputs": [
    {
     "name": "stdout",
     "output_type": "stream",
     "text": [
      "[4, 7, 9, 24, 26, 37, 40, 43, 44, 45, 49, 44, 43, 37, 35, 23, 15, 12, 9, 5, 0]\n"
     ]
    },
    {
     "data": {
      "text/html": [
       "<html>\n",
       "<head><meta charset=\"utf-8\" /></head>\n",
       "<body>\n",
       "    <div>            <script src=\"https://cdnjs.cloudflare.com/ajax/libs/mathjax/2.7.5/MathJax.js?config=TeX-AMS-MML_SVG\"></script><script type=\"text/javascript\">if (window.MathJax && window.MathJax.Hub && window.MathJax.Hub.Config) {window.MathJax.Hub.Config({SVG: {font: \"STIX-Web\"}});}</script>                <script type=\"text/javascript\">window.PlotlyConfig = {MathJaxConfig: 'local'};</script>\n",
       "        <script src=\"https://cdn.plot.ly/plotly-2.18.2.min.js\"></script>                <div id=\"26e7c5d7-93ae-45cb-93e3-32cb0b7aae97\" class=\"plotly-graph-div\" style=\"height:525px; width:100%;\"></div>            <script type=\"text/javascript\">                                    window.PLOTLYENV=window.PLOTLYENV || {};                                    if (document.getElementById(\"26e7c5d7-93ae-45cb-93e3-32cb0b7aae97\")) {                    Plotly.newPlot(                        \"26e7c5d7-93ae-45cb-93e3-32cb0b7aae97\",                        [{\"x\":[\"Rajiv Gandhi\",\"Mata Gujri\",\"Vishnupuri\",\"Bhanwarkuan Square\",\"Holkar Subway\",\"Navlakha Square\",\"Indra Pratima\",\"GPO\",\"Shivaji Vatika\",\"AICTSL\",\"Geeta Bhawan\",\"Palasiya\",\"Industry House\",\"LIG\",\"Press Complex\",\"MR-9\",\"Vijay Nagar\",\"Satya Sai\",\"Shalimar Township\",\"Scheme No. 78\",\"Niranjanpur Square\"],\"y\":[4,7,9,24,26,37,40,43,44,45,49,44,43,37,35,23,15,12,9,5,0],\"type\":\"bar\"}],                        {\"title\":{\"text\":\"Passenger Distribution per bus per stop\"},\"template\":{\"data\":{\"histogram2dcontour\":[{\"type\":\"histogram2dcontour\",\"colorbar\":{\"outlinewidth\":0,\"ticks\":\"\"},\"colorscale\":[[0.0,\"#0d0887\"],[0.1111111111111111,\"#46039f\"],[0.2222222222222222,\"#7201a8\"],[0.3333333333333333,\"#9c179e\"],[0.4444444444444444,\"#bd3786\"],[0.5555555555555556,\"#d8576b\"],[0.6666666666666666,\"#ed7953\"],[0.7777777777777778,\"#fb9f3a\"],[0.8888888888888888,\"#fdca26\"],[1.0,\"#f0f921\"]]}],\"choropleth\":[{\"type\":\"choropleth\",\"colorbar\":{\"outlinewidth\":0,\"ticks\":\"\"}}],\"histogram2d\":[{\"type\":\"histogram2d\",\"colorbar\":{\"outlinewidth\":0,\"ticks\":\"\"},\"colorscale\":[[0.0,\"#0d0887\"],[0.1111111111111111,\"#46039f\"],[0.2222222222222222,\"#7201a8\"],[0.3333333333333333,\"#9c179e\"],[0.4444444444444444,\"#bd3786\"],[0.5555555555555556,\"#d8576b\"],[0.6666666666666666,\"#ed7953\"],[0.7777777777777778,\"#fb9f3a\"],[0.8888888888888888,\"#fdca26\"],[1.0,\"#f0f921\"]]}],\"heatmap\":[{\"type\":\"heatmap\",\"colorbar\":{\"outlinewidth\":0,\"ticks\":\"\"},\"colorscale\":[[0.0,\"#0d0887\"],[0.1111111111111111,\"#46039f\"],[0.2222222222222222,\"#7201a8\"],[0.3333333333333333,\"#9c179e\"],[0.4444444444444444,\"#bd3786\"],[0.5555555555555556,\"#d8576b\"],[0.6666666666666666,\"#ed7953\"],[0.7777777777777778,\"#fb9f3a\"],[0.8888888888888888,\"#fdca26\"],[1.0,\"#f0f921\"]]}],\"heatmapgl\":[{\"type\":\"heatmapgl\",\"colorbar\":{\"outlinewidth\":0,\"ticks\":\"\"},\"colorscale\":[[0.0,\"#0d0887\"],[0.1111111111111111,\"#46039f\"],[0.2222222222222222,\"#7201a8\"],[0.3333333333333333,\"#9c179e\"],[0.4444444444444444,\"#bd3786\"],[0.5555555555555556,\"#d8576b\"],[0.6666666666666666,\"#ed7953\"],[0.7777777777777778,\"#fb9f3a\"],[0.8888888888888888,\"#fdca26\"],[1.0,\"#f0f921\"]]}],\"contourcarpet\":[{\"type\":\"contourcarpet\",\"colorbar\":{\"outlinewidth\":0,\"ticks\":\"\"}}],\"contour\":[{\"type\":\"contour\",\"colorbar\":{\"outlinewidth\":0,\"ticks\":\"\"},\"colorscale\":[[0.0,\"#0d0887\"],[0.1111111111111111,\"#46039f\"],[0.2222222222222222,\"#7201a8\"],[0.3333333333333333,\"#9c179e\"],[0.4444444444444444,\"#bd3786\"],[0.5555555555555556,\"#d8576b\"],[0.6666666666666666,\"#ed7953\"],[0.7777777777777778,\"#fb9f3a\"],[0.8888888888888888,\"#fdca26\"],[1.0,\"#f0f921\"]]}],\"surface\":[{\"type\":\"surface\",\"colorbar\":{\"outlinewidth\":0,\"ticks\":\"\"},\"colorscale\":[[0.0,\"#0d0887\"],[0.1111111111111111,\"#46039f\"],[0.2222222222222222,\"#7201a8\"],[0.3333333333333333,\"#9c179e\"],[0.4444444444444444,\"#bd3786\"],[0.5555555555555556,\"#d8576b\"],[0.6666666666666666,\"#ed7953\"],[0.7777777777777778,\"#fb9f3a\"],[0.8888888888888888,\"#fdca26\"],[1.0,\"#f0f921\"]]}],\"mesh3d\":[{\"type\":\"mesh3d\",\"colorbar\":{\"outlinewidth\":0,\"ticks\":\"\"}}],\"scatter\":[{\"fillpattern\":{\"fillmode\":\"overlay\",\"size\":10,\"solidity\":0.2},\"type\":\"scatter\"}],\"parcoords\":[{\"type\":\"parcoords\",\"line\":{\"colorbar\":{\"outlinewidth\":0,\"ticks\":\"\"}}}],\"scatterpolargl\":[{\"type\":\"scatterpolargl\",\"marker\":{\"colorbar\":{\"outlinewidth\":0,\"ticks\":\"\"}}}],\"bar\":[{\"error_x\":{\"color\":\"#2a3f5f\"},\"error_y\":{\"color\":\"#2a3f5f\"},\"marker\":{\"line\":{\"color\":\"#E5ECF6\",\"width\":0.5},\"pattern\":{\"fillmode\":\"overlay\",\"size\":10,\"solidity\":0.2}},\"type\":\"bar\"}],\"scattergeo\":[{\"type\":\"scattergeo\",\"marker\":{\"colorbar\":{\"outlinewidth\":0,\"ticks\":\"\"}}}],\"scatterpolar\":[{\"type\":\"scatterpolar\",\"marker\":{\"colorbar\":{\"outlinewidth\":0,\"ticks\":\"\"}}}],\"histogram\":[{\"marker\":{\"pattern\":{\"fillmode\":\"overlay\",\"size\":10,\"solidity\":0.2}},\"type\":\"histogram\"}],\"scattergl\":[{\"type\":\"scattergl\",\"marker\":{\"colorbar\":{\"outlinewidth\":0,\"ticks\":\"\"}}}],\"scatter3d\":[{\"type\":\"scatter3d\",\"line\":{\"colorbar\":{\"outlinewidth\":0,\"ticks\":\"\"}},\"marker\":{\"colorbar\":{\"outlinewidth\":0,\"ticks\":\"\"}}}],\"scattermapbox\":[{\"type\":\"scattermapbox\",\"marker\":{\"colorbar\":{\"outlinewidth\":0,\"ticks\":\"\"}}}],\"scatterternary\":[{\"type\":\"scatterternary\",\"marker\":{\"colorbar\":{\"outlinewidth\":0,\"ticks\":\"\"}}}],\"scattercarpet\":[{\"type\":\"scattercarpet\",\"marker\":{\"colorbar\":{\"outlinewidth\":0,\"ticks\":\"\"}}}],\"carpet\":[{\"aaxis\":{\"endlinecolor\":\"#2a3f5f\",\"gridcolor\":\"white\",\"linecolor\":\"white\",\"minorgridcolor\":\"white\",\"startlinecolor\":\"#2a3f5f\"},\"baxis\":{\"endlinecolor\":\"#2a3f5f\",\"gridcolor\":\"white\",\"linecolor\":\"white\",\"minorgridcolor\":\"white\",\"startlinecolor\":\"#2a3f5f\"},\"type\":\"carpet\"}],\"table\":[{\"cells\":{\"fill\":{\"color\":\"#EBF0F8\"},\"line\":{\"color\":\"white\"}},\"header\":{\"fill\":{\"color\":\"#C8D4E3\"},\"line\":{\"color\":\"white\"}},\"type\":\"table\"}],\"barpolar\":[{\"marker\":{\"line\":{\"color\":\"#E5ECF6\",\"width\":0.5},\"pattern\":{\"fillmode\":\"overlay\",\"size\":10,\"solidity\":0.2}},\"type\":\"barpolar\"}],\"pie\":[{\"automargin\":true,\"type\":\"pie\"}]},\"layout\":{\"autotypenumbers\":\"strict\",\"colorway\":[\"#636efa\",\"#EF553B\",\"#00cc96\",\"#ab63fa\",\"#FFA15A\",\"#19d3f3\",\"#FF6692\",\"#B6E880\",\"#FF97FF\",\"#FECB52\"],\"font\":{\"color\":\"#2a3f5f\"},\"hovermode\":\"closest\",\"hoverlabel\":{\"align\":\"left\"},\"paper_bgcolor\":\"white\",\"plot_bgcolor\":\"#E5ECF6\",\"polar\":{\"bgcolor\":\"#E5ECF6\",\"angularaxis\":{\"gridcolor\":\"white\",\"linecolor\":\"white\",\"ticks\":\"\"},\"radialaxis\":{\"gridcolor\":\"white\",\"linecolor\":\"white\",\"ticks\":\"\"}},\"ternary\":{\"bgcolor\":\"#E5ECF6\",\"aaxis\":{\"gridcolor\":\"white\",\"linecolor\":\"white\",\"ticks\":\"\"},\"baxis\":{\"gridcolor\":\"white\",\"linecolor\":\"white\",\"ticks\":\"\"},\"caxis\":{\"gridcolor\":\"white\",\"linecolor\":\"white\",\"ticks\":\"\"}},\"coloraxis\":{\"colorbar\":{\"outlinewidth\":0,\"ticks\":\"\"}},\"colorscale\":{\"sequential\":[[0.0,\"#0d0887\"],[0.1111111111111111,\"#46039f\"],[0.2222222222222222,\"#7201a8\"],[0.3333333333333333,\"#9c179e\"],[0.4444444444444444,\"#bd3786\"],[0.5555555555555556,\"#d8576b\"],[0.6666666666666666,\"#ed7953\"],[0.7777777777777778,\"#fb9f3a\"],[0.8888888888888888,\"#fdca26\"],[1.0,\"#f0f921\"]],\"sequentialminus\":[[0.0,\"#0d0887\"],[0.1111111111111111,\"#46039f\"],[0.2222222222222222,\"#7201a8\"],[0.3333333333333333,\"#9c179e\"],[0.4444444444444444,\"#bd3786\"],[0.5555555555555556,\"#d8576b\"],[0.6666666666666666,\"#ed7953\"],[0.7777777777777778,\"#fb9f3a\"],[0.8888888888888888,\"#fdca26\"],[1.0,\"#f0f921\"]],\"diverging\":[[0,\"#8e0152\"],[0.1,\"#c51b7d\"],[0.2,\"#de77ae\"],[0.3,\"#f1b6da\"],[0.4,\"#fde0ef\"],[0.5,\"#f7f7f7\"],[0.6,\"#e6f5d0\"],[0.7,\"#b8e186\"],[0.8,\"#7fbc41\"],[0.9,\"#4d9221\"],[1,\"#276419\"]]},\"xaxis\":{\"gridcolor\":\"white\",\"linecolor\":\"white\",\"ticks\":\"\",\"title\":{\"standoff\":15},\"zerolinecolor\":\"white\",\"automargin\":true,\"zerolinewidth\":2},\"yaxis\":{\"gridcolor\":\"white\",\"linecolor\":\"white\",\"ticks\":\"\",\"title\":{\"standoff\":15},\"zerolinecolor\":\"white\",\"automargin\":true,\"zerolinewidth\":2},\"scene\":{\"xaxis\":{\"backgroundcolor\":\"#E5ECF6\",\"gridcolor\":\"white\",\"linecolor\":\"white\",\"showbackground\":true,\"ticks\":\"\",\"zerolinecolor\":\"white\",\"gridwidth\":2},\"yaxis\":{\"backgroundcolor\":\"#E5ECF6\",\"gridcolor\":\"white\",\"linecolor\":\"white\",\"showbackground\":true,\"ticks\":\"\",\"zerolinecolor\":\"white\",\"gridwidth\":2},\"zaxis\":{\"backgroundcolor\":\"#E5ECF6\",\"gridcolor\":\"white\",\"linecolor\":\"white\",\"showbackground\":true,\"ticks\":\"\",\"zerolinecolor\":\"white\",\"gridwidth\":2}},\"shapedefaults\":{\"line\":{\"color\":\"#2a3f5f\"}},\"annotationdefaults\":{\"arrowcolor\":\"#2a3f5f\",\"arrowhead\":0,\"arrowwidth\":1},\"geo\":{\"bgcolor\":\"white\",\"landcolor\":\"#E5ECF6\",\"subunitcolor\":\"white\",\"showland\":true,\"showlakes\":true,\"lakecolor\":\"white\"},\"title\":{\"x\":0.05},\"mapbox\":{\"style\":\"light\"}}}},                        {\"responsive\": true}                    ).then(function(){\n",
       "                            \n",
       "var gd = document.getElementById('26e7c5d7-93ae-45cb-93e3-32cb0b7aae97');\n",
       "var x = new MutationObserver(function (mutations, observer) {{\n",
       "        var display = window.getComputedStyle(gd).display;\n",
       "        if (!display || display === 'none') {{\n",
       "            console.log([gd, 'removed!']);\n",
       "            Plotly.purge(gd);\n",
       "            observer.disconnect();\n",
       "        }}\n",
       "}});\n",
       "\n",
       "// Listen for the removal of the full notebook cells\n",
       "var notebookContainer = gd.closest('#notebook-container');\n",
       "if (notebookContainer) {{\n",
       "    x.observe(notebookContainer, {childList: true});\n",
       "}}\n",
       "\n",
       "// Listen for the clearing of the current output cell\n",
       "var outputEl = gd.closest('.output');\n",
       "if (outputEl) {{\n",
       "    x.observe(outputEl, {childList: true});\n",
       "}}\n",
       "\n",
       "                        })                };                            </script>        </div>\n",
       "</body>\n",
       "</html>"
      ]
     },
     "metadata": {},
     "output_type": "display_data"
    }
   ],
   "source": [
    "dist = []\n",
    "for i in percent_full:\n",
    "  dist.append(int(i * 51))\n",
    "print(dist)\n",
    "\n",
    "stop_names = ['Rajiv Gandhi',\n",
    " 'Mata Gujri',\n",
    " 'Vishnupuri',\n",
    " 'Bhanwarkuan Square',\n",
    " 'Holkar Subway',\n",
    " 'Navlakha Square',\n",
    " 'Indra Pratima',\n",
    " 'GPO',\n",
    " 'Shivaji Vatika',\n",
    " 'AICTSL',\n",
    " 'Geeta Bhawan',\n",
    " 'Palasiya',\n",
    " 'Industry House',\n",
    " 'LIG',\n",
    " 'Press Complex',\n",
    " 'MR-9',\n",
    " 'Vijay Nagar',\n",
    " 'Satya Sai',\n",
    " 'Shalimar Township',\n",
    " 'Scheme No. 78',\n",
    " 'Niranjanpur Square']\n",
    "\n",
    "trace = go.Bar(x=stop_names, y=dist)\n",
    "layout = go.Layout(title='Passenger Distribution per bus per stop')\n",
    "fig = go.Figure(data=[trace], layout=layout)\n",
    "fig.show()"
   ]
  },
  {
   "cell_type": "markdown",
   "metadata": {
    "id": "1IDHR296hufg"
   },
   "source": [
    "#CODE FOR NON-PEAK HOURS FOR GOING FROM NIRANJANPUR SQUARE TO RAJIV GANDHI"
   ]
  },
  {
   "cell_type": "code",
   "execution_count": 34,
   "metadata": {
    "colab": {
     "base_uri": "https://localhost:8080/"
    },
    "id": "9xT_EK1_hzQD",
    "outputId": "ee634155-2fc5-47d7-f4b8-4e6ed01a69ed"
   },
   "outputs": [
    {
     "name": "stdout",
     "output_type": "stream",
     "text": [
      "[6, 9, 7, 5, 6, 5, 7, 6, 6, 9, 6, 9, 6, 7, 7, 5, 8, 11, 9, 10, 6, 10, 7, 9, 8, 7, 5, 7, 7, 8, 6, 9, 8, 6, 6, 7, 5, 10, 8, 6, 5, 8, 7, 7, 6, 8, 7, 6, 5, 9, 6, 8, 5, 7, 6, 7, 8, 8, 7, 9, 6, 8, 6, 7, 5, 8, 6, 8, 8, 8, 9, 5, 8, 8, 6, 5, 5, 9, 7, 9, 7, 5, 7, 8, 7, 6, 6, 6, 4, 6, 9, 8, 6, 6, 4, 7, 6, 6, 8, 4, 8, 3, 7, 8, 6, 5, 10, 9, 6, 7, 6, 8, 6, 5, 9, 10, 6, 8, 5, 7, 8, 7, 6, 8, 8, 8, 7, 7, 6, 6, 4, 7, 5, 6, 6, 3, 8, 15, 7, 9, 7, 6, 7, 8, 6, 8, 8, 7, 6, 9, 8, 7, 8, 9, 8, 6, 8, 7, 8, 9, 8, 6, 4, 7, 5, 8, 6, 7, 5, 4, 7, 9, 6, 9, 5, 4, 6, 8, 6, 7, 7, 9, 10, 10, 5, 6, 7, 8, 8, 6, 7, 10, 9, 6, 8, 7, 6, 10, 7, 5, 6, 8, 8, 7, 6, 7, 6, 6, 8, 4, 7, 6, 8, 10, 8, 5, 8, 8, 7, 9, 7, 13, 7, 9, 5, 7, 6, 7, 8, 5, 6, 8, 6, 9, 9, 6, 8, 7, 6, 6, 7, 8, 8, 5, 6, 5, 5, 10, 7, 6, 7, 6, 8, 8, 6, 7, 5, 6, 10, 7, 7, 6, 5, 6, 6, 6, 8, 10, 6, 6, 9, 4, 6, 6, 6, 8, 5, 12, 10, 6, 6, 7, 6, 8, 10, 4, 6, 7, 8, 5, 5, 6, 9, 9, 5, 6, 5, 7, 8, 7, 7, 6, 6, 7, 7, 7, 8, 4, 6, 8, 7, 8, 5, 5, 10, 5, 7, 10, 8, 6, 5, 7, 8, 5, 6, 6, 6, 9, 9, 5, 7, 6, 9, 6, 5, 9, 5, 5, 8, 8, 9, 8, 7, 9, 7, 7, 7, 10, 6, 5, 9, 8, 9, 5, 7, 6, 7, 8, 6, 6, 6, 6, 5, 7, 7, 6, 8, 6, 7, 6, 7, 5, 8, 8, 8, 7, 10, 5, 6, 5, 7, 6, 5, 6, 7, 7, 3, 7, 7, 7, 7, 8, 7, 8, 7, 6, 8, 8, 6, 7, 6, 8, 6, 5, 8, 7, 7, 6, 8, 6, 8, 5, 6, 9, 7, 9, 7, 10, 7, 5, 5, 8, 8, 8, 9, 9, 8, 4, 8, 6, 6, 8, 6, 9, 6, 8, 5, 9, 10, 4, 5, 9, 8, 6, 7, 7, 6, 6, 7, 6, 5, 5, 9, 8, 8, 5, 10, 7, 6, 9, 8, 8, 6, 6, 6, 5, 6, 8, 9, 10, 4, 9, 9, 7, 9, 6, 8, 7, 6, 8, 6, 10, 9, 8, 6, 6, 5, 7, 4, 7, 7, 7, 9, 5, 4, 6, 10, 8, 8, 7, 8, 6, 9, 7, 7, 6, 3, 6, 6, 7, 6, 9, 7, 6, 9, 7, 8, 8, 8, 8, 7, 6, 6, 7, 8, 8, 6, 9, 7, 12, 5, 8, 9, 10, 6, 7, 11, 6, 7, 5, 7, 8, 9, 9, 9, 6, 8, 5, 11, 9, 7, 9, 6, 9, 5, 5, 8, 5, 8, 6, 7, 5, 9, 7, 8, 10, 7, 4, 5, 6, 6, 8, 6, 3, 8, 7, 8, 6, 10, 8, 8, 8, 10, 5, 4, 9, 9, 7, 8, 6, 9, 6, 5, 8, 7, 7, 6, 7, 8, 10, 6, 6, 8, 8, 9, 8, 8, 7, 6, 7, 5, 7, 6, 7, 8, 9, 5, 6, 4, 8, 5, 7, 6, 7, 7, 7, 6, 6, 8, 5, 6, 11, 6, 7, 10, 9, 6, 7, 5, 7, 6, 8, 9, 7, 8, 6, 6, 8, 3, 6, 6, 5, 7, 7, 8, 7, 10, 7, 4, 8, 8, 7, 6, 6, 6, 6, 8, 7, 7, 8, 8, 8, 7, 6, 6, 6, 5, 8, 10, 12, 6, 6, 5, 6, 4, 9, 6, 10, 6, 7, 8, 6, 6, 8, 5, 8, 10, 6, 5, 8, 7, 7, 7, 6, 5, 8, 8, 6, 7, 6, 5, 7, 6, 6, 8, 8, 7, 6, 4, 5, 5, 5, 8, 5, 6, 6, 9, 8, 10, 7, 10, 7, 9, 10, 8, 8, 8, 8, 9, 5, 5, 3, 6, 5, 7, 9, 6, 6, 9, 7, 9, 7, 8, 7, 9, 6, 8, 8, 5, 7, 9, 5, 7, 6, 6, 5, 9, 8, 6, 6, 5, 8, 7, 9, 6, 4, 4, 9, 5, 7, 6, 4, 8, 7, 9, 11, 8, 6, 7, 5, 6, 7, 8, 7, 6, 5, 7, 7, 7, 10, 6, 10, 6, 6, 6, 7, 6, 7, 4, 8, 12, 9, 6, 5, 6, 7, 8, 6, 11, 7, 6, 6, 7, 8, 7, 8, 8, 6, 8, 9, 7, 10, 12, 7, 8, 8, 7, 5, 5, 7, 4, 7, 6, 6, 5, 8, 8, 6, 6, 6, 5, 7, 5, 8, 6, 8, 4, 7, 6, 5, 8, 8, 8, 5, 7, 9, 8, 7, 9, 10, 8, 6, 5, 6, 3, 8, 8, 5, 6, 7, 7, 5, 4, 7, 9, 7, 7, 8, 9, 7, 6, 7, 6, 6, 5, 4, 7, 6, 9, 7, 6, 6, 11, 8, 4, 6, 8, 9, 6, 8, 5, 9, 7, 5, 6, 6, 7, 6, 5, 5, 8, 8, 6, 9, 9, 11, 6, 8, 5, 8, 9, 6, 6, 9, 9, 6, 7, 7, 9, 6, 6, 7, 5, 7, 6, 7, 6, 6, 7, 6, 5, 8, 9, 8, 6, 8, 8, 7, 6, 7, 9, 8, 3, 6, 6, 8, 7, 11, 6, 5, 6, 7, 6, 9, 6, 7, 7, 7, 6, 6, 7, 8, 7, 5, 5, 5, 5, 6, 6, 5, 5, 7, 6, 7, 10, 7, 6, 8, 8, 7]\n"
     ]
    }
   ],
   "source": [
    "def calculate_number_buses(people, headway=7, time=180, speed=20, trip_distance=11.57, buses = 120):\n",
    "\n",
    "  trips = pd.DataFrame(columns=[\"Bus number\", \"Number of trips\"])\n",
    "  trip_time = trip_distance / (speed / 60)\n",
    "\n",
    "\n",
    "  for i in range(0, buses):\n",
    "    x = int(time/trip_time)\n",
    "    time = time - headway\n",
    "\n",
    "    dict1 = {'Bus number': [i+1], 'Number of trips': [x]}\n",
    "    df2 = pd.DataFrame(dict1)\n",
    "    trips = pd.concat([trips, df2], ignore_index = True)\n",
    "\n",
    "    trips.reset_index(drop = True)\n",
    "\n",
    "  sum1 = 0\n",
    "  for i, row in trips.iterrows():\n",
    "    sum1 = sum1 + (row[\"Number of trips\"] *51)\n",
    "    if sum1 > people:\n",
    "      return(row[\"Bus number\"])\n",
    "  return(row[\"Bus number\"])\n",
    "\n",
    "num_iterations = 1000\n",
    "results = []\n",
    "mean = 1319\n",
    "mean_hourly= mean/4\n",
    "std_dev = mean_hourly*0.20\n",
    "\n",
    "for i in range(num_iterations):\n",
    "    # generate a random number of total_people based on the mean and standard deviation\n",
    "    total_people = int(np.random.normal(mean_hourly, std_dev))\n",
    "    total_people = total_people*4\n",
    "\n",
    "    # calculate the optimal number of trips based on the random total_people value\n",
    "    num_buses = calculate_number_buses(total_people, headway=7, time=180, speed=20, trip_distance=11.57)\n",
    "\n",
    "    # append the result to the results list\n",
    "    results.append(int(num_buses))\n",
    "    # results.append(total_people)\n",
    "print(results)"
   ]
  },
  {
   "cell_type": "code",
   "execution_count": 35,
   "metadata": {
    "colab": {
     "base_uri": "https://localhost:8080/"
    },
    "id": "HqxCUjw2jQL0",
    "outputId": "c1de0d18-435a-4f01-c1a7-d03c187d22fa"
   },
   "outputs": [
    {
     "data": {
      "text/plain": [
       "6971"
      ]
     },
     "execution_count": 35,
     "metadata": {},
     "output_type": "execute_result"
    }
   ],
   "source": [
    "sum(results)"
   ]
  },
  {
   "cell_type": "code",
   "execution_count": 36,
   "metadata": {
    "colab": {
     "base_uri": "https://localhost:8080/"
    },
    "id": "TWQPiXhQjjgk",
    "outputId": "6ae18aa2-29b6-465b-dd6f-a9578b13ae7e"
   },
   "outputs": [
    {
     "data": {
      "text/plain": [
       "7"
      ]
     },
     "execution_count": 36,
     "metadata": {},
     "output_type": "execute_result"
    }
   ],
   "source": [
    "round(np.mean(results))"
   ]
  },
  {
   "cell_type": "code",
   "execution_count": 92,
   "metadata": {
    "colab": {
     "base_uri": "https://localhost:8080/",
     "height": 542
    },
    "id": "Kl82Mvgajs8t",
    "outputId": "8932a76b-d6e4-4581-e315-9a11241d8212"
   },
   "outputs": [
    {
     "data": {
      "text/html": [
       "<html>\n",
       "<head><meta charset=\"utf-8\" /></head>\n",
       "<body>\n",
       "    <div>            <script src=\"https://cdnjs.cloudflare.com/ajax/libs/mathjax/2.7.5/MathJax.js?config=TeX-AMS-MML_SVG\"></script><script type=\"text/javascript\">if (window.MathJax && window.MathJax.Hub && window.MathJax.Hub.Config) {window.MathJax.Hub.Config({SVG: {font: \"STIX-Web\"}});}</script>                <script type=\"text/javascript\">window.PlotlyConfig = {MathJaxConfig: 'local'};</script>\n",
       "        <script src=\"https://cdn.plot.ly/plotly-2.18.2.min.js\"></script>                <div id=\"c2f8400b-b4a4-4f75-8341-b4b49d81f5ce\" class=\"plotly-graph-div\" style=\"height:525px; width:100%;\"></div>            <script type=\"text/javascript\">                                    window.PLOTLYENV=window.PLOTLYENV || {};                                    if (document.getElementById(\"c2f8400b-b4a4-4f75-8341-b4b49d81f5ce\")) {                    Plotly.newPlot(                        \"c2f8400b-b4a4-4f75-8341-b4b49d81f5ce\",                        [{\"nbinsx\":10,\"x\":[11,6,5,5,6,5,9,6,9,8,6,6,9,9,5,7,6,5,6,4,9,6,4,9,8,6,6,10,8,6,8,6,5,7,7,6,8,6,10,8,6,7,6,11,5,5,8,5,10,6,7,8,8,8,8,5,7,8,9,9,5,7,7,7,5,4,6,6,6,7,9,5,7,6,8,8,8,5,5,7,8,6,5,10,5,7,6,7,8,9,7,11,8,7,8,5,5,7,7,4,9,6,5,6,5,7,6,6,4,5,8,8,9,10,9,10,6,3,6,6,6,5,6,7,5,7,5,6,8,9,8,8,5,7,7,6,9,6,6,6,9,6,6,8,8,6,5,7,7,7,6,8,7,8,8,9,8,8,8,8,8,9,7,6,5,9,8,9,6,7,6,6,8,7,7,7,10,6,8,7,7,6,8,6,9,12,6,8,6,8,7,8,6,7,5,6,7,9,7,7,8,8,7,6,4,5,8,9,7,8,12,9,6,7,6,7,8,8,7,7,9,9,6,7,8,10,10,4,5,8,7,7,9,8,8,9,9,6,6,6,6,8,10,9,8,6,6,7,8,7,5,6,7,9,7,8,7,6,6,9,9,9,6,10,6,8,9,7,8,8,7,6,7,9,7,9,5,7,8,5,6,5,10,7,8,8,5,5,7,5,8,6,4,5,6,9,9,7,6,7,7,10,5,7,4,7,7,6,5,6,8,8,6,8,5,5,7,6,7,10,10,7,8,3,9,8,5,7,6,4,8,6,4,8,6,4,7,7,7,9,5,8,7,6,6,6,7,7,10,4,7,4,5,5,6,9,4,7,8,7,5,9,8,8,6,7,9,8,6,6,5,7,6,11,8,7,8,5,6,9,11,8,3,6,5,5,10,6,6,7,6,5,7,8,10,7,8,6,10,6,8,7,6,6,5,6,8,10,9,6,5,7,6,7,6,5,6,10,8,4,10,7,6,5,6,4,6,7,6,8,7,6,7,9,7,6,8,11,5,8,6,6,7,7,9,6,5,8,6,8,7,7,6,7,7,7,7,5,7,8,8,5,10,7,8,5,8,6,6,9,8,8,6,6,5,7,6,9,6,9,6,8,6,8,6,8,5,7,7,6,6,4,7,5,6,5,8,8,7,8,7,6,6,7,6,5,6,5,6,8,7,9,7,8,9,8,6,7,11,6,8,6,6,8,10,6,7,7,7,5,5,7,6,7,8,7,8,8,5,5,6,6,4,9,8,7,7,7,8,6,8,13,6,5,5,10,9,5,9,6,8,10,7,8,7,9,6,5,6,6,8,8,5,7,9,7,6,11,6,6,9,4,8,7,9,9,6,7,8,10,6,8,9,7,8,4,7,9,8,4,6,7,9,6,8,8,6,8,8,8,8,5,8,4,8,5,5,9,8,8,6,7,8,7,8,6,7,8,9,5,10,9,8,7,8,7,7,6,7,6,6,5,8,6,6,7,6,8,6,6,5,5,8,5,7,8,9,6,10,8,5,4,7,7,8,9,6,6,7,7,7,6,7,10,4,9,6,5,7,5,7,6,6,4,7,6,10,8,6,5,9,6,5,5,7,6,6,5,5,8,6,6,6,6,8,10,8,6,6,9,9,6,7,7,7,8,7,8,5,9,8,10,6,8,9,6,7,7,5,9,6,8,5,5,4,6,6,7,7,8,7,11,5,7,6,9,6,6,5,9,6,9,10,7,6,9,7,6,9,10,9,8,6,7,8,6,8,6,6,7,8,8,6,7,7,7,8,8,6,8,6,7,9,6,9,9,7,5,7,8,7,4,6,7,5,7,4,7,6,11,7,5,5,5,6,6,7,6,6,10,6,6,7,5,6,7,5,5,5,6,5,6,10,8,3,9,6,7,6,10,9,6,6,6,6,5,6,6,5,6,6,6,6,8,5,7,9,7,6,6,6,11,4,7,6,6,8,8,6,6,7,4,7,5,8,6,6,10,6,5,10,8,6,8,6,9,6,6,9,8,3,7,8,8,7,7,5,6,7,6,7,9,7,5,5,7,5,7,10,7,6,6,7,7,8,8,10,6,6,7,5,6,5,6,8,8,6,7,5,4,3,8,6,10,5,8,6,9,6,6,6,4,9,6,7,9,6,8,6,6,9,9,6,9,8,5,7,7,5,5,6,9,7,7,5,6,6,9,5,6,4,8,8,10,6,5,6,4,6,9,7,6,5,4,5,9,10,8,8,7,7,7,6,7,8,8,8,5,7,6,7,6,9,8,8,8,7,6,6,10],\"type\":\"histogram\"}],                        {\"title\":{\"text\":\"My Histogram\"},\"template\":{\"data\":{\"histogram2dcontour\":[{\"type\":\"histogram2dcontour\",\"colorbar\":{\"outlinewidth\":0,\"ticks\":\"\"},\"colorscale\":[[0.0,\"#0d0887\"],[0.1111111111111111,\"#46039f\"],[0.2222222222222222,\"#7201a8\"],[0.3333333333333333,\"#9c179e\"],[0.4444444444444444,\"#bd3786\"],[0.5555555555555556,\"#d8576b\"],[0.6666666666666666,\"#ed7953\"],[0.7777777777777778,\"#fb9f3a\"],[0.8888888888888888,\"#fdca26\"],[1.0,\"#f0f921\"]]}],\"choropleth\":[{\"type\":\"choropleth\",\"colorbar\":{\"outlinewidth\":0,\"ticks\":\"\"}}],\"histogram2d\":[{\"type\":\"histogram2d\",\"colorbar\":{\"outlinewidth\":0,\"ticks\":\"\"},\"colorscale\":[[0.0,\"#0d0887\"],[0.1111111111111111,\"#46039f\"],[0.2222222222222222,\"#7201a8\"],[0.3333333333333333,\"#9c179e\"],[0.4444444444444444,\"#bd3786\"],[0.5555555555555556,\"#d8576b\"],[0.6666666666666666,\"#ed7953\"],[0.7777777777777778,\"#fb9f3a\"],[0.8888888888888888,\"#fdca26\"],[1.0,\"#f0f921\"]]}],\"heatmap\":[{\"type\":\"heatmap\",\"colorbar\":{\"outlinewidth\":0,\"ticks\":\"\"},\"colorscale\":[[0.0,\"#0d0887\"],[0.1111111111111111,\"#46039f\"],[0.2222222222222222,\"#7201a8\"],[0.3333333333333333,\"#9c179e\"],[0.4444444444444444,\"#bd3786\"],[0.5555555555555556,\"#d8576b\"],[0.6666666666666666,\"#ed7953\"],[0.7777777777777778,\"#fb9f3a\"],[0.8888888888888888,\"#fdca26\"],[1.0,\"#f0f921\"]]}],\"heatmapgl\":[{\"type\":\"heatmapgl\",\"colorbar\":{\"outlinewidth\":0,\"ticks\":\"\"},\"colorscale\":[[0.0,\"#0d0887\"],[0.1111111111111111,\"#46039f\"],[0.2222222222222222,\"#7201a8\"],[0.3333333333333333,\"#9c179e\"],[0.4444444444444444,\"#bd3786\"],[0.5555555555555556,\"#d8576b\"],[0.6666666666666666,\"#ed7953\"],[0.7777777777777778,\"#fb9f3a\"],[0.8888888888888888,\"#fdca26\"],[1.0,\"#f0f921\"]]}],\"contourcarpet\":[{\"type\":\"contourcarpet\",\"colorbar\":{\"outlinewidth\":0,\"ticks\":\"\"}}],\"contour\":[{\"type\":\"contour\",\"colorbar\":{\"outlinewidth\":0,\"ticks\":\"\"},\"colorscale\":[[0.0,\"#0d0887\"],[0.1111111111111111,\"#46039f\"],[0.2222222222222222,\"#7201a8\"],[0.3333333333333333,\"#9c179e\"],[0.4444444444444444,\"#bd3786\"],[0.5555555555555556,\"#d8576b\"],[0.6666666666666666,\"#ed7953\"],[0.7777777777777778,\"#fb9f3a\"],[0.8888888888888888,\"#fdca26\"],[1.0,\"#f0f921\"]]}],\"surface\":[{\"type\":\"surface\",\"colorbar\":{\"outlinewidth\":0,\"ticks\":\"\"},\"colorscale\":[[0.0,\"#0d0887\"],[0.1111111111111111,\"#46039f\"],[0.2222222222222222,\"#7201a8\"],[0.3333333333333333,\"#9c179e\"],[0.4444444444444444,\"#bd3786\"],[0.5555555555555556,\"#d8576b\"],[0.6666666666666666,\"#ed7953\"],[0.7777777777777778,\"#fb9f3a\"],[0.8888888888888888,\"#fdca26\"],[1.0,\"#f0f921\"]]}],\"mesh3d\":[{\"type\":\"mesh3d\",\"colorbar\":{\"outlinewidth\":0,\"ticks\":\"\"}}],\"scatter\":[{\"fillpattern\":{\"fillmode\":\"overlay\",\"size\":10,\"solidity\":0.2},\"type\":\"scatter\"}],\"parcoords\":[{\"type\":\"parcoords\",\"line\":{\"colorbar\":{\"outlinewidth\":0,\"ticks\":\"\"}}}],\"scatterpolargl\":[{\"type\":\"scatterpolargl\",\"marker\":{\"colorbar\":{\"outlinewidth\":0,\"ticks\":\"\"}}}],\"bar\":[{\"error_x\":{\"color\":\"#2a3f5f\"},\"error_y\":{\"color\":\"#2a3f5f\"},\"marker\":{\"line\":{\"color\":\"#E5ECF6\",\"width\":0.5},\"pattern\":{\"fillmode\":\"overlay\",\"size\":10,\"solidity\":0.2}},\"type\":\"bar\"}],\"scattergeo\":[{\"type\":\"scattergeo\",\"marker\":{\"colorbar\":{\"outlinewidth\":0,\"ticks\":\"\"}}}],\"scatterpolar\":[{\"type\":\"scatterpolar\",\"marker\":{\"colorbar\":{\"outlinewidth\":0,\"ticks\":\"\"}}}],\"histogram\":[{\"marker\":{\"pattern\":{\"fillmode\":\"overlay\",\"size\":10,\"solidity\":0.2}},\"type\":\"histogram\"}],\"scattergl\":[{\"type\":\"scattergl\",\"marker\":{\"colorbar\":{\"outlinewidth\":0,\"ticks\":\"\"}}}],\"scatter3d\":[{\"type\":\"scatter3d\",\"line\":{\"colorbar\":{\"outlinewidth\":0,\"ticks\":\"\"}},\"marker\":{\"colorbar\":{\"outlinewidth\":0,\"ticks\":\"\"}}}],\"scattermapbox\":[{\"type\":\"scattermapbox\",\"marker\":{\"colorbar\":{\"outlinewidth\":0,\"ticks\":\"\"}}}],\"scatterternary\":[{\"type\":\"scatterternary\",\"marker\":{\"colorbar\":{\"outlinewidth\":0,\"ticks\":\"\"}}}],\"scattercarpet\":[{\"type\":\"scattercarpet\",\"marker\":{\"colorbar\":{\"outlinewidth\":0,\"ticks\":\"\"}}}],\"carpet\":[{\"aaxis\":{\"endlinecolor\":\"#2a3f5f\",\"gridcolor\":\"white\",\"linecolor\":\"white\",\"minorgridcolor\":\"white\",\"startlinecolor\":\"#2a3f5f\"},\"baxis\":{\"endlinecolor\":\"#2a3f5f\",\"gridcolor\":\"white\",\"linecolor\":\"white\",\"minorgridcolor\":\"white\",\"startlinecolor\":\"#2a3f5f\"},\"type\":\"carpet\"}],\"table\":[{\"cells\":{\"fill\":{\"color\":\"#EBF0F8\"},\"line\":{\"color\":\"white\"}},\"header\":{\"fill\":{\"color\":\"#C8D4E3\"},\"line\":{\"color\":\"white\"}},\"type\":\"table\"}],\"barpolar\":[{\"marker\":{\"line\":{\"color\":\"#E5ECF6\",\"width\":0.5},\"pattern\":{\"fillmode\":\"overlay\",\"size\":10,\"solidity\":0.2}},\"type\":\"barpolar\"}],\"pie\":[{\"automargin\":true,\"type\":\"pie\"}]},\"layout\":{\"autotypenumbers\":\"strict\",\"colorway\":[\"#636efa\",\"#EF553B\",\"#00cc96\",\"#ab63fa\",\"#FFA15A\",\"#19d3f3\",\"#FF6692\",\"#B6E880\",\"#FF97FF\",\"#FECB52\"],\"font\":{\"color\":\"#2a3f5f\"},\"hovermode\":\"closest\",\"hoverlabel\":{\"align\":\"left\"},\"paper_bgcolor\":\"white\",\"plot_bgcolor\":\"#E5ECF6\",\"polar\":{\"bgcolor\":\"#E5ECF6\",\"angularaxis\":{\"gridcolor\":\"white\",\"linecolor\":\"white\",\"ticks\":\"\"},\"radialaxis\":{\"gridcolor\":\"white\",\"linecolor\":\"white\",\"ticks\":\"\"}},\"ternary\":{\"bgcolor\":\"#E5ECF6\",\"aaxis\":{\"gridcolor\":\"white\",\"linecolor\":\"white\",\"ticks\":\"\"},\"baxis\":{\"gridcolor\":\"white\",\"linecolor\":\"white\",\"ticks\":\"\"},\"caxis\":{\"gridcolor\":\"white\",\"linecolor\":\"white\",\"ticks\":\"\"}},\"coloraxis\":{\"colorbar\":{\"outlinewidth\":0,\"ticks\":\"\"}},\"colorscale\":{\"sequential\":[[0.0,\"#0d0887\"],[0.1111111111111111,\"#46039f\"],[0.2222222222222222,\"#7201a8\"],[0.3333333333333333,\"#9c179e\"],[0.4444444444444444,\"#bd3786\"],[0.5555555555555556,\"#d8576b\"],[0.6666666666666666,\"#ed7953\"],[0.7777777777777778,\"#fb9f3a\"],[0.8888888888888888,\"#fdca26\"],[1.0,\"#f0f921\"]],\"sequentialminus\":[[0.0,\"#0d0887\"],[0.1111111111111111,\"#46039f\"],[0.2222222222222222,\"#7201a8\"],[0.3333333333333333,\"#9c179e\"],[0.4444444444444444,\"#bd3786\"],[0.5555555555555556,\"#d8576b\"],[0.6666666666666666,\"#ed7953\"],[0.7777777777777778,\"#fb9f3a\"],[0.8888888888888888,\"#fdca26\"],[1.0,\"#f0f921\"]],\"diverging\":[[0,\"#8e0152\"],[0.1,\"#c51b7d\"],[0.2,\"#de77ae\"],[0.3,\"#f1b6da\"],[0.4,\"#fde0ef\"],[0.5,\"#f7f7f7\"],[0.6,\"#e6f5d0\"],[0.7,\"#b8e186\"],[0.8,\"#7fbc41\"],[0.9,\"#4d9221\"],[1,\"#276419\"]]},\"xaxis\":{\"gridcolor\":\"white\",\"linecolor\":\"white\",\"ticks\":\"\",\"title\":{\"standoff\":15},\"zerolinecolor\":\"white\",\"automargin\":true,\"zerolinewidth\":2},\"yaxis\":{\"gridcolor\":\"white\",\"linecolor\":\"white\",\"ticks\":\"\",\"title\":{\"standoff\":15},\"zerolinecolor\":\"white\",\"automargin\":true,\"zerolinewidth\":2},\"scene\":{\"xaxis\":{\"backgroundcolor\":\"#E5ECF6\",\"gridcolor\":\"white\",\"linecolor\":\"white\",\"showbackground\":true,\"ticks\":\"\",\"zerolinecolor\":\"white\",\"gridwidth\":2},\"yaxis\":{\"backgroundcolor\":\"#E5ECF6\",\"gridcolor\":\"white\",\"linecolor\":\"white\",\"showbackground\":true,\"ticks\":\"\",\"zerolinecolor\":\"white\",\"gridwidth\":2},\"zaxis\":{\"backgroundcolor\":\"#E5ECF6\",\"gridcolor\":\"white\",\"linecolor\":\"white\",\"showbackground\":true,\"ticks\":\"\",\"zerolinecolor\":\"white\",\"gridwidth\":2}},\"shapedefaults\":{\"line\":{\"color\":\"#2a3f5f\"}},\"annotationdefaults\":{\"arrowcolor\":\"#2a3f5f\",\"arrowhead\":0,\"arrowwidth\":1},\"geo\":{\"bgcolor\":\"white\",\"landcolor\":\"#E5ECF6\",\"subunitcolor\":\"white\",\"showland\":true,\"showlakes\":true,\"lakecolor\":\"white\"},\"title\":{\"x\":0.05},\"mapbox\":{\"style\":\"light\"}}},\"shapes\":[{\"line\":{\"color\":\"red\",\"dash\":\"dot\",\"width\":3},\"type\":\"line\",\"x0\":23,\"x1\":23,\"y0\":0,\"y1\":268}]},                        {\"responsive\": true}                    ).then(function(){\n",
       "                            \n",
       "var gd = document.getElementById('c2f8400b-b4a4-4f75-8341-b4b49d81f5ce');\n",
       "var x = new MutationObserver(function (mutations, observer) {{\n",
       "        var display = window.getComputedStyle(gd).display;\n",
       "        if (!display || display === 'none') {{\n",
       "            console.log([gd, 'removed!']);\n",
       "            Plotly.purge(gd);\n",
       "            observer.disconnect();\n",
       "        }}\n",
       "}});\n",
       "\n",
       "// Listen for the removal of the full notebook cells\n",
       "var notebookContainer = gd.closest('#notebook-container');\n",
       "if (notebookContainer) {{\n",
       "    x.observe(notebookContainer, {childList: true});\n",
       "}}\n",
       "\n",
       "// Listen for the clearing of the current output cell\n",
       "var outputEl = gd.closest('.output');\n",
       "if (outputEl) {{\n",
       "    x.observe(outputEl, {childList: true});\n",
       "}}\n",
       "\n",
       "                        })                };                            </script>        </div>\n",
       "</body>\n",
       "</html>"
      ]
     },
     "metadata": {},
     "output_type": "display_data"
    }
   ],
   "source": [
    "trace = go.Histogram(x=results, nbinsx=10)\n",
    "\n",
    "# Define the layout\n",
    "layout = go.Layout(title='My Histogram')\n",
    "\n",
    "# Create the figure\n",
    "fig = go.Figure(data=[trace], layout=layout)\n",
    "\n",
    "fig.add_shape(\n",
    "    type=\"line\",\n",
    "    x0=23,\n",
    "    y0=0,\n",
    "    x1=23,\n",
    "    y1=max(np.histogram(results, bins=30)[0]),\n",
    "    line=dict(\n",
    "        color=\"red\",\n",
    "        width=3,\n",
    "        dash=\"dot\",\n",
    "    )\n",
    ")\n",
    "\n",
    "# Show the figure\n",
    "fig.show()"
   ]
  },
  {
   "cell_type": "code",
   "execution_count": 93,
   "metadata": {
    "colab": {
     "base_uri": "https://localhost:8080/"
    },
    "id": "hw4O7pDjj2aq",
    "outputId": "ddd7ae80-7f87-443c-8820-07498411c4fc"
   },
   "outputs": [
    {
     "name": "stdout",
     "output_type": "stream",
     "text": [
      "Bus number         1\n",
      "Number of trips    5\n",
      "Name: 0, dtype: object\n",
      "255\n",
      "Bus number         2\n",
      "Number of trips    4\n",
      "Name: 1, dtype: object\n",
      "459\n",
      "Bus number         3\n",
      "Number of trips    4\n",
      "Name: 2, dtype: object\n",
      "663\n",
      "Bus number         4\n",
      "Number of trips    4\n",
      "Name: 3, dtype: object\n",
      "867\n",
      "Bus number         5\n",
      "Number of trips    4\n",
      "Name: 4, dtype: object\n",
      "1071\n",
      "Bus number         6\n",
      "Number of trips    4\n",
      "Name: 5, dtype: object\n",
      "1275\n",
      "Bus number         7\n",
      "Number of trips    3\n",
      "Name: 6, dtype: object\n",
      "1428\n",
      "7\n",
      "28\n"
     ]
    }
   ],
   "source": [
    "headway = 7\n",
    "time = 180\n",
    "speed = 20\n",
    "trip_distance = 11.57\n",
    "trip_time = trip_distance/(speed/60)\n",
    "\n",
    "\n",
    "number_of_trips = []\n",
    "\n",
    "buses = 7\n",
    "total_people = 1319\n",
    "trips = pd.DataFrame(columns=[\"Bus number\", \"Number of trips\"])\n",
    "\n",
    "for i in range(0, buses):\n",
    "  x = int(time/trip_time)\n",
    "  time = time - headway\n",
    "\n",
    "  dict1 = {'Bus number': [i+1], 'Number of trips': [x]}\n",
    "  df2 = pd.DataFrame(dict1)\n",
    "  trips = pd.concat([trips, df2], ignore_index = True)\n",
    "\n",
    "  trips.reset_index(drop = True)\n",
    "\n",
    "sum1 = 0\n",
    "for i, row in trips.iterrows():\n",
    "  print(row)\n",
    "  sum1 = sum1 + (row[\"Number of trips\"]*51)\n",
    "  print(sum1)\n",
    "  number_of_trips.append(int(row[\"Number of trips\"]))\n",
    "  if sum1 > total_people:\n",
    "    print(row[\"Bus number\"])\n",
    "    break\n",
    "# print(trips.head(20))\n",
    "print(sum(number_of_trips))"
   ]
  },
  {
   "cell_type": "code",
   "execution_count": 40,
   "metadata": {
    "id": "wol4SNo4kKy6"
   },
   "outputs": [],
   "source": [
    "people_getting_on2 = [0, 136,196,240,695,748,1032,1113,1254,1278,1319,1296,1197,1162,1020,973,673,403,340,259,138]\n",
    "percent_full2 = []\n",
    "\n",
    "for i in people_getting_on2:\n",
    "  x = round(i/(sum(number_of_trips)*51), 2)\n",
    "  if x <= 1.0:\n",
    "    percent_full2.append(x)\n",
    "  else:\n",
    "    percent_full2.append(1.0)"
   ]
  },
  {
   "cell_type": "code",
   "execution_count": 41,
   "metadata": {
    "colab": {
     "base_uri": "https://localhost:8080/",
     "height": 935
    },
    "id": "P_VlgFHclKPD",
    "outputId": "5de3f98b-a76d-4d63-a94d-c52c12e0b6a9"
   },
   "outputs": [
    {
     "name": "stdout",
     "output_type": "stream",
     "text": [
      "0.0\n",
      "0.11\n",
      "0.15\n",
      "0.19\n",
      "0.55\n",
      "0.59\n",
      "0.81\n",
      "0.87\n",
      "0.98\n",
      "1.0\n",
      "1.0\n",
      "1.0\n",
      "0.94\n",
      "0.91\n",
      "0.8\n",
      "0.76\n",
      "0.53\n",
      "0.32\n",
      "0.27\n",
      "0.2\n",
      "0.11\n",
      "[0, 5, 7, 9, 28, 30, 41, 44, 49, 51, 51, 51, 47, 46, 40, 38, 27, 16, 13, 10, 5]\n"
     ]
    },
    {
     "data": {
      "text/html": [
       "<html>\n",
       "<head><meta charset=\"utf-8\" /></head>\n",
       "<body>\n",
       "    <div>            <script src=\"https://cdnjs.cloudflare.com/ajax/libs/mathjax/2.7.5/MathJax.js?config=TeX-AMS-MML_SVG\"></script><script type=\"text/javascript\">if (window.MathJax && window.MathJax.Hub && window.MathJax.Hub.Config) {window.MathJax.Hub.Config({SVG: {font: \"STIX-Web\"}});}</script>                <script type=\"text/javascript\">window.PlotlyConfig = {MathJaxConfig: 'local'};</script>\n",
       "        <script src=\"https://cdn.plot.ly/plotly-2.18.2.min.js\"></script>                <div id=\"aec5745b-5972-420b-8f38-647b6f9f3c62\" class=\"plotly-graph-div\" style=\"height:525px; width:100%;\"></div>            <script type=\"text/javascript\">                                    window.PLOTLYENV=window.PLOTLYENV || {};                                    if (document.getElementById(\"aec5745b-5972-420b-8f38-647b6f9f3c62\")) {                    Plotly.newPlot(                        \"aec5745b-5972-420b-8f38-647b6f9f3c62\",                        [{\"x\":[\"Rajiv Gandhi\",\"Mata Gujri\",\"Vishnupuri\",\"Bhanwarkuan Square\",\"Holkar Subway\",\"Navlakha Square\",\"Indra Pratima\",\"GPO\",\"Shivaji Vatika\",\"AICTSL\",\"Geeta Bhawan\",\"Palasiya\",\"Industry House\",\"LIG\",\"Press Complex\",\"MR-9\",\"Vijay Nagar\",\"Satya Sai\",\"Shalimar Township\",\"Scheme No. 78\",\"Niranjanpur Square\"],\"y\":[0,5,7,9,28,30,41,44,49,51,51,51,47,46,40,38,27,16,13,10,5],\"type\":\"bar\"}],                        {\"title\":{\"text\":\"Passenger Distribution per bus per stop\"},\"template\":{\"data\":{\"histogram2dcontour\":[{\"type\":\"histogram2dcontour\",\"colorbar\":{\"outlinewidth\":0,\"ticks\":\"\"},\"colorscale\":[[0.0,\"#0d0887\"],[0.1111111111111111,\"#46039f\"],[0.2222222222222222,\"#7201a8\"],[0.3333333333333333,\"#9c179e\"],[0.4444444444444444,\"#bd3786\"],[0.5555555555555556,\"#d8576b\"],[0.6666666666666666,\"#ed7953\"],[0.7777777777777778,\"#fb9f3a\"],[0.8888888888888888,\"#fdca26\"],[1.0,\"#f0f921\"]]}],\"choropleth\":[{\"type\":\"choropleth\",\"colorbar\":{\"outlinewidth\":0,\"ticks\":\"\"}}],\"histogram2d\":[{\"type\":\"histogram2d\",\"colorbar\":{\"outlinewidth\":0,\"ticks\":\"\"},\"colorscale\":[[0.0,\"#0d0887\"],[0.1111111111111111,\"#46039f\"],[0.2222222222222222,\"#7201a8\"],[0.3333333333333333,\"#9c179e\"],[0.4444444444444444,\"#bd3786\"],[0.5555555555555556,\"#d8576b\"],[0.6666666666666666,\"#ed7953\"],[0.7777777777777778,\"#fb9f3a\"],[0.8888888888888888,\"#fdca26\"],[1.0,\"#f0f921\"]]}],\"heatmap\":[{\"type\":\"heatmap\",\"colorbar\":{\"outlinewidth\":0,\"ticks\":\"\"},\"colorscale\":[[0.0,\"#0d0887\"],[0.1111111111111111,\"#46039f\"],[0.2222222222222222,\"#7201a8\"],[0.3333333333333333,\"#9c179e\"],[0.4444444444444444,\"#bd3786\"],[0.5555555555555556,\"#d8576b\"],[0.6666666666666666,\"#ed7953\"],[0.7777777777777778,\"#fb9f3a\"],[0.8888888888888888,\"#fdca26\"],[1.0,\"#f0f921\"]]}],\"heatmapgl\":[{\"type\":\"heatmapgl\",\"colorbar\":{\"outlinewidth\":0,\"ticks\":\"\"},\"colorscale\":[[0.0,\"#0d0887\"],[0.1111111111111111,\"#46039f\"],[0.2222222222222222,\"#7201a8\"],[0.3333333333333333,\"#9c179e\"],[0.4444444444444444,\"#bd3786\"],[0.5555555555555556,\"#d8576b\"],[0.6666666666666666,\"#ed7953\"],[0.7777777777777778,\"#fb9f3a\"],[0.8888888888888888,\"#fdca26\"],[1.0,\"#f0f921\"]]}],\"contourcarpet\":[{\"type\":\"contourcarpet\",\"colorbar\":{\"outlinewidth\":0,\"ticks\":\"\"}}],\"contour\":[{\"type\":\"contour\",\"colorbar\":{\"outlinewidth\":0,\"ticks\":\"\"},\"colorscale\":[[0.0,\"#0d0887\"],[0.1111111111111111,\"#46039f\"],[0.2222222222222222,\"#7201a8\"],[0.3333333333333333,\"#9c179e\"],[0.4444444444444444,\"#bd3786\"],[0.5555555555555556,\"#d8576b\"],[0.6666666666666666,\"#ed7953\"],[0.7777777777777778,\"#fb9f3a\"],[0.8888888888888888,\"#fdca26\"],[1.0,\"#f0f921\"]]}],\"surface\":[{\"type\":\"surface\",\"colorbar\":{\"outlinewidth\":0,\"ticks\":\"\"},\"colorscale\":[[0.0,\"#0d0887\"],[0.1111111111111111,\"#46039f\"],[0.2222222222222222,\"#7201a8\"],[0.3333333333333333,\"#9c179e\"],[0.4444444444444444,\"#bd3786\"],[0.5555555555555556,\"#d8576b\"],[0.6666666666666666,\"#ed7953\"],[0.7777777777777778,\"#fb9f3a\"],[0.8888888888888888,\"#fdca26\"],[1.0,\"#f0f921\"]]}],\"mesh3d\":[{\"type\":\"mesh3d\",\"colorbar\":{\"outlinewidth\":0,\"ticks\":\"\"}}],\"scatter\":[{\"fillpattern\":{\"fillmode\":\"overlay\",\"size\":10,\"solidity\":0.2},\"type\":\"scatter\"}],\"parcoords\":[{\"type\":\"parcoords\",\"line\":{\"colorbar\":{\"outlinewidth\":0,\"ticks\":\"\"}}}],\"scatterpolargl\":[{\"type\":\"scatterpolargl\",\"marker\":{\"colorbar\":{\"outlinewidth\":0,\"ticks\":\"\"}}}],\"bar\":[{\"error_x\":{\"color\":\"#2a3f5f\"},\"error_y\":{\"color\":\"#2a3f5f\"},\"marker\":{\"line\":{\"color\":\"#E5ECF6\",\"width\":0.5},\"pattern\":{\"fillmode\":\"overlay\",\"size\":10,\"solidity\":0.2}},\"type\":\"bar\"}],\"scattergeo\":[{\"type\":\"scattergeo\",\"marker\":{\"colorbar\":{\"outlinewidth\":0,\"ticks\":\"\"}}}],\"scatterpolar\":[{\"type\":\"scatterpolar\",\"marker\":{\"colorbar\":{\"outlinewidth\":0,\"ticks\":\"\"}}}],\"histogram\":[{\"marker\":{\"pattern\":{\"fillmode\":\"overlay\",\"size\":10,\"solidity\":0.2}},\"type\":\"histogram\"}],\"scattergl\":[{\"type\":\"scattergl\",\"marker\":{\"colorbar\":{\"outlinewidth\":0,\"ticks\":\"\"}}}],\"scatter3d\":[{\"type\":\"scatter3d\",\"line\":{\"colorbar\":{\"outlinewidth\":0,\"ticks\":\"\"}},\"marker\":{\"colorbar\":{\"outlinewidth\":0,\"ticks\":\"\"}}}],\"scattermapbox\":[{\"type\":\"scattermapbox\",\"marker\":{\"colorbar\":{\"outlinewidth\":0,\"ticks\":\"\"}}}],\"scatterternary\":[{\"type\":\"scatterternary\",\"marker\":{\"colorbar\":{\"outlinewidth\":0,\"ticks\":\"\"}}}],\"scattercarpet\":[{\"type\":\"scattercarpet\",\"marker\":{\"colorbar\":{\"outlinewidth\":0,\"ticks\":\"\"}}}],\"carpet\":[{\"aaxis\":{\"endlinecolor\":\"#2a3f5f\",\"gridcolor\":\"white\",\"linecolor\":\"white\",\"minorgridcolor\":\"white\",\"startlinecolor\":\"#2a3f5f\"},\"baxis\":{\"endlinecolor\":\"#2a3f5f\",\"gridcolor\":\"white\",\"linecolor\":\"white\",\"minorgridcolor\":\"white\",\"startlinecolor\":\"#2a3f5f\"},\"type\":\"carpet\"}],\"table\":[{\"cells\":{\"fill\":{\"color\":\"#EBF0F8\"},\"line\":{\"color\":\"white\"}},\"header\":{\"fill\":{\"color\":\"#C8D4E3\"},\"line\":{\"color\":\"white\"}},\"type\":\"table\"}],\"barpolar\":[{\"marker\":{\"line\":{\"color\":\"#E5ECF6\",\"width\":0.5},\"pattern\":{\"fillmode\":\"overlay\",\"size\":10,\"solidity\":0.2}},\"type\":\"barpolar\"}],\"pie\":[{\"automargin\":true,\"type\":\"pie\"}]},\"layout\":{\"autotypenumbers\":\"strict\",\"colorway\":[\"#636efa\",\"#EF553B\",\"#00cc96\",\"#ab63fa\",\"#FFA15A\",\"#19d3f3\",\"#FF6692\",\"#B6E880\",\"#FF97FF\",\"#FECB52\"],\"font\":{\"color\":\"#2a3f5f\"},\"hovermode\":\"closest\",\"hoverlabel\":{\"align\":\"left\"},\"paper_bgcolor\":\"white\",\"plot_bgcolor\":\"#E5ECF6\",\"polar\":{\"bgcolor\":\"#E5ECF6\",\"angularaxis\":{\"gridcolor\":\"white\",\"linecolor\":\"white\",\"ticks\":\"\"},\"radialaxis\":{\"gridcolor\":\"white\",\"linecolor\":\"white\",\"ticks\":\"\"}},\"ternary\":{\"bgcolor\":\"#E5ECF6\",\"aaxis\":{\"gridcolor\":\"white\",\"linecolor\":\"white\",\"ticks\":\"\"},\"baxis\":{\"gridcolor\":\"white\",\"linecolor\":\"white\",\"ticks\":\"\"},\"caxis\":{\"gridcolor\":\"white\",\"linecolor\":\"white\",\"ticks\":\"\"}},\"coloraxis\":{\"colorbar\":{\"outlinewidth\":0,\"ticks\":\"\"}},\"colorscale\":{\"sequential\":[[0.0,\"#0d0887\"],[0.1111111111111111,\"#46039f\"],[0.2222222222222222,\"#7201a8\"],[0.3333333333333333,\"#9c179e\"],[0.4444444444444444,\"#bd3786\"],[0.5555555555555556,\"#d8576b\"],[0.6666666666666666,\"#ed7953\"],[0.7777777777777778,\"#fb9f3a\"],[0.8888888888888888,\"#fdca26\"],[1.0,\"#f0f921\"]],\"sequentialminus\":[[0.0,\"#0d0887\"],[0.1111111111111111,\"#46039f\"],[0.2222222222222222,\"#7201a8\"],[0.3333333333333333,\"#9c179e\"],[0.4444444444444444,\"#bd3786\"],[0.5555555555555556,\"#d8576b\"],[0.6666666666666666,\"#ed7953\"],[0.7777777777777778,\"#fb9f3a\"],[0.8888888888888888,\"#fdca26\"],[1.0,\"#f0f921\"]],\"diverging\":[[0,\"#8e0152\"],[0.1,\"#c51b7d\"],[0.2,\"#de77ae\"],[0.3,\"#f1b6da\"],[0.4,\"#fde0ef\"],[0.5,\"#f7f7f7\"],[0.6,\"#e6f5d0\"],[0.7,\"#b8e186\"],[0.8,\"#7fbc41\"],[0.9,\"#4d9221\"],[1,\"#276419\"]]},\"xaxis\":{\"gridcolor\":\"white\",\"linecolor\":\"white\",\"ticks\":\"\",\"title\":{\"standoff\":15},\"zerolinecolor\":\"white\",\"automargin\":true,\"zerolinewidth\":2},\"yaxis\":{\"gridcolor\":\"white\",\"linecolor\":\"white\",\"ticks\":\"\",\"title\":{\"standoff\":15},\"zerolinecolor\":\"white\",\"automargin\":true,\"zerolinewidth\":2},\"scene\":{\"xaxis\":{\"backgroundcolor\":\"#E5ECF6\",\"gridcolor\":\"white\",\"linecolor\":\"white\",\"showbackground\":true,\"ticks\":\"\",\"zerolinecolor\":\"white\",\"gridwidth\":2},\"yaxis\":{\"backgroundcolor\":\"#E5ECF6\",\"gridcolor\":\"white\",\"linecolor\":\"white\",\"showbackground\":true,\"ticks\":\"\",\"zerolinecolor\":\"white\",\"gridwidth\":2},\"zaxis\":{\"backgroundcolor\":\"#E5ECF6\",\"gridcolor\":\"white\",\"linecolor\":\"white\",\"showbackground\":true,\"ticks\":\"\",\"zerolinecolor\":\"white\",\"gridwidth\":2}},\"shapedefaults\":{\"line\":{\"color\":\"#2a3f5f\"}},\"annotationdefaults\":{\"arrowcolor\":\"#2a3f5f\",\"arrowhead\":0,\"arrowwidth\":1},\"geo\":{\"bgcolor\":\"white\",\"landcolor\":\"#E5ECF6\",\"subunitcolor\":\"white\",\"showland\":true,\"showlakes\":true,\"lakecolor\":\"white\"},\"title\":{\"x\":0.05},\"mapbox\":{\"style\":\"light\"}}}},                        {\"responsive\": true}                    ).then(function(){\n",
       "                            \n",
       "var gd = document.getElementById('aec5745b-5972-420b-8f38-647b6f9f3c62');\n",
       "var x = new MutationObserver(function (mutations, observer) {{\n",
       "        var display = window.getComputedStyle(gd).display;\n",
       "        if (!display || display === 'none') {{\n",
       "            console.log([gd, 'removed!']);\n",
       "            Plotly.purge(gd);\n",
       "            observer.disconnect();\n",
       "        }}\n",
       "}});\n",
       "\n",
       "// Listen for the removal of the full notebook cells\n",
       "var notebookContainer = gd.closest('#notebook-container');\n",
       "if (notebookContainer) {{\n",
       "    x.observe(notebookContainer, {childList: true});\n",
       "}}\n",
       "\n",
       "// Listen for the clearing of the current output cell\n",
       "var outputEl = gd.closest('.output');\n",
       "if (outputEl) {{\n",
       "    x.observe(outputEl, {childList: true});\n",
       "}}\n",
       "\n",
       "                        })                };                            </script>        </div>\n",
       "</body>\n",
       "</html>"
      ]
     },
     "metadata": {},
     "output_type": "display_data"
    }
   ],
   "source": [
    "dist2 = []\n",
    "for i in percent_full2:\n",
    "  dist2.append(int(i * 51))\n",
    "print(dist2)\n",
    "\n",
    "top_names = ['Rajiv Gandhi',\n",
    " 'Mata Gujri',\n",
    " 'Vishnupuri',\n",
    " 'Bhanwarkuan Square',\n",
    " 'Holkar Subway',\n",
    " 'Navlakha Square',\n",
    " 'Indra Pratima',\n",
    " 'GPO',\n",
    " 'Shivaji Vatika',\n",
    " 'AICTSL',\n",
    " 'Geeta Bhawan',\n",
    " 'Palasiya',\n",
    " 'Industry House',\n",
    " 'LIG',\n",
    " 'Press Complex',\n",
    " 'MR-9',\n",
    " 'Vijay Nagar',\n",
    " 'Satya Sai',\n",
    " 'Shalimar Township',\n",
    " 'Scheme No. 78',\n",
    " 'Niranjanpur Square']\n",
    "\n",
    "trace2 = go.Bar(x=stop_names, y=dist2)\n",
    "layout2 = go.Layout(title='Passenger Distribution per bus per stop')\n",
    "fig = go.Figure(data=[trace2], layout=layout2)\n",
    "fig.show()"
   ]
  },
  {
   "cell_type": "code",
   "execution_count": null,
   "metadata": {
    "id": "1yGoNYCs6lUy"
   },
   "outputs": [],
   "source": []
  }
 ],
 "metadata": {
  "colab": {
   "provenance": []
  },
  "kernelspec": {
   "display_name": "Python 3 (ipykernel)",
   "language": "python",
   "name": "python3"
  },
  "language_info": {
   "codemirror_mode": {
    "name": "ipython",
    "version": 3
   },
   "file_extension": ".py",
   "mimetype": "text/x-python",
   "name": "python",
   "nbconvert_exporter": "python",
   "pygments_lexer": "ipython3",
   "version": "3.9.13"
  }
 },
 "nbformat": 4,
 "nbformat_minor": 1
}
